{
 "cells": [
  {
   "cell_type": "markdown",
   "id": "ea42099a",
   "metadata": {},
   "source": [
    "# Ungraded Lab:  Overfitting \n",
    "\n",
    "<img align=\"left\" src=\"./images/C1_W3_Overfitting_a.png\"     style=\" width:250px; padding: 10px; \" >\n",
    "<img align=\"left\" src=\"./images/C1_W3_Overfitting_b.png\"     style=\" width:250px; padding: 10px; \" >\n",
    "<img align=\"left\" src=\"./images/C1_W3_Overfitting_c.png\"     style=\" width:250px; padding: 10px; \" >"
   ]
  },
  {
   "cell_type": "markdown",
   "id": "9cdaf71e",
   "metadata": {},
   "source": [
    "## Goals\n",
    "In this lab, you will explore:\n",
    "- the situations where overfitting can occur\n",
    "- some of the solutions"
   ]
  },
  {
   "cell_type": "code",
   "execution_count": 2,
   "id": "b26370eb",
   "metadata": {
    "execution": {
     "iopub.execute_input": "2024-05-23T11:06:49.263909Z",
     "iopub.status.busy": "2024-05-23T11:06:49.263909Z",
     "iopub.status.idle": "2024-05-23T11:06:50.312155Z",
     "shell.execute_reply": "2024-05-23T11:06:50.312155Z",
     "shell.execute_reply.started": "2024-05-23T11:06:49.263909Z"
    }
   },
   "outputs": [
    {
     "ename": "NameError",
     "evalue": "name 'Output' is not defined",
     "output_type": "error",
     "traceback": [
      "\u001b[1;31m---------------------------------------------------------------------------\u001b[0m",
      "\u001b[1;31mNameError\u001b[0m                                 Traceback (most recent call last)",
      "Cell \u001b[1;32mIn[2], line 2\u001b[0m\n\u001b[0;32m      1\u001b[0m \u001b[38;5;28;01mimport\u001b[39;00m \u001b[38;5;21;01mmatplotlib\u001b[39;00m\u001b[38;5;21;01m.\u001b[39;00m\u001b[38;5;21;01mpyplot\u001b[39;00m \u001b[38;5;28;01mas\u001b[39;00m \u001b[38;5;21;01mplt\u001b[39;00m\n\u001b[1;32m----> 2\u001b[0m \u001b[38;5;28;01mfrom\u001b[39;00m \u001b[38;5;21;01mplt_overfit\u001b[39;00m \u001b[38;5;28;01mimport\u001b[39;00m overfit_example, output\n\u001b[0;32m      3\u001b[0m plt\u001b[38;5;241m.\u001b[39mstyle\u001b[38;5;241m.\u001b[39muse(\u001b[38;5;124m'\u001b[39m\u001b[38;5;124m./deeplearning.mplstyle\u001b[39m\u001b[38;5;124m'\u001b[39m)\n",
      "File \u001b[1;32mD:\\Supervised-Machine-Learning-Regression-and-Classification\\Week 03\\plt_overfit.py:116\u001b[0m\n\u001b[0;32m    107\u001b[0m     plt\u001b[38;5;241m.\u001b[39mcontour(xx, yy, Z, colors\u001b[38;5;241m=\u001b[39m\u001b[38;5;124m'\u001b[39m\u001b[38;5;124mg\u001b[39m\u001b[38;5;124m'\u001b[39m)\n\u001b[0;32m    108\u001b[0m     \u001b[38;5;66;03m#plot_data(X_train,y_train)\u001b[39;00m\n\u001b[0;32m    109\u001b[0m \n\u001b[0;32m    110\u001b[0m \u001b[38;5;66;03m#for debug, uncomment the #@output statments below for routines you want to get error output from\u001b[39;00m\n\u001b[1;32m   (...)\u001b[0m\n\u001b[0;32m    113\u001b[0m \u001b[38;5;66;03m# then, in a cell where the error messages will be the output of..\u001b[39;00m\n\u001b[0;32m    114\u001b[0m \u001b[38;5;66;03m#display(output)\u001b[39;00m\n\u001b[1;32m--> 116\u001b[0m output \u001b[38;5;241m=\u001b[39m \u001b[43mOutput\u001b[49m() \u001b[38;5;66;03m# sends hidden error messages to display when using widgets\u001b[39;00m\n\u001b[0;32m    118\u001b[0m \u001b[38;5;28;01mclass\u001b[39;00m \u001b[38;5;21;01mbutton_manager\u001b[39;00m:\n\u001b[0;32m    119\u001b[0m \u001b[38;5;250m    \u001b[39m\u001b[38;5;124;03m''' Handles some missing features of matplotlib check buttons\u001b[39;00m\n\u001b[0;32m    120\u001b[0m \u001b[38;5;124;03m    on init:\u001b[39;00m\n\u001b[0;32m    121\u001b[0m \u001b[38;5;124;03m        creates button, links to button_click routine,\u001b[39;00m\n\u001b[1;32m   (...)\u001b[0m\n\u001b[0;32m    124\u001b[0m \u001b[38;5;124;03m        maintains single button on state, calls call_on_click\u001b[39;00m\n\u001b[0;32m    125\u001b[0m \u001b[38;5;124;03m    '''\u001b[39;00m\n",
      "\u001b[1;31mNameError\u001b[0m: name 'Output' is not defined"
     ]
    }
   ],
   "source": [
    "import matplotlib.pyplot as plt\n",
    "from plt_overfit import overfit_example, output\n",
    "plt.style.use('./deeplearning.mplstyle')"
   ]
  },
  {
   "cell_type": "markdown",
   "id": "33d52683",
   "metadata": {},
   "source": [
    "# Overfitting\n",
    "The week's lecture described situations where overfitting can arise. Run the cell below to generate a plot that will allow you to explore overfitting. There are further instructions below the cell."
   ]
  },
  {
   "cell_type": "code",
   "execution_count": 3,
   "id": "9a262614",
   "metadata": {
    "execution": {
     "iopub.execute_input": "2024-05-23T11:06:56.733903Z",
     "iopub.status.busy": "2024-05-23T11:06:56.733903Z",
     "iopub.status.idle": "2024-05-23T11:06:56.763330Z",
     "shell.execute_reply": "2024-05-23T11:06:56.762313Z",
     "shell.execute_reply.started": "2024-05-23T11:06:56.733903Z"
    }
   },
   "outputs": [
    {
     "ename": "NameError",
     "evalue": "name 'output' is not defined",
     "output_type": "error",
     "traceback": [
      "\u001b[1;31m---------------------------------------------------------------------------\u001b[0m",
      "\u001b[1;31mNameError\u001b[0m                                 Traceback (most recent call last)",
      "Cell \u001b[1;32mIn[3], line 2\u001b[0m\n\u001b[0;32m      1\u001b[0m plt\u001b[38;5;241m.\u001b[39mclose(\u001b[38;5;124m\"\u001b[39m\u001b[38;5;124mall\u001b[39m\u001b[38;5;124m\"\u001b[39m)\n\u001b[1;32m----> 2\u001b[0m display(\u001b[43moutput\u001b[49m)\n\u001b[0;32m      3\u001b[0m ofit \u001b[38;5;241m=\u001b[39m overfit_example(\u001b[38;5;28;01mFalse\u001b[39;00m)\n",
      "\u001b[1;31mNameError\u001b[0m: name 'output' is not defined"
     ]
    }
   ],
   "source": [
    "plt.close(\"all\")\n",
    "display(output)\n",
    "ofit = overfit_example(False)"
   ]
  },
  {
   "cell_type": "markdown",
   "id": "05613cca",
   "metadata": {},
   "source": [
    "In the plot above you can:\n",
    "- switch between Regression and Categorization examples\n",
    "- add data\n",
    "- select the degree of the model\n",
    "- fit the model to the data  \n",
    "\n",
    "Here are some things you should try:\n",
    "- Fit the data with degree = 1; Note 'underfitting'.\n",
    "- Fit the data with degree = 6; Note 'overfitting'\n",
    "- tune degree to get the 'best fit'\n",
    "- add data:\n",
    "    - extreme examples can increase overfitting (assuming they are outliers).\n",
    "    - nominal examples can reduce overfitting\n",
    "- switch between `Regression` and `Categorical` to try both examples.\n",
    "\n",
    "To reset the plot, re-run the cell. Click slowly to allow the plot to update before receiving the next click.\n",
    "\n",
    "Notes on implementations:\n",
    "- the 'ideal' curves represent the generator model to which noise was added to achieve the data set\n",
    "- 'fit' does not use pure gradient descent to improve speed. These methods can be used on smaller data sets. "
   ]
  },
  {
   "cell_type": "markdown",
   "id": "48fdca3f",
   "metadata": {},
   "source": [
    "## Congratulations!\n",
    "You have developed some intuition about the causes and solutions to overfitting. In the next lab, you will explore a commonly used solution, Regularization."
   ]
  },
  {
   "cell_type": "code",
   "execution_count": null,
   "id": "8186e822",
   "metadata": {},
   "outputs": [],
   "source": []
  }
 ],
 "metadata": {
  "kernelspec": {
   "display_name": "Python 3 (ipykernel)",
   "language": "python",
   "name": "python3"
  },
  "language_info": {
   "codemirror_mode": {
    "name": "ipython",
    "version": 3
   },
   "file_extension": ".py",
   "mimetype": "text/x-python",
   "name": "python",
   "nbconvert_exporter": "python",
   "pygments_lexer": "ipython3",
   "version": "3.12.3"
  }
 },
 "nbformat": 4,
 "nbformat_minor": 5
}
