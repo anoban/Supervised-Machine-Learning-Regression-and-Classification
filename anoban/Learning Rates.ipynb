{
 "cells": [
  {
   "cell_type": "markdown",
   "id": "23b05726-62d1-41c4-a355-7091b2e67b93",
   "metadata": {},
   "source": [
    "# ___Learning Rates___\n",
    "-------------------"
   ]
  },
  {
   "cell_type": "code",
   "execution_count": 1,
   "id": "1dcc9e7b-e6e8-4213-b0b4-65bd1236f762",
   "metadata": {
    "execution": {
     "iopub.execute_input": "2024-05-15T05:50:00.401643Z",
     "iopub.status.busy": "2024-05-15T05:50:00.401643Z",
     "iopub.status.idle": "2024-05-15T05:50:00.411665Z",
     "shell.execute_reply": "2024-05-15T05:50:00.411665Z",
     "shell.execute_reply.started": "2024-05-15T05:50:00.401643Z"
    }
   },
   "outputs": [],
   "source": [
    "# learning rate is very critical in machine learning models' perofrmance and prediction accuracy\n",
    "# if alpha is very small, gradient descent may take too long\n",
    "# if it is too large, gradient descent may not even converge"
   ]
  },
  {
   "cell_type": "code",
   "execution_count": null,
   "id": "ecfbc566-6fc6-4d79-b119-be49b2f2a923",
   "metadata": {},
   "outputs": [],
   "source": []
  }
 ],
 "metadata": {
  "kernelspec": {
   "display_name": "Python 3 (ipykernel)",
   "language": "python",
   "name": "python3"
  },
  "language_info": {
   "codemirror_mode": {
    "name": "ipython",
    "version": 3
   },
   "file_extension": ".py",
   "mimetype": "text/x-python",
   "name": "python",
   "nbconvert_exporter": "python",
   "pygments_lexer": "ipython3",
   "version": "3.12.3"
  }
 },
 "nbformat": 4,
 "nbformat_minor": 5
}
