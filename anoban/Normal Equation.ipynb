{
 "cells": [
  {
   "cell_type": "code",
   "execution_count": 1,
   "id": "954d46b3-8d54-48e2-906c-e43b32b88259",
   "metadata": {
    "execution": {
     "iopub.execute_input": "2024-04-19T05:07:22.772349Z",
     "iopub.status.busy": "2024-04-19T05:07:22.772349Z",
     "iopub.status.idle": "2024-04-19T05:07:22.788866Z",
     "shell.execute_reply": "2024-04-19T05:07:22.788866Z",
     "shell.execute_reply.started": "2024-04-19T05:07:22.772349Z"
    }
   },
   "outputs": [],
   "source": [
    "# Gradient descent is a good method to infer coefficients and the bias from a training dataset, there's another algorithm that works \n",
    "# as an alternative to gradient descent, only for linear regression!\n",
    "# this is called the NORMAL EQUATION method!\n",
    "# for every machine learning algorithm except linear regression, normal equation will not work!"
   ]
  },
  {
   "cell_type": "code",
   "execution_count": 2,
   "id": "fb843cfb-a679-4ab0-ae63-bf5b890398b6",
   "metadata": {
    "execution": {
     "iopub.execute_input": "2024-04-19T05:09:46.576733Z",
     "iopub.status.busy": "2024-04-19T05:09:46.576733Z",
     "iopub.status.idle": "2024-04-19T05:09:46.588810Z",
     "shell.execute_reply": "2024-04-19T05:09:46.588810Z",
     "shell.execute_reply.started": "2024-04-19T05:09:46.576733Z"
    }
   },
   "outputs": [],
   "source": [
    "# many advanced linear algebra libraries use this normal equation method under the hood in their linear regression APIs!\n",
    "# but this method is not without its caveats!\n",
    "# this method does not generalize to other learning algorithms like logistic regression, neural networks, support vector machines ..etc\n",
    "# and this approach becomes very slow when the datsaet has numerous predictor variables!"
   ]
  },
  {
   "cell_type": "code",
   "execution_count": null,
   "id": "dfeaf154-34f1-4d28-8cef-60e1b4e4bb0c",
   "metadata": {},
   "outputs": [],
   "source": []
  }
 ],
 "metadata": {
  "kernelspec": {
   "display_name": "Python 3 (ipykernel)",
   "language": "python",
   "name": "python3"
  },
  "language_info": {
   "codemirror_mode": {
    "name": "ipython",
    "version": 3
   },
   "file_extension": ".py",
   "mimetype": "text/x-python",
   "name": "python",
   "nbconvert_exporter": "python",
   "pygments_lexer": "ipython3",
   "version": "3.12.3"
  }
 },
 "nbformat": 4,
 "nbformat_minor": 5
}
