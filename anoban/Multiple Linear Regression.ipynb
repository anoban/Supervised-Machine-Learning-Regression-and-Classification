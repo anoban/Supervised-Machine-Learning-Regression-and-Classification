{
 "cells": [
  {
   "cell_type": "markdown",
   "id": "205a1f5e-5d66-465e-9ceb-da57972aab6e",
   "metadata": {},
   "source": [
    "## ___Multiple Linear Regression___\n",
    "--------------------"
   ]
  },
  {
   "cell_type": "code",
   "execution_count": 1,
   "id": "4345d436-fe60-4ce1-9a4b-874615641c4f",
   "metadata": {
    "execution": {
     "iopub.execute_input": "2024-04-18T04:48:35.362932Z",
     "iopub.status.busy": "2024-04-18T04:48:35.362932Z",
     "iopub.status.idle": "2024-04-18T04:48:35.375349Z",
     "shell.execute_reply": "2024-04-18T04:48:35.375349Z",
     "shell.execute_reply.started": "2024-04-18T04:48:35.362932Z"
    }
   },
   "outputs": [],
   "source": [
    "# again, linear regression on datasets having multiple predictors is not multivariate linear regression\n",
    "# IT IS MULTIPLE LINEAR REGRESSION!"
   ]
  },
  {
   "cell_type": "code",
   "execution_count": null,
   "id": "9b499a70-92c9-48ba-92f2-744e6a06c43c",
   "metadata": {},
   "outputs": [],
   "source": []
  },
  {
   "cell_type": "code",
   "execution_count": 3,
   "id": "40fb346e-afed-4ab1-aee8-7a91ed3ebba9",
   "metadata": {
    "execution": {
     "iopub.execute_input": "2024-04-18T04:57:28.670472Z",
     "iopub.status.busy": "2024-04-18T04:57:28.670472Z",
     "iopub.status.idle": "2024-04-18T04:57:28.679848Z",
     "shell.execute_reply": "2024-04-18T04:57:28.679330Z",
     "shell.execute_reply.started": "2024-04-18T04:57:28.670472Z"
    }
   },
   "outputs": [],
   "source": [
    "# IMAGINE A MACHINE LEARNING TASK WHERE WE NEED TO PREDICT HOUSE PRICES GIVEN A SERIES OF PREDICTORS\n",
    "# NOT JUST ONE, BUT A NUMBER OF THEM.\n",
    "\n",
    "# E.G. \n",
    "# 1) Land area\n",
    "# 2) Number of rooms\n",
    "# 3) Age of the house\n",
    "# 4) Number of stories\n",
    "\n",
    "# ALL THESE PREDICTORS ARE KNOWN TO DICTATE THE PRICE OF HOUSE"
   ]
  },
  {
   "cell_type": "code",
   "execution_count": 4,
   "id": "d029882f-0109-4280-8d59-89a41fb893a3",
   "metadata": {
    "execution": {
     "iopub.execute_input": "2024-04-18T05:01:54.268245Z",
     "iopub.status.busy": "2024-04-18T05:01:54.268245Z",
     "iopub.status.idle": "2024-04-18T05:01:54.277982Z",
     "shell.execute_reply": "2024-04-18T05:01:54.277982Z",
     "shell.execute_reply.started": "2024-04-18T05:01:54.268245Z"
    }
   },
   "outputs": [],
   "source": [
    "# USUALLY FEATURES (PREDICTORS) ARE REPRESENTED AS COLUMNS\n",
    "# A RECORD IN THE TRAINING DATASET IS REPRESENTED AS A ROW VECTOR"
   ]
  },
  {
   "cell_type": "code",
   "execution_count": null,
   "id": "0b9437ae-4665-4b56-9b66-8204d5a2348d",
   "metadata": {},
   "outputs": [],
   "source": []
  },
  {
   "cell_type": "code",
   "execution_count": 5,
   "id": "ab833c76-3085-4fc3-a5a9-645ce41f02c0",
   "metadata": {
    "execution": {
     "iopub.execute_input": "2024-04-18T05:07:45.722891Z",
     "iopub.status.busy": "2024-04-18T05:07:45.722891Z",
     "iopub.status.idle": "2024-04-18T05:07:45.734274Z",
     "shell.execute_reply": "2024-04-18T05:07:45.734274Z",
     "shell.execute_reply.started": "2024-04-18T05:07:45.722891Z"
    }
   },
   "outputs": [],
   "source": [
    "# FOR ALL PREDICTORS THERE WILL BE A WEIGHT\n",
    "# AND THE MODEL WILL ALSO HAVE A BIAS TERM"
   ]
  },
  {
   "cell_type": "code",
   "execution_count": null,
   "id": "f8c42dc9-a6a2-43e2-8a61-4c366f6130cb",
   "metadata": {},
   "outputs": [],
   "source": []
  },
  {
   "cell_type": "code",
   "execution_count": 6,
   "id": "3642561b-81dc-436e-8771-d93106cdd064",
   "metadata": {
    "execution": {
     "iopub.execute_input": "2024-04-18T05:08:19.118349Z",
     "iopub.status.busy": "2024-04-18T05:08:19.118349Z",
     "iopub.status.idle": "2024-04-18T05:08:19.133222Z",
     "shell.execute_reply": "2024-04-18T05:08:19.133222Z",
     "shell.execute_reply.started": "2024-04-18T05:08:19.118349Z"
    }
   },
   "outputs": [],
   "source": [
    "# for a multiple linear regression model with n features x1 to xn"
   ]
  },
  {
   "cell_type": "markdown",
   "id": "4144f5ee-4a49-40b0-b05b-18041522a85c",
   "metadata": {},
   "source": [
    "# ___$f_{w,b}(x) = w_1 x_1 + w_2 x_2 + w_3 x_3 + w_4 x_4 \\cdots + w_n x_n + b$___"
   ]
  },
  {
   "cell_type": "code",
   "execution_count": 1,
   "id": "37618a95-a676-47b5-956d-4fbc46629644",
   "metadata": {
    "execution": {
     "iopub.execute_input": "2024-04-18T13:41:02.845715Z",
     "iopub.status.busy": "2024-04-18T13:41:02.845715Z",
     "iopub.status.idle": "2024-04-18T13:41:02.856866Z",
     "shell.execute_reply": "2024-04-18T13:41:02.856866Z",
     "shell.execute_reply.started": "2024-04-18T13:41:02.845715Z"
    }
   },
   "outputs": [],
   "source": [
    "# where the x1 to xn represent a row (record) in the traning dataset.\n",
    "# w1 to wn represent weights for each predictor!\n",
    "# weights can be positive or negative constants"
   ]
  },
  {
   "cell_type": "code",
   "execution_count": null,
   "id": "9b31b9df-5f2b-4da7-ad8b-e4f02c70c429",
   "metadata": {},
   "outputs": [],
   "source": []
  },
  {
   "cell_type": "code",
   "execution_count": 8,
   "id": "4cde14f8-7512-4e6d-b7c2-7d58b28c4d15",
   "metadata": {
    "execution": {
     "iopub.execute_input": "2024-04-18T05:15:18.698580Z",
     "iopub.status.busy": "2024-04-18T05:15:18.698580Z",
     "iopub.status.idle": "2024-04-18T05:15:18.701641Z",
     "shell.execute_reply": "2024-04-18T05:15:18.701575Z",
     "shell.execute_reply.started": "2024-04-18T05:15:18.698580Z"
    }
   },
   "outputs": [],
   "source": [
    "# NOTATION TO SIMPLIFY THE EQUATION"
   ]
  },
  {
   "cell_type": "markdown",
   "id": "55342e56-6c23-4684-a4d1-239ed4365897",
   "metadata": {},
   "source": [
    "# ___$\\overrightarrow{x} = [x_1 ~~ x_2 ~~ x_3 ~~ \\cdots ~~ x_n]$___\n",
    "# ___$\\overrightarrow{w} = [w_1 ~~ w_2 ~~ w_3 ~~ \\cdots ~~ w_n]$___"
   ]
  },
  {
   "cell_type": "code",
   "execution_count": 9,
   "id": "620a8c77-7cf7-4bcb-8b16-8a6ee7dc9a36",
   "metadata": {
    "execution": {
     "iopub.execute_input": "2024-04-18T05:21:22.786517Z",
     "iopub.status.busy": "2024-04-18T05:21:22.770901Z",
     "iopub.status.idle": "2024-04-18T05:21:22.790753Z",
     "shell.execute_reply": "2024-04-18T05:21:22.789666Z",
     "shell.execute_reply.started": "2024-04-18T05:21:22.786517Z"
    }
   },
   "outputs": [],
   "source": [
    "# the overhead arrow depicts the the annotated entity is a row vector"
   ]
  },
  {
   "cell_type": "code",
   "execution_count": null,
   "id": "696488da-655c-43e5-8821-8969868174b7",
   "metadata": {},
   "outputs": [],
   "source": []
  },
  {
   "cell_type": "code",
   "execution_count": 10,
   "id": "c2f20ee3-f9c0-4077-8523-4fc76cf8159a",
   "metadata": {
    "execution": {
     "iopub.execute_input": "2024-04-18T05:21:38.719599Z",
     "iopub.status.busy": "2024-04-18T05:21:38.719599Z",
     "iopub.status.idle": "2024-04-18T05:21:38.725084Z",
     "shell.execute_reply": "2024-04-18T05:21:38.725084Z",
     "shell.execute_reply.started": "2024-04-18T05:21:38.719599Z"
    }
   },
   "outputs": [],
   "source": [
    "# THE SIMPLIFIED NOTATION USING VECTOR NOTATIONS IS "
   ]
  },
  {
   "cell_type": "markdown",
   "id": "448012a4-b1de-42ed-a337-a2ad86390960",
   "metadata": {},
   "source": [
    "# ___$f_{w,b}(\\overrightarrow{x}) = \\overrightarrow{w} \\cdot \\overrightarrow{x} + b$___"
   ]
  },
  {
   "cell_type": "code",
   "execution_count": 2,
   "id": "1a0e4bbe-af9e-431d-950e-229182ed324e",
   "metadata": {
    "execution": {
     "iopub.execute_input": "2024-04-18T05:31:50.055474Z",
     "iopub.status.busy": "2024-04-18T05:31:50.055474Z",
     "iopub.status.idle": "2024-04-18T05:31:50.068612Z",
     "shell.execute_reply": "2024-04-18T05:31:50.068612Z",
     "shell.execute_reply.started": "2024-04-18T05:31:50.055474Z"
    }
   },
   "outputs": [],
   "source": [
    "# w . x refers to the dot product of two vectors.\n",
    "# the above is equivalent to,"
   ]
  },
  {
   "cell_type": "markdown",
   "id": "a3388e56-0614-424c-b268-4454255859c0",
   "metadata": {},
   "source": [
    "## ___$f_{w, b}(\\overrightarrow{x}) = \\sum_{i=0}^{N} w_i x_i + b$___"
   ]
  },
  {
   "cell_type": "code",
   "execution_count": null,
   "id": "529cbd8c-cea7-434a-8474-77c49022fcab",
   "metadata": {},
   "outputs": [],
   "source": [
    "# the highlight here is that the scalar b gets broadcasted and added elementwise to the products of w_i * x_i"
   ]
  },
  {
   "cell_type": "code",
   "execution_count": null,
   "id": "a4b0acf6-3429-4d12-97bf-adf5b36293ec",
   "metadata": {},
   "outputs": [],
   "source": []
  }
 ],
 "metadata": {
  "kernelspec": {
   "display_name": "Python 3 (ipykernel)",
   "language": "python",
   "name": "python3"
  },
  "language_info": {
   "codemirror_mode": {
    "name": "ipython",
    "version": 3
   },
   "file_extension": ".py",
   "mimetype": "text/x-python",
   "name": "python",
   "nbconvert_exporter": "python",
   "pygments_lexer": "ipython3",
   "version": "3.12.3"
  }
 },
 "nbformat": 4,
 "nbformat_minor": 5
}
