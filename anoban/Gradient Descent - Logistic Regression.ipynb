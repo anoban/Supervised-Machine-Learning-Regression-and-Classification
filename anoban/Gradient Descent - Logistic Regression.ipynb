{
 "cells": [
  {
   "cell_type": "markdown",
   "id": "6bfb53f8-c976-48b7-ab55-ca981f28cad5",
   "metadata": {},
   "source": [
    "# ___Gradient Descent - Logistic Regression___\n",
    "----------------"
   ]
  },
  {
   "cell_type": "code",
   "execution_count": 1,
   "id": "39785a29-2cd1-49f1-8472-4c50d7c71e95",
   "metadata": {
    "execution": {
     "iopub.execute_input": "2024-05-26T02:31:49.312090Z",
     "iopub.status.busy": "2024-05-26T02:31:49.312090Z",
     "iopub.status.idle": "2024-05-26T02:31:49.323915Z",
     "shell.execute_reply": "2024-05-26T02:31:49.323915Z",
     "shell.execute_reply.started": "2024-05-26T02:31:49.312090Z"
    }
   },
   "outputs": [],
   "source": [
    "# gradient descent is all about learning the parameters for a model\n",
    "# this is achieved by iteratively trying to minimize the cost function!"
   ]
  },
  {
   "cell_type": "code",
   "execution_count": 2,
   "id": "7c3dfe1e-fe04-4331-826f-290215186674",
   "metadata": {
    "execution": {
     "iopub.execute_input": "2024-05-26T02:32:13.705532Z",
     "iopub.status.busy": "2024-05-26T02:32:13.705532Z",
     "iopub.status.idle": "2024-05-26T02:32:13.716688Z",
     "shell.execute_reply": "2024-05-26T02:32:13.716169Z",
     "shell.execute_reply.started": "2024-05-26T02:32:13.705532Z"
    }
   },
   "outputs": [],
   "source": [
    "# the simplified cost function for logistic regression model is,"
   ]
  },
  {
   "cell_type": "markdown",
   "id": "b8873b15-bf6f-4238-9d43-00452478a76c",
   "metadata": {},
   "source": [
    "# ___$j(\\overrightarrow{w}, b) = -\\frac{1}{N}\\sum_{i=0}^{N}~y_i~log(f_{\\overrightarrow{w},b}(\\overrightarrow{x_i})) + (1 - y_i)~log(1 - f_{\\overrightarrow{w},b}(\\overrightarrow{x_i})$___"
   ]
  },
  {
   "cell_type": "code",
   "execution_count": 4,
   "id": "a2ed7b60-7dfb-4916-a298-7b637ff0a129",
   "metadata": {
    "execution": {
     "iopub.execute_input": "2024-05-26T02:39:57.571410Z",
     "iopub.status.busy": "2024-05-26T02:39:57.571410Z",
     "iopub.status.idle": "2024-05-26T02:39:57.581760Z",
     "shell.execute_reply": "2024-05-26T02:39:57.581760Z",
     "shell.execute_reply.started": "2024-05-26T02:39:57.571410Z"
    }
   },
   "outputs": [],
   "source": [
    "# we can define the gradient descent process as,\n",
    "# repeat until convergence ::"
   ]
  },
  {
   "cell_type": "markdown",
   "id": "b5b6a9af-b9ce-4ff4-846e-e7578ce8c5f8",
   "metadata": {},
   "source": [
    "# ___$w_j = w_j - \\alpha \\cdot \\frac{\\partial}{\\partial{w_j}} j(\\overrightarrow{w}, b)$___\n",
    "# ___$w_b = w_b - \\alpha \\cdot \\frac{\\partial}{\\partial{b}} j(\\overrightarrow{w}, b)$___"
   ]
  },
  {
   "cell_type": "code",
   "execution_count": 6,
   "id": "7a24ade9-c138-4f11-9e45-6e11ad5b97bb",
   "metadata": {
    "execution": {
     "iopub.execute_input": "2024-05-26T02:41:24.507051Z",
     "iopub.status.busy": "2024-05-26T02:41:24.507051Z",
     "iopub.status.idle": "2024-05-26T02:41:24.514051Z",
     "shell.execute_reply": "2024-05-26T02:41:24.514051Z",
     "shell.execute_reply.started": "2024-05-26T02:41:24.507051Z"
    }
   },
   "outputs": [],
   "source": [
    "# derivative of the cost function with respect to weight w_i is,"
   ]
  },
  {
   "cell_type": "markdown",
   "id": "85f14968-44aa-4c11-af96-6b5ecd2d2461",
   "metadata": {},
   "source": [
    "# ___$\\frac{\\partial}{\\partial{w_j}} j(\\overrightarrow{w}, b) = \\frac{\\partial}{\\partial{w_j}} -\\frac{1}{N}\\sum_{i=0}^{N}~y_i~log(f_{\\overrightarrow{w},b}(\\overrightarrow{x_i})) + (1 - y_i)~log(1 - f_{\\overrightarrow{w},b}(\\overrightarrow{x_i}))$___\n",
    "\n",
    "# ___$~~~~~~~~~~~~~~~~~~=\\frac{1}{N} \\sum_{i=0}^{N} (f_{\\overrightarrow{w},b}(\\overrightarrow{x_i})  - y_i) x_{ij}$___"
   ]
  },
  {
   "cell_type": "code",
   "execution_count": 10,
   "id": "f8152739-57d8-465b-b307-5e1564f08b37",
   "metadata": {
    "execution": {
     "iopub.execute_input": "2024-05-26T02:54:05.094751Z",
     "iopub.status.busy": "2024-05-26T02:54:05.094751Z",
     "iopub.status.idle": "2024-05-26T02:54:05.103298Z",
     "shell.execute_reply": "2024-05-26T02:54:05.103298Z",
     "shell.execute_reply.started": "2024-05-26T02:54:05.094751Z"
    }
   },
   "outputs": [],
   "source": [
    "# derivative of the cost function with respect to the bias term b is,"
   ]
  },
  {
   "cell_type": "markdown",
   "id": "f34b2c14-6676-4489-9140-54d26cc659c0",
   "metadata": {},
   "source": [
    "# ___$\\frac{\\partial}{\\partial{b}} j(\\overrightarrow{w}, b) = \\frac{\\partial}{\\partial{b}} -\\frac{1}{N}\\sum_{i=0}^{N}~y_i~log(f_{\\overrightarrow{w},b}(\\overrightarrow{x_i})) + (1 - y_i)~log(1 - f_{\\overrightarrow{w},b}(\\overrightarrow{x_i}))$___\n",
    "\n",
    "# ___$~~~~~~~~~~~~~~~~~~=\\frac{1}{N} \\sum_{i=0}^{N} (f_{\\overrightarrow{w},b}(\\overrightarrow{x_i})  - y_i)$___"
   ]
  },
  {
   "cell_type": "code",
   "execution_count": 7,
   "id": "e2ddaf11-5442-4adc-b293-2d122bcfdc7b",
   "metadata": {
    "execution": {
     "iopub.execute_input": "2024-05-26T02:50:45.348106Z",
     "iopub.status.busy": "2024-05-26T02:50:45.348106Z",
     "iopub.status.idle": "2024-05-26T02:50:45.357909Z",
     "shell.execute_reply": "2024-05-26T02:50:45.356502Z",
     "shell.execute_reply.started": "2024-05-26T02:50:45.348106Z"
    }
   },
   "outputs": [],
   "source": [
    "# do not forget the simultaneous updates!"
   ]
  },
  {
   "cell_type": "code",
   "execution_count": null,
   "id": "ad7603b2-f86c-4bff-9472-68df2e08c57f",
   "metadata": {},
   "outputs": [],
   "source": []
  }
 ],
 "metadata": {
  "kernelspec": {
   "display_name": "Python 3 (ipykernel)",
   "language": "python",
   "name": "python3"
  },
  "language_info": {
   "codemirror_mode": {
    "name": "ipython",
    "version": 3
   },
   "file_extension": ".py",
   "mimetype": "text/x-python",
   "name": "python",
   "nbconvert_exporter": "python",
   "pygments_lexer": "ipython3",
   "version": "3.12.3"
  }
 },
 "nbformat": 4,
 "nbformat_minor": 5
}
