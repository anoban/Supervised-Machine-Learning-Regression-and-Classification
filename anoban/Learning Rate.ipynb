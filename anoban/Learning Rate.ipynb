{
 "cells": [
  {
   "cell_type": "code",
   "execution_count": 4,
   "id": "08262122-e31f-48ab-b7d9-db32952df5cf",
   "metadata": {
    "execution": {
     "iopub.execute_input": "2024-04-17T10:54:55.342479Z",
     "iopub.status.busy": "2024-04-17T10:54:55.342479Z",
     "iopub.status.idle": "2024-04-17T10:54:56.576060Z",
     "shell.execute_reply": "2024-04-17T10:54:56.576060Z",
     "shell.execute_reply.started": "2024-04-17T10:54:55.342479Z"
    }
   },
   "outputs": [],
   "source": [
    "import numpy as np\n",
    "np.random.seed(2024 - 4 - 16)\n",
    "import matplotlib.pyplot as plt"
   ]
  },
  {
   "cell_type": "code",
   "execution_count": 1,
   "id": "9605e7d3-7ad3-4f03-bd2c-e48fcaa98c0d",
   "metadata": {
    "execution": {
     "iopub.execute_input": "2024-04-16T07:54:52.359824Z",
     "iopub.status.busy": "2024-04-16T07:54:52.358796Z",
     "iopub.status.idle": "2024-04-16T07:54:52.363036Z",
     "shell.execute_reply": "2024-04-16T07:54:52.362919Z",
     "shell.execute_reply.started": "2024-04-16T07:54:52.359824Z"
    }
   },
   "outputs": [],
   "source": [
    "# the choice of learning rate alpha will have a big impact on the efficiency and accuracy of a training process\n",
    "# and poorly chosen alpha may lead to a model not working at all!"
   ]
  },
  {
   "cell_type": "code",
   "execution_count": null,
   "id": "43872cf5-f511-4751-99b6-dca9da031236",
   "metadata": {},
   "outputs": [],
   "source": []
  },
  {
   "cell_type": "code",
   "execution_count": 2,
   "id": "11ab1fb4-368c-4c0b-9453-c8e5254367a9",
   "metadata": {
    "execution": {
     "iopub.execute_input": "2024-04-16T07:55:46.763162Z",
     "iopub.status.busy": "2024-04-16T07:55:46.763162Z",
     "iopub.status.idle": "2024-04-16T07:55:46.767959Z",
     "shell.execute_reply": "2024-04-16T07:55:46.767545Z",
     "shell.execute_reply.started": "2024-04-16T07:55:46.763162Z"
    }
   },
   "outputs": [],
   "source": [
    "# for the sake of simplicity, let's consider a cost function taht uses only weight term without a bias part,\n",
    "# f(w) =>"
   ]
  },
  {
   "cell_type": "markdown",
   "id": "287ce993-3405-4263-97b1-1569529fe482",
   "metadata": {},
   "source": [
    "# $w = w - \\alpha \\times \\frac{\\mathrm{d}}{\\mathrm{dw}}f(w)$"
   ]
  },
  {
   "cell_type": "markdown",
   "id": "a6260d72-6592-437d-948f-c5c339c5968e",
   "metadata": {
    "execution": {
     "iopub.execute_input": "2024-04-16T07:58:23.012696Z",
     "iopub.status.busy": "2024-04-16T07:58:23.012696Z",
     "iopub.status.idle": "2024-04-16T07:58:23.025985Z",
     "shell.execute_reply": "2024-04-16T07:58:23.024962Z",
     "shell.execute_reply.started": "2024-04-16T07:58:23.012696Z"
    }
   },
   "source": [
    "### __What will happen if the learning rate alpha is too small?__\n",
    "----------------"
   ]
  },
  {
   "cell_type": "code",
   "execution_count": null,
   "id": "88dac914-8a63-4dfb-aa99-ec4ab0c55cd0",
   "metadata": {},
   "outputs": [],
   "source": []
  },
  {
   "cell_type": "code",
   "execution_count": 39,
   "id": "c08977cf-d0cf-40f1-bab1-dc7eb7fee7dc",
   "metadata": {
    "execution": {
     "iopub.execute_input": "2024-04-16T21:58:13.295161Z",
     "iopub.status.busy": "2024-04-16T21:58:13.295161Z",
     "iopub.status.idle": "2024-04-16T21:58:13.311461Z",
     "shell.execute_reply": "2024-04-16T21:58:13.310845Z",
     "shell.execute_reply.started": "2024-04-16T21:58:13.295161Z"
    }
   },
   "outputs": [],
   "source": [
    "# let's simulate a y = x * 1.876425 model (non-linear)\n",
    "M = 1.876425\n",
    "x = np.arange(start = -100, stop = 100, step = 0.10)\n",
    "y =  M * x + np.random.normal(loc = 0.0, scale = 2, size = x.size)  # introducing some random noise"
   ]
  },
  {
   "cell_type": "code",
   "execution_count": 40,
   "id": "a6694268-a06a-4648-9202-3b48257caf5f",
   "metadata": {
    "execution": {
     "iopub.execute_input": "2024-04-16T21:58:13.608819Z",
     "iopub.status.busy": "2024-04-16T21:58:13.608819Z",
     "iopub.status.idle": "2024-04-16T21:58:13.718084Z",
     "shell.execute_reply": "2024-04-16T21:58:13.718084Z",
     "shell.execute_reply.started": "2024-04-16T21:58:13.608819Z"
    }
   },
   "outputs": [
    {
     "data": {
      "image/png": "[encoded data removed]",
      "text/plain": [
       "<Figure size 640x480 with 1 Axes>"
      ]
     },
     "metadata": {},
     "output_type": "display_data"
    }
   ],
   "source": [
    "fig, axes = plt.subplots()\n",
    "axes.plot(x, y)\n",
    "axes.set_xlabel(\"$x$\")\n",
    "axes.set_ylabel(\"$y$\")\n",
    "axes.grid()\n",
    "plt.show()"
   ]
  },
  {
   "cell_type": "code",
   "execution_count": 12,
   "id": "fdfb7c1d-f4d4-4251-8bb4-9e0abafb253e",
   "metadata": {
    "execution": {
     "iopub.execute_input": "2024-04-17T10:56:59.415232Z",
     "iopub.status.busy": "2024-04-17T10:56:59.415232Z",
     "iopub.status.idle": "2024-04-17T10:56:59.427448Z",
     "shell.execute_reply": "2024-04-17T10:56:59.427448Z",
     "shell.execute_reply.started": "2024-04-17T10:56:59.415232Z"
    }
   },
   "outputs": [],
   "source": [
    "# let's define our cost function\n",
    "\n",
    "cost_fn = lambda target, m, x : np.square((m * x) - target).sum() / (2 * target.size)"
   ]
  },
  {
   "cell_type": "code",
   "execution_count": 42,
   "id": "cac49fe1-6462-4631-9a07-705fc73ee5e8",
   "metadata": {
    "execution": {
     "iopub.execute_input": "2024-04-16T21:58:14.688056Z",
     "iopub.status.busy": "2024-04-16T21:58:14.688056Z",
     "iopub.status.idle": "2024-04-16T21:58:14.701712Z",
     "shell.execute_reply": "2024-04-16T21:58:14.701712Z",
     "shell.execute_reply.started": "2024-04-16T21:58:14.688056Z"
    }
   },
   "outputs": [
    {
     "data": {
      "text/plain": [
       "2.079839345476875"
      ]
     },
     "execution_count": 42,
     "metadata": {},
     "output_type": "execute_result"
    }
   ],
   "source": [
    "cost_fn(y, M, x)"
   ]
  },
  {
   "cell_type": "code",
   "execution_count": 43,
   "id": "66a9c652-3e41-471b-8661-1f807b4676e9",
   "metadata": {
    "execution": {
     "iopub.execute_input": "2024-04-16T21:58:15.336924Z",
     "iopub.status.busy": "2024-04-16T21:58:15.336924Z",
     "iopub.status.idle": "2024-04-16T21:58:15.355797Z",
     "shell.execute_reply": "2024-04-16T21:58:15.355727Z",
     "shell.execute_reply.started": "2024-04-16T21:58:15.336924Z"
    }
   },
   "outputs": [
    {
     "data": {
      "text/plain": [
       "2.0791048849566556"
      ]
     },
     "execution_count": 43,
     "metadata": {},
     "output_type": "execute_result"
    }
   ],
   "source": [
    "# costs\n",
    "\n",
    "wcandidates = np.linspace(start = 1, stop = 2.5, num = x.size)\n",
    "errs = np.array([cost_fn(y, _, x) for _ in wcandidates])\n",
    "errs.min()"
   ]
  },
  {
   "cell_type": "code",
   "execution_count": 44,
   "id": "8c4780db-2082-4ca1-8791-d54e0c44b0cd",
   "metadata": {
    "execution": {
     "iopub.execute_input": "2024-04-16T21:58:16.504799Z",
     "iopub.status.busy": "2024-04-16T21:58:16.504799Z",
     "iopub.status.idle": "2024-04-16T21:58:16.508557Z",
     "shell.execute_reply": "2024-04-16T21:58:16.508557Z",
     "shell.execute_reply.started": "2024-04-16T21:58:16.504799Z"
    }
   },
   "outputs": [
    {
     "data": {
      "text/plain": [
       "0.0007503751875936882"
      ]
     },
     "execution_count": 44,
     "metadata": {},
     "output_type": "execute_result"
    }
   ],
   "source": [
    "# our alpha here is quite small\n",
    "\n",
    "wcandidates[1] - wcandidates[0]"
   ]
  },
  {
   "cell_type": "code",
   "execution_count": 45,
   "id": "fe38184c-488b-4557-baa1-10e8897e26b3",
   "metadata": {
    "execution": {
     "iopub.execute_input": "2024-04-16T21:58:17.077232Z",
     "iopub.status.busy": "2024-04-16T21:58:17.077232Z",
     "iopub.status.idle": "2024-04-16T21:58:17.180308Z",
     "shell.execute_reply": "2024-04-16T21:58:17.180308Z",
     "shell.execute_reply.started": "2024-04-16T21:58:17.077232Z"
    }
   },
   "outputs": [
    {
     "data": {
      "image/png": "[encoded data removed]",
      "text/plain": [
       "<Figure size 640x480 with 1 Axes>"
      ]
     },
     "metadata": {},
     "output_type": "display_data"
    }
   ],
   "source": [
    "fig, axes = plt.subplots()\n",
    "axes.plot(wcandidates, errs, color = \"red\")\n",
    "axes.scatter(wcandidates[np.argmin(errs)], np.min(errs), c = \"white\", s = 20, edgecolor = \"blue\")\n",
    "axes.set_xlabel(\"$w$\")\n",
    "axes.set_ylabel(\"$f(w)$\")\n",
    "axes.grid()\n",
    "plt.show()"
   ]
  },
  {
   "cell_type": "code",
   "execution_count": 46,
   "id": "a56ba258-dc40-4dab-a161-292b1cb63c08",
   "metadata": {
    "execution": {
     "iopub.execute_input": "2024-04-16T21:58:18.580960Z",
     "iopub.status.busy": "2024-04-16T21:58:18.580960Z",
     "iopub.status.idle": "2024-04-16T21:58:18.590422Z",
     "shell.execute_reply": "2024-04-16T21:58:18.590280Z",
     "shell.execute_reply.started": "2024-04-16T21:58:18.580960Z"
    }
   },
   "outputs": [
    {
     "data": {
      "text/plain": [
       "2000"
      ]
     },
     "execution_count": 46,
     "metadata": {},
     "output_type": "execute_result"
    }
   ],
   "source": [
    "# with such a small learning rate, we'll ultimately end up with a very good estimate for M \n",
    "# but the gradient descent process will be incredibly slow\n",
    "# it'll take a really long time to get to the local minuimum from our bootstrap value for M\n",
    "# see how many steps we've taken to get here\n",
    "\n",
    "wcandidates.size"
   ]
  },
  {
   "cell_type": "code",
   "execution_count": null,
   "id": "3e9c5509-7890-4469-979b-8c21dbc1fb5e",
   "metadata": {},
   "outputs": [],
   "source": []
  },
  {
   "cell_type": "markdown",
   "id": "1cd127db-d1d9-4e38-8487-1f8dd03f5120",
   "metadata": {},
   "source": [
    "### __What will happen if the learning rate alpha is too big?__"
   ]
  },
  {
   "cell_type": "code",
   "execution_count": null,
   "id": "ef399e6c-9b7d-44f7-9777-fbbc2bfda510",
   "metadata": {},
   "outputs": [],
   "source": []
  },
  {
   "cell_type": "code",
   "execution_count": 47,
   "id": "5c5de883-cf90-49e9-8104-b49c1625c0fc",
   "metadata": {
    "execution": {
     "iopub.execute_input": "2024-04-16T21:58:19.692015Z",
     "iopub.status.busy": "2024-04-16T21:58:19.692015Z",
     "iopub.status.idle": "2024-04-16T21:58:19.703795Z",
     "shell.execute_reply": "2024-04-16T21:58:19.702755Z",
     "shell.execute_reply.started": "2024-04-16T21:58:19.692015Z"
    }
   },
   "outputs": [
    {
     "data": {
      "text/plain": [
       "1.8771885942971487"
      ]
     },
     "execution_count": 47,
     "metadata": {},
     "output_type": "execute_result"
    }
   ],
   "source": [
    "# what happens if the learning rate is too large?\n",
    "# we'll be taking large strides in the gradient descent and the odds are high to end up with a poor approximation of the local minimum!\n",
    "# here's a demonstration,\n",
    "\n",
    "# the M we deduced from previous gradient descent was\n",
    "wcandidates[np.argmin(errs)]"
   ]
  },
  {
   "cell_type": "code",
   "execution_count": 48,
   "id": "bffaee1f-a002-43ff-8215-f33b124cd71c",
   "metadata": {
    "execution": {
     "iopub.execute_input": "2024-04-16T21:58:20.030183Z",
     "iopub.status.busy": "2024-04-16T21:58:20.030183Z",
     "iopub.status.idle": "2024-04-16T21:58:20.045122Z",
     "shell.execute_reply": "2024-04-16T21:58:20.045122Z",
     "shell.execute_reply.started": "2024-04-16T21:58:20.030183Z"
    }
   },
   "outputs": [
    {
     "data": {
      "text/plain": [
       "1.876425"
      ]
     },
     "execution_count": 48,
     "metadata": {},
     "output_type": "execute_result"
    }
   ],
   "source": [
    "# and the real M was,\n",
    "M"
   ]
  },
  {
   "cell_type": "code",
   "execution_count": 49,
   "id": "80bda583-a98c-4759-8622-414844a08b71",
   "metadata": {
    "execution": {
     "iopub.execute_input": "2024-04-16T21:58:20.756055Z",
     "iopub.status.busy": "2024-04-16T21:58:20.756055Z",
     "iopub.status.idle": "2024-04-16T21:58:20.773275Z",
     "shell.execute_reply": "2024-04-16T21:58:20.773275Z",
     "shell.execute_reply.started": "2024-04-16T21:58:20.756055Z"
    }
   },
   "outputs": [
    {
     "data": {
      "text/plain": [
       "0.0007635942971486731"
      ]
     },
     "execution_count": 49,
     "metadata": {},
     "output_type": "execute_result"
    }
   ],
   "source": [
    "# a really insignificant difference\n",
    "\n",
    "np.abs(wcandidates[np.argmin(errs)] - M)"
   ]
  },
  {
   "cell_type": "code",
   "execution_count": 52,
   "id": "56187dd8-5c04-4988-8e00-3feacb9f7485",
   "metadata": {
    "execution": {
     "iopub.execute_input": "2024-04-16T21:58:28.917566Z",
     "iopub.status.busy": "2024-04-16T21:58:28.917566Z",
     "iopub.status.idle": "2024-04-16T21:58:28.935647Z",
     "shell.execute_reply": "2024-04-16T21:58:28.935647Z",
     "shell.execute_reply.started": "2024-04-16T21:58:28.917566Z"
    }
   },
   "outputs": [],
   "source": [
    "# with larger strides, i.e 0.20\n",
    "\n",
    "wcandidates_ = np.arange(start = 1, stop = 2.5, step = 0.25)\n",
    "errs_ = np.array([cost_fn(y, _, x) for _ in wcandidates_])"
   ]
  },
  {
   "cell_type": "code",
   "execution_count": 68,
   "id": "62b91dc0-a5e2-4093-a4b6-13860c4cac9a",
   "metadata": {
    "execution": {
     "iopub.execute_input": "2024-04-16T22:05:17.702415Z",
     "iopub.status.busy": "2024-04-16T22:05:17.702415Z",
     "iopub.status.idle": "2024-04-16T22:05:17.720093Z",
     "shell.execute_reply": "2024-04-16T22:05:17.720093Z",
     "shell.execute_reply.started": "2024-04-16T22:05:17.702415Z"
    }
   },
   "outputs": [
    {
     "data": {
      "text/plain": [
       "0.0007503751875937969"
      ]
     },
     "execution_count": 68,
     "metadata": {},
     "output_type": "execute_result"
    }
   ],
   "source": [
    "np.diff(wcandidates).mean()"
   ]
  },
  {
   "cell_type": "code",
   "execution_count": 69,
   "id": "c6f78ffe-a710-4b5d-aaf5-e14b46f4d248",
   "metadata": {
    "execution": {
     "iopub.execute_input": "2024-04-16T22:05:30.929127Z",
     "iopub.status.busy": "2024-04-16T22:05:30.929127Z",
     "iopub.status.idle": "2024-04-16T22:05:31.063735Z",
     "shell.execute_reply": "2024-04-16T22:05:31.063735Z",
     "shell.execute_reply.started": "2024-04-16T22:05:30.929127Z"
    }
   },
   "outputs": [
    {
     "data": {
      "image/png": "[encoded data removed]",
      "text/plain": [
       "<Figure size 640x480 with 1 Axes>"
      ]
     },
     "metadata": {},
     "output_type": "display_data"
    }
   ],
   "source": [
    "fig, axes = plt.subplots()\n",
    "\n",
    "axes.plot(wcandidates_, errs_, color = \"red\", marker = 'o', mec = \"black\", label = r\"$\\alpha = 0.25$\")\n",
    "axes.scatter(wcandidates_[np.argmin(errs_)], np.min(errs_), c = \"blue\", s = 120, edgecolor = \"blue\")\n",
    "\n",
    "axes.plot(wcandidates, errs, color = \"green\", label = r\"$\\alpha$ = 0.00075\")\n",
    "axes.scatter(wcandidates[np.argmin(errs)], np.min(errs), c = \"white\", s = 20, edgecolor = \"blue\")\n",
    "\n",
    "axes.set_xlabel(\"$w$\")\n",
    "axes.set_ylabel(\"$f(w)$\")\n",
    "axes.grid()\n",
    "axes.legend()\n",
    "plt.show()"
   ]
  },
  {
   "cell_type": "code",
   "execution_count": 72,
   "id": "4e40bbd3-aad4-4607-8bda-e6f5b5ae2f82",
   "metadata": {
    "execution": {
     "iopub.execute_input": "2024-04-16T22:09:46.455208Z",
     "iopub.status.busy": "2024-04-16T22:09:46.455208Z",
     "iopub.status.idle": "2024-04-16T22:09:46.465168Z",
     "shell.execute_reply": "2024-04-16T22:09:46.465069Z",
     "shell.execute_reply.started": "2024-04-16T22:09:46.455208Z"
    }
   },
   "outputs": [
    {
     "name": "stdout",
     "output_type": "stream",
     "text": [
      "With alpha = 0.00075, the difference between the estimated w and the real w is 0.0008\n",
      "With alpha = 0.25, the difference between the estimated w and the real w is 0.1236\n"
     ]
    }
   ],
   "source": [
    "# you can see the conspicuous breaks in the line here, the curve becomes jagged due to the longer jumps\n",
    "# and see how we have missed the real M value by jumping over it\n",
    "\n",
    "print(f\"With alpha = {np.diff(wcandidates).mean():.5f}, the difference between the estimated w and the real w is {np.abs(wcandidates[np.argmin(errs)] - M):.4f}\")\n",
    "print(f\"With alpha = 0.25, the difference between the estimated w and the real w is {np.abs(wcandidates_[np.argmin(errs_)] - M):.4f}\")"
   ]
  },
  {
   "cell_type": "code",
   "execution_count": null,
   "id": "8828acc3-b2f9-4cd1-887d-80b02a157076",
   "metadata": {},
   "outputs": [],
   "source": []
  },
  {
   "cell_type": "code",
   "execution_count": 127,
   "id": "9d2562db-34c5-42b2-9faa-b0e0aaffa1d7",
   "metadata": {
    "execution": {
     "iopub.execute_input": "2024-04-16T08:52:29.602301Z",
     "iopub.status.busy": "2024-04-16T08:52:29.602301Z",
     "iopub.status.idle": "2024-04-16T08:52:29.616642Z",
     "shell.execute_reply": "2024-04-16T08:52:29.616642Z",
     "shell.execute_reply.started": "2024-04-16T08:52:29.602301Z"
    }
   },
   "outputs": [],
   "source": [
    "# with larger strides, we'll likely step over the local minimum without even recognizing it!\n",
    "# larger learning rates may result in overshoots and can fail to converge or worse can even diverge!"
   ]
  },
  {
   "cell_type": "code",
   "execution_count": null,
   "id": "179008da-d18b-4c12-b33c-9a3dcaff9555",
   "metadata": {},
   "outputs": [],
   "source": []
  },
  {
   "cell_type": "code",
   "execution_count": 128,
   "id": "4e0e9208-8af8-46be-b3a3-5b332e49c901",
   "metadata": {
    "execution": {
     "iopub.execute_input": "2024-04-16T08:56:35.344766Z",
     "iopub.status.busy": "2024-04-16T08:56:35.344766Z",
     "iopub.status.idle": "2024-04-16T08:56:35.354974Z",
     "shell.execute_reply": "2024-04-16T08:56:35.354974Z",
     "shell.execute_reply.started": "2024-04-16T08:56:35.344766Z"
    }
   },
   "outputs": [],
   "source": [
    "# for more compex gradient descent algorithms, with multiple parameters\n",
    "# there may be many local minima and maxima\n",
    "# what will happen if we have reached a local minimum but there's another even lower minimum (global) acheivable in the graph?"
   ]
  },
  {
   "cell_type": "code",
   "execution_count": null,
   "id": "2ba5f3bb-2ab3-4007-9070-757cda720944",
   "metadata": {},
   "outputs": [],
   "source": []
  },
  {
   "cell_type": "raw",
   "id": "90ba6925-66d2-480b-81a8-901af6c25d04",
   "metadata": {},
   "source": [
    "fig, axes = plt.subplots()\n",
    "fig.set_size_inches(4, 2.5)\n",
    "axes.set_xlabel(\"$w$\")\n",
    "axes.set_ylabel(\"$j(w)$\")\n",
    "plt.tight_layout()\n",
    "plt.savefig(r\"./canvas.png\", format = \"png\", dpi = 100)"
   ]
  },
  {
   "cell_type": "markdown",
   "id": "b31833c5-ca52-4a35-aca8-0c53cbe615ba",
   "metadata": {},
   "source": [
    "![img](.\\canvas.png)"
   ]
  },
  {
   "cell_type": "code",
   "execution_count": 103,
   "id": "387629b7-9948-4e16-94ee-e7c0eaf5966b",
   "metadata": {
    "execution": {
     "iopub.execute_input": "2024-04-16T22:54:32.059452Z",
     "iopub.status.busy": "2024-04-16T22:54:32.059452Z",
     "iopub.status.idle": "2024-04-16T22:54:32.071938Z",
     "shell.execute_reply": "2024-04-16T22:54:32.071938Z",
     "shell.execute_reply.started": "2024-04-16T22:54:32.059452Z"
    }
   },
   "outputs": [],
   "source": [
    "# the above plot of cost function has three local minima and the global minimum is the second minimum!\n",
    "# A SQUARED ERROR COST FUNCTION WILL ALWAYS GIVE ONE MINIMUM! THIS IS NOT THE RESULT OF USING A SQUARED ERROR COST FUNCTION!\n",
    "\n",
    "# imagine that we have reached the first local minimum in gradient descent, the derivative of the cost function at this point is \n",
    "# the slope of the tangent line, which is a horizontal line because dt this exact point, dj(w) is 0!\n",
    "# so in our parameter update,"
   ]
  },
  {
   "cell_type": "markdown",
   "id": "4a5d2faf-7b7b-463a-88ec-1819fc7fd1e7",
   "metadata": {},
   "source": [
    "## $w = w - \\alpha \\times \\frac{\\mathrm{d}}{\\mathrm{dw}}j(w)$\n",
    "## $\\mathrm{d}j(w) = 0$\n",
    "## $w = w - \\alpha \\times 0$\n",
    "## $w = w$"
   ]
  },
  {
   "cell_type": "code",
   "execution_count": 1,
   "id": "3ed8a889-27fc-4494-83e3-efff8beeb015",
   "metadata": {
    "execution": {
     "iopub.execute_input": "2024-04-17T10:54:05.699628Z",
     "iopub.status.busy": "2024-04-17T10:54:05.699628Z",
     "iopub.status.idle": "2024-04-17T10:54:05.714119Z",
     "shell.execute_reply": "2024-04-17T10:54:05.713502Z",
     "shell.execute_reply.started": "2024-04-17T10:54:05.699628Z"
    }
   },
   "outputs": [],
   "source": [
    "# so, alpha * derivative becomes 0.\n",
    "# what happens here is that w gets reassigned to w again!\n",
    "# W WILL NOT BE CHANGED WHATSOEVER!"
   ]
  },
  {
   "cell_type": "code",
   "execution_count": 2,
   "id": "df3fa828-25ff-4745-9400-62d3f57655f2",
   "metadata": {
    "execution": {
     "iopub.execute_input": "2024-04-17T10:54:05.887568Z",
     "iopub.status.busy": "2024-04-17T10:54:05.887568Z",
     "iopub.status.idle": "2024-04-17T10:54:05.894355Z",
     "shell.execute_reply": "2024-04-17T10:54:05.894355Z",
     "shell.execute_reply.started": "2024-04-17T10:54:05.887568Z"
    }
   },
   "outputs": [],
   "source": [
    "# SO THE TAKEAWAY HERE IS THAT ONCE GRADIENT DESCENT HAS REACHED A LOCAL MINIMUM, IT WILL NOT JUMP OUT OF THAT TROUGH!\n",
    "# EVEN IF THE REACHED LOCAL MINIMUM IS NOT THE GLOBAL MINIMUM!!"
   ]
  },
  {
   "cell_type": "code",
   "execution_count": null,
   "id": "30e8dce9-64c5-4879-990a-bc87bf2acd22",
   "metadata": {},
   "outputs": [],
   "source": []
  },
  {
   "cell_type": "code",
   "execution_count": 3,
   "id": "80a0e1b7-33e0-43e9-b97a-766859886c24",
   "metadata": {
    "execution": {
     "iopub.execute_input": "2024-04-17T10:54:35.420377Z",
     "iopub.status.busy": "2024-04-17T10:54:35.420377Z",
     "iopub.status.idle": "2024-04-17T10:54:35.425219Z",
     "shell.execute_reply": "2024-04-17T10:54:35.425219Z",
     "shell.execute_reply.started": "2024-04-17T10:54:35.420377Z"
    }
   },
   "outputs": [],
   "source": [
    "# EVEN WITH FIXED LEARNING RATES, GRADIENT DESCENT CAN REACH THE LOCAL MINIMUM!"
   ]
  },
  {
   "cell_type": "code",
   "execution_count": 37,
   "id": "1e2d946a-7bc7-43e3-b54b-1af909079939",
   "metadata": {
    "execution": {
     "iopub.execute_input": "2024-04-17T11:00:08.478481Z",
     "iopub.status.busy": "2024-04-17T11:00:08.478481Z",
     "iopub.status.idle": "2024-04-17T11:00:08.489585Z",
     "shell.execute_reply": "2024-04-17T11:00:08.489585Z",
     "shell.execute_reply.started": "2024-04-17T11:00:08.478481Z"
    }
   },
   "outputs": [],
   "source": [
    "x = np.arange(start = 30, stop = 100, step = 0.1)\n",
    "m = 2.5641650\n",
    "y = m * x + np.random.normal(loc = 0.0, scale = 2.5, size = x.size)\n",
    "mcandidates = np.arange(start = 2, stop = 3, step = 0.0001)"
   ]
  },
  {
   "cell_type": "code",
   "execution_count": null,
   "id": "fc271d9d-92f9-4478-9222-13632df327a1",
   "metadata": {},
   "outputs": [],
   "source": []
  },
  {
   "cell_type": "code",
   "execution_count": 40,
   "id": "8a3cd943-c436-4dee-87c9-299debc94bae",
   "metadata": {
    "execution": {
     "iopub.execute_input": "2024-04-17T11:00:27.049482Z",
     "iopub.status.busy": "2024-04-17T11:00:27.049482Z",
     "iopub.status.idle": "2024-04-17T11:00:27.124383Z",
     "shell.execute_reply": "2024-04-17T11:00:27.124383Z",
     "shell.execute_reply.started": "2024-04-17T11:00:27.049482Z"
    }
   },
   "outputs": [
    {
     "data": {
      "text/plain": [
       "3.0000292631641776"
      ]
     },
     "execution_count": 40,
     "metadata": {},
     "output_type": "execute_result"
    }
   ],
   "source": [
    "errs = np.array([cost_fn(y, _, x) for _ in mcandidates])\n",
    "errs.min()"
   ]
  },
  {
   "cell_type": "code",
   "execution_count": null,
   "id": "96baa607-98f5-4f53-a44d-8aff7db37e6d",
   "metadata": {},
   "outputs": [],
   "source": []
  },
  {
   "cell_type": "code",
   "execution_count": 55,
   "id": "c6c8597a-5531-4d8d-ac14-19a6457068ff",
   "metadata": {
    "execution": {
     "iopub.execute_input": "2024-04-17T11:09:51.899854Z",
     "iopub.status.busy": "2024-04-17T11:09:51.899854Z",
     "iopub.status.idle": "2024-04-17T11:09:52.037852Z",
     "shell.execute_reply": "2024-04-17T11:09:52.037852Z",
     "shell.execute_reply.started": "2024-04-17T11:09:51.899854Z"
    }
   },
   "outputs": [
    {
     "data": {
      "image/png": "[encoded data removed]",
      "text/plain": [
       "<Figure size 640x480 with 1 Axes>"
      ]
     },
     "metadata": {},
     "output_type": "display_data"
    }
   ],
   "source": [
    "# as gradient descent moves closer to the true minimum, the derivative term will become smaller\n",
    "# reason is the slope of the tangent line decreses!\n",
    "\n",
    "fig, axes = plt.subplots()\n",
    "axes.plot(mcandidates, errs, color = \"red\")\n",
    "axes.scatter(mcandidates[0], errs[0], color = \"blue\", edgecolor = \"black\", label = \"$p_{1}$\")\n",
    "axes.scatter(mcandidates[np.argmin(errs)], errs.min(), color = \"orange\", edgecolor = \"black\", label = \"$M$\")\n",
    "axes.set_xlabel(\"$w$\")\n",
    "axes.set_ylabel(\"$j(w)$\")\n",
    "axes.legend()\n",
    "# axes.grid()\n",
    "plt.show()"
   ]
  },
  {
   "cell_type": "code",
   "execution_count": null,
   "id": "a36a3164-800d-491f-9388-a8b765a12258",
   "metadata": {},
   "outputs": [],
   "source": [
    "# as we move from p1 to M, the slope of the tangent line dj(W)/dw decreases.\n",
    "# hence the term subtracted from w decreases! (granted that the learning rate alpha is maintained constant)\n",
    "# as a consequence, the rate of decrease drops slowly - the strides towards the minimum becomes smaller and smaller!"
   ]
  }
 ],
 "metadata": {
  "kernelspec": {
   "display_name": "Python 3 (ipykernel)",
   "language": "python",
   "name": "python3"
  },
  "language_info": {
   "codemirror_mode": {
    "name": "ipython",
    "version": 3
   },
   "file_extension": ".py",
   "mimetype": "text/x-python",
   "name": "python",
   "nbconvert_exporter": "python",
   "pygments_lexer": "ipython3",
   "version": "3.12.3"
  }
 },
 "nbformat": 4,
 "nbformat_minor": 5
}
