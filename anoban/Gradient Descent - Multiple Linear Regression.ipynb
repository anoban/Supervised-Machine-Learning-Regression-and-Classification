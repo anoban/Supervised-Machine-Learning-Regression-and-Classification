{
 "cells": [
  {
   "cell_type": "markdown",
   "id": "75f6213c-185b-49da-a65b-be823e118e1d",
   "metadata": {},
   "source": [
    "## ___Gradient Descent For Multiple Linear Regression___\n",
    "--------------"
   ]
  },
  {
   "cell_type": "code",
   "execution_count": 1,
   "id": "f46d0193-baa7-4d0c-bf8f-d287841453ff",
   "metadata": {
    "execution": {
     "iopub.execute_input": "2024-04-18T13:19:18.668660Z",
     "iopub.status.busy": "2024-04-18T13:19:18.668660Z",
     "iopub.status.idle": "2024-04-18T13:19:19.874456Z",
     "shell.execute_reply": "2024-04-18T13:19:19.874456Z",
     "shell.execute_reply.started": "2024-04-18T13:19:18.668660Z"
    }
   },
   "outputs": [],
   "source": [
    "import numpy as np\n",
    "import matplotlib.pyplot as plt"
   ]
  },
  {
   "cell_type": "code",
   "execution_count": null,
   "id": "88067034-9444-40ef-ad65-1732f0f535ec",
   "metadata": {},
   "outputs": [],
   "source": []
  },
  {
   "cell_type": "markdown",
   "id": "f693cab4-212a-49e4-938a-c04620c6c174",
   "metadata": {},
   "source": [
    "### _parameters_ = ___$[w_1~~w_2~~w_3 \\cdots w_n], b$___\n",
    "### _model_ = ___$f_{w,b}(x) = w_1x_1 + w_2x_2 + w_3x_3 \\cdots + w_nx_n + b$___\n",
    "### _cost function_ = ___$j(w_1, w_2, w_3 \\cdots b)$___"
   ]
  },
  {
   "cell_type": "code",
   "execution_count": null,
   "id": "34bd0ec1-ccdc-4a49-b659-ae973ef4534a",
   "metadata": {},
   "outputs": [],
   "source": []
  },
  {
   "cell_type": "code",
   "execution_count": 3,
   "id": "94ae37d1-27ed-441d-a0c9-63a63810738e",
   "metadata": {
    "execution": {
     "iopub.execute_input": "2024-04-18T05:47:17.676304Z",
     "iopub.status.busy": "2024-04-18T05:47:17.676304Z",
     "iopub.status.idle": "2024-04-18T05:47:17.682510Z",
     "shell.execute_reply": "2024-04-18T05:47:17.682510Z",
     "shell.execute_reply.started": "2024-04-18T05:47:17.676304Z"
    }
   },
   "outputs": [],
   "source": [
    "# OR USING VECTOR NOTATION,"
   ]
  },
  {
   "cell_type": "markdown",
   "id": "31030e8f-b8c7-4b1c-8776-5737070be13c",
   "metadata": {},
   "source": [
    "### _parameters_ = ___$\\overrightarrow{w}, b$___\n",
    "### _model_ = ___$f_{w,b}(x) = \\overrightarrow{x} \\cdot \\overrightarrow{w} + b$___\n",
    "### _cost function_ = ___$j(\\overrightarrow{w}, b)$___"
   ]
  },
  {
   "cell_type": "code",
   "execution_count": null,
   "id": "38c3ca38-ce47-42cf-ad2b-0c4eb43103eb",
   "metadata": {},
   "outputs": [],
   "source": []
  },
  {
   "cell_type": "code",
   "execution_count": 2,
   "id": "7c90a08f-587d-4515-a260-7b575b104a43",
   "metadata": {
    "execution": {
     "iopub.execute_input": "2024-04-18T13:21:54.660582Z",
     "iopub.status.busy": "2024-04-18T13:21:54.660582Z",
     "iopub.status.idle": "2024-04-18T13:21:54.673502Z",
     "shell.execute_reply": "2024-04-18T13:21:54.673432Z",
     "shell.execute_reply.started": "2024-04-18T13:21:54.660582Z"
    }
   },
   "outputs": [],
   "source": [
    "# how does a least squares cost function operate on a multiple predictor dataset?\n",
    "# N - number of records in the training dataset."
   ]
  },
  {
   "cell_type": "markdown",
   "id": "9e7542b7-ebdb-4252-8d98-c0d118438d38",
   "metadata": {},
   "source": [
    "## ___Univariate $\\Rightarrow$___\n",
    "## ___$j(w, b) = \\frac{1}{2N}\\sum_{i=0}^{N}(f_{w,b}(x_i) - y_i)^2$___\n",
    "## ___$j(w, b) = \\frac{1}{2N}\\sum_{i=0}^{N}(w_ix_i + b - y_i)^2$___\n",
    "----------------\n",
    "## ___Multiple variables $\\Rightarrow$___\n",
    "## ___$j(\\overrightarrow{w}, b) = \\frac{1}{2N}\\sum_{i=0}^{N}(f_{w,b}(\\overrightarrow{x_i}) - y_i)^2$___\n",
    "## ___$j(\\overrightarrow{w}, b) = \\frac{1}{2N}\\sum_{i=0}^{N}(\\overrightarrow{w_i} \\cdot \\overrightarrow{x_i} + b - y_i)^2$___"
   ]
  },
  {
   "cell_type": "code",
   "execution_count": null,
   "id": "d8b92fb3-d2fa-4546-b033-560b10d39f2b",
   "metadata": {},
   "outputs": [],
   "source": []
  },
  {
   "cell_type": "code",
   "execution_count": 3,
   "id": "1f81b1ef-fdc6-4f10-9dbf-a23ac3ceb6d9",
   "metadata": {
    "execution": {
     "iopub.execute_input": "2024-04-18T13:43:19.540960Z",
     "iopub.status.busy": "2024-04-18T13:43:19.540960Z",
     "iopub.status.idle": "2024-04-18T13:43:19.556957Z",
     "shell.execute_reply": "2024-04-18T13:43:19.556957Z",
     "shell.execute_reply.started": "2024-04-18T13:43:19.540960Z"
    }
   },
   "outputs": [],
   "source": [
    "# here's what the gradient descent looks like,\n",
    "# repeat until convergence ::="
   ]
  },
  {
   "cell_type": "markdown",
   "id": "3ae672d4-6b6a-4ac8-965a-6f77aeed0f7a",
   "metadata": {},
   "source": [
    "## ___$w_i = w_i - \\alpha \\cdot \\frac{\\partial{j(\\overrightarrow{w}, b)}}{\\partial{w_i}}$___\n",
    "## ___$b_i = b_i - \\alpha \\cdot \\frac{\\partial{j(\\overrightarrow{w}, b)}}{\\partial{b}}$___"
   ]
  },
  {
   "cell_type": "code",
   "execution_count": null,
   "id": "0784273c-c38c-40b0-b724-c0075a4efde7",
   "metadata": {},
   "outputs": [],
   "source": []
  },
  {
   "cell_type": "code",
   "execution_count": 7,
   "id": "c838b7f8-029a-4891-a979-bf93fb61dcae",
   "metadata": {
    "execution": {
     "iopub.execute_input": "2024-04-18T05:54:20.502094Z",
     "iopub.status.busy": "2024-04-18T05:54:20.502094Z",
     "iopub.status.idle": "2024-04-18T05:54:20.518195Z",
     "shell.execute_reply": "2024-04-18T05:54:20.518195Z",
     "shell.execute_reply.started": "2024-04-18T05:54:20.502094Z"
    }
   },
   "outputs": [],
   "source": [
    "# HERE'S A DEEP DIVE INTO THE WEIGHTS UPATE ::"
   ]
  },
  {
   "cell_type": "code",
   "execution_count": 8,
   "id": "073e9ddf-e1e5-41bb-8cef-2e7f789b22fc",
   "metadata": {
    "execution": {
     "iopub.execute_input": "2024-04-18T05:56:01.885757Z",
     "iopub.status.busy": "2024-04-18T05:56:01.885757Z",
     "iopub.status.idle": "2024-04-18T05:56:01.901905Z",
     "shell.execute_reply": "2024-04-18T05:56:01.901905Z",
     "shell.execute_reply.started": "2024-04-18T05:56:01.885757Z"
    }
   },
   "outputs": [],
   "source": [
    "# for univariate linear regression, we had the following rules to get the derivative of the cost function with respect to w"
   ]
  },
  {
   "cell_type": "markdown",
   "id": "4f8368dd-c3ec-4aa8-bdd8-2fa349d6a721",
   "metadata": {},
   "source": [
    "## ___$ \\frac{\\partial}{\\partial{w}}j(w, b) = \\frac{\\partial}{\\partial{w}} \\frac{1}{2N} \\sum_{i=0}^{N} (f_{w, b}(x_i) - y_i)^2$___\n",
    "## ___$~~~~~~~~~~~~~~~~~= \\frac{\\partial}{\\partial{w}} \\frac{1}{2N} \\sum_{i=0}^{N} (w_ix_i + b - y_i)^2$___\n",
    "## ___$~~~~~~~~~~~~~~~~~= \\frac{1}{N} \\sum_{i=0}^{N} (w_ix_i + b - y_i) \\times x_i$___"
   ]
  },
  {
   "cell_type": "code",
   "execution_count": null,
   "id": "fea61d97-e4ac-4904-a53c-aa3252395b2f",
   "metadata": {},
   "outputs": [],
   "source": []
  },
  {
   "cell_type": "code",
   "execution_count": null,
   "id": "2ceef9ef-ae64-4558-b30e-80a862464664",
   "metadata": {},
   "outputs": [],
   "source": [
    "# for multiple linear regression, REMEMBER Y AND B ARE ALWAYS SCALARS!\n",
    "# we cannot compute the derivative of the cost function with respect to the vector of weights\n",
    "# DERIVATIVES OF THE COST FUNCTION WITH RESPECT TO EACH WEIGHT MUST BE COMPUTED INDIVIDUALLY!"
   ]
  },
  {
   "cell_type": "markdown",
   "id": "71ff1f59-5630-4c41-bbdf-0fc31c7c4de3",
   "metadata": {},
   "source": [
    "## ___$\\frac{\\partial}{\\partial{w_i}}j(\\overrightarrow{w}, b) = \\frac{\\partial}{\\partial{w_i}} \\frac{1}{2N} \\sum_{j=0}^{N} (f_{w, b}(\\overrightarrow{x_j}) - y_j)^2$___\n",
    "## ___$~~~~~~~~~~~~~~~~~= \\frac{\\partial}{\\partial{w_i}} \\frac{1}{2N} \\sum_{j=0}^{N} (\\overrightarrow{w_j}\\cdot\\overrightarrow{x_j} + b - y_j)^2$___\n",
    "## ___$~~~~~~~~~~~~~~~~~= \\frac{1}{N} \\sum_{j=0}^{N} (\\overrightarrow{w_i}\\cdot\\overrightarrow{x_j} + b - y_j) \\times x_{ij}$___"
   ]
  },
  {
   "cell_type": "code",
   "execution_count": null,
   "id": "b9927840-555a-4efb-ae01-c4a580e40d86",
   "metadata": {},
   "outputs": [],
   "source": []
  }
 ],
 "metadata": {
  "kernelspec": {
   "display_name": "Python 3 (ipykernel)",
   "language": "python",
   "name": "python3"
  },
  "language_info": {
   "codemirror_mode": {
    "name": "ipython",
    "version": 3
   },
   "file_extension": ".py",
   "mimetype": "text/x-python",
   "name": "python",
   "nbconvert_exporter": "python",
   "pygments_lexer": "ipython3",
   "version": "3.12.3"
  }
 },
 "nbformat": 4,
 "nbformat_minor": 5
}
