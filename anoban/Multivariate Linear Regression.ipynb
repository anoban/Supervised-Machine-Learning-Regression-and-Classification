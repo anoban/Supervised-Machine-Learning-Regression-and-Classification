{
 "cells": [
  {
   "cell_type": "code",
   "execution_count": 1,
   "id": "29689462-3d26-4fec-8d9b-96229bfaeac0",
   "metadata": {
    "execution": {
     "iopub.execute_input": "2024-04-16T06:39:56.970062Z",
     "iopub.status.busy": "2024-04-16T06:39:56.970062Z",
     "iopub.status.idle": "2024-04-16T06:39:57.425179Z",
     "shell.execute_reply": "2024-04-16T06:39:57.425179Z",
     "shell.execute_reply.started": "2024-04-16T06:39:56.970062Z"
    }
   },
   "outputs": [],
   "source": [
    "import numpy as np\n",
    "import matplotlib.pyplot as plt"
   ]
  },
  {
   "cell_type": "code",
   "execution_count": 2,
   "id": "9b499a70-92c9-48ba-92f2-744e6a06c43c",
   "metadata": {
    "execution": {
     "iopub.execute_input": "2024-04-16T06:39:57.839658Z",
     "iopub.status.busy": "2024-04-16T06:39:57.839658Z",
     "iopub.status.idle": "2024-04-16T06:39:57.892046Z",
     "shell.execute_reply": "2024-04-16T06:39:57.892046Z",
     "shell.execute_reply.started": "2024-04-16T06:39:57.839658Z"
    }
   },
   "outputs": [
    {
     "name": "stdout",
     "output_type": "stream",
     "text": [
      "Python 3.12.3\n"
     ]
    }
   ],
   "source": [
    "!python --version"
   ]
  },
  {
   "cell_type": "code",
   "execution_count": null,
   "id": "40fb346e-afed-4ab1-aee8-7a91ed3ebba9",
   "metadata": {},
   "outputs": [],
   "source": []
  }
 ],
 "metadata": {
  "kernelspec": {
   "display_name": "Python 3 (ipykernel)",
   "language": "python",
   "name": "python3"
  },
  "language_info": {
   "codemirror_mode": {
    "name": "ipython",
    "version": 3
   },
   "file_extension": ".py",
   "mimetype": "text/x-python",
   "name": "python",
   "nbconvert_exporter": "python",
   "pygments_lexer": "ipython3",
   "version": "3.12.3"
  }
 },
 "nbformat": 4,
 "nbformat_minor": 5
}
