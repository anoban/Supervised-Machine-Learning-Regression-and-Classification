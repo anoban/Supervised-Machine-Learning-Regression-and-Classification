{
 "cells": [
  {
   "cell_type": "markdown",
   "id": "de72daa5-b0b0-40b1-aeb3-a350d6b2708c",
   "metadata": {},
   "source": [
    "# ___Gradient Descent___\n",
    "----------------"
   ]
  },
  {
   "cell_type": "code",
   "execution_count": 1,
   "id": "27dec895-b209-492a-891d-05629124eb8a",
   "metadata": {
    "execution": {
     "iopub.execute_input": "2024-03-27T22:21:52.050130Z",
     "iopub.status.busy": "2024-03-27T22:21:52.050130Z",
     "iopub.status.idle": "2024-03-27T22:21:53.128210Z",
     "shell.execute_reply": "2024-03-27T22:21:53.128034Z",
     "shell.execute_reply.started": "2024-03-27T22:21:52.050130Z"
    }
   },
   "outputs": [],
   "source": [
    "import numpy as np\n",
    "from numpy.typing import NDArray\n",
    "import pandas as pd\n",
    "import matplotlib.pyplot as plt\n",
    "from numba import jit"
   ]
  },
  {
   "cell_type": "code",
   "execution_count": 2,
   "id": "45fafbbc-a6bc-4dce-afc5-22c40e1b4a0c",
   "metadata": {
    "execution": {
     "iopub.execute_input": "2024-03-27T22:26:40.477218Z",
     "iopub.status.busy": "2024-03-27T22:26:40.477218Z",
     "iopub.status.idle": "2024-03-27T22:26:40.494696Z",
     "shell.execute_reply": "2024-03-27T22:26:40.494696Z",
     "shell.execute_reply.started": "2024-03-27T22:26:40.477218Z"
    }
   },
   "outputs": [],
   "source": [
    "# gradient descent is an algorithm that figures out the best fits for weights and bias, given a dataset\n",
    "# with the goal of minimizing the cost function\n",
    "# THE PHRASE \"COST FUNCTION\" JUST MEANS THE VALUE RETURNED BY THE COST FUNCTION"
   ]
  },
  {
   "cell_type": "code",
   "execution_count": 3,
   "id": "cc7c661e-ad0b-429a-9055-6ce67dbe4309",
   "metadata": {
    "execution": {
     "iopub.execute_input": "2024-03-27T22:30:11.863502Z",
     "iopub.status.busy": "2024-03-27T22:30:11.863502Z",
     "iopub.status.idle": "2024-03-27T22:30:11.869783Z",
     "shell.execute_reply": "2024-03-27T22:30:11.869719Z",
     "shell.execute_reply.started": "2024-03-27T22:30:11.863502Z"
    }
   },
   "outputs": [],
   "source": [
    "# the use of gradient descent isn't limited to linear regression, it is used almost everywhere\n",
    "# even in deep learning neural networks.\n",
    "# gradint descent is also usable with multivariate linear regression models."
   ]
  },
  {
   "cell_type": "code",
   "execution_count": 5,
   "id": "742393f9-caf1-4e7f-af16-1b3165a2d494",
   "metadata": {
    "execution": {
     "iopub.execute_input": "2024-03-27T22:31:20.062320Z",
     "iopub.status.busy": "2024-03-27T22:31:20.062320Z",
     "iopub.status.idle": "2024-03-27T22:31:20.070080Z",
     "shell.execute_reply": "2024-03-27T22:31:20.069993Z",
     "shell.execute_reply.started": "2024-03-27T22:31:20.062320Z"
    }
   },
   "outputs": [],
   "source": [
    "# the ultimate goal of gradient descent is to minimize the cost function j(w, b)"
   ]
  },
  {
   "cell_type": "markdown",
   "id": "37f21619-0613-40b8-8656-4bc3365ffe3c",
   "metadata": {},
   "source": [
    "# $j(w, b)$"
   ]
  },
  {
   "cell_type": "code",
   "execution_count": null,
   "id": "4660f950-c8aa-4b84-9271-a9a41dfdb66c",
   "metadata": {},
   "outputs": [],
   "source": [
    "# the intuition is to start out with some bootstrap values for w and b and iteratively update them by a constant\n",
    "# evaluating the cost function at every iteration and when the cost function is sufficiently low (lower than a predesignated threshold)\n",
    "# fixate on the w and b values that yielded that cost.\n",
    "\n",
    "# FOR SOME FUNCTIONS THERE CAN BE MORE THAN ONE MINIMUM."
   ]
  }
 ],
 "metadata": {
  "kernelspec": {
   "display_name": "Python 3 (ipykernel)",
   "language": "python",
   "name": "python3"
  },
  "language_info": {
   "codemirror_mode": {
    "name": "ipython",
    "version": 3
   },
   "file_extension": ".py",
   "mimetype": "text/x-python",
   "name": "python",
   "nbconvert_exporter": "python",
   "pygments_lexer": "ipython3",
   "version": "3.12.2"
  }
 },
 "nbformat": 4,
 "nbformat_minor": 5
}
