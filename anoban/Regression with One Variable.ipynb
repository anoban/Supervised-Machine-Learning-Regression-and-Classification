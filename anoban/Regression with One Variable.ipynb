{
 "cells": [
  {
   "cell_type": "markdown",
   "id": "cc6835c5-e52e-420f-a45f-1004251e4864",
   "metadata": {
    "execution": {
     "iopub.execute_input": "2024-03-09T21:00:48.221044Z",
     "iopub.status.busy": "2024-03-09T21:00:48.221044Z",
     "iopub.status.idle": "2024-03-09T21:00:48.227402Z",
     "shell.execute_reply": "2024-03-09T21:00:48.227402Z",
     "shell.execute_reply.started": "2024-03-09T21:00:48.221044Z"
    }
   },
   "source": [
    "## ___Univariate Linear Regression___\n",
    "--------------"
   ]
  },
  {
   "cell_type": "code",
   "execution_count": null,
   "id": "e8766441-2e3d-44f9-a083-45c125f4e9d1",
   "metadata": {},
   "outputs": [],
   "source": []
  },
  {
   "cell_type": "code",
   "execution_count": 1,
   "id": "7df77f7d-d7fd-4d7b-af8c-a619e4924b91",
   "metadata": {
    "execution": {
     "iopub.execute_input": "2024-04-18T04:30:01.135970Z",
     "iopub.status.busy": "2024-04-18T04:30:01.135970Z",
     "iopub.status.idle": "2024-04-18T04:30:05.516891Z",
     "shell.execute_reply": "2024-04-18T04:30:05.516891Z",
     "shell.execute_reply.started": "2024-04-18T04:30:01.135970Z"
    }
   },
   "outputs": [],
   "source": [
    "import numpy as np\n",
    "np.seterr(all = \"raise\")\n",
    "from numpy.typing import NDArray\n",
    "import matplotlib.pyplot as plt\n",
    "from sklearn.linear_model import LinearRegression"
   ]
  },
  {
   "cell_type": "code",
   "execution_count": null,
   "id": "7a5f6c62-7265-4789-83f1-f35c5b349b05",
   "metadata": {},
   "outputs": [],
   "source": []
  },
  {
   "cell_type": "code",
   "execution_count": 2,
   "id": "8eb079ba-0028-444f-85ca-9afc3e8162c8",
   "metadata": {
    "execution": {
     "iopub.execute_input": "2024-04-18T04:30:08.214237Z",
     "iopub.status.busy": "2024-04-18T04:30:08.214237Z",
     "iopub.status.idle": "2024-04-18T04:30:08.224129Z",
     "shell.execute_reply": "2024-04-18T04:30:08.224129Z",
     "shell.execute_reply.started": "2024-04-18T04:30:08.214237Z"
    }
   },
   "outputs": [],
   "source": [
    "# this is called supervised learning as we fed in the predictor and predictions to te model to learn from\n",
    "# so the model had access to a string of predictors and correct predictions to learn the associations.\n",
    "\n",
    "# supervised learning models that predict numerical continuous variables are called regression models.\n",
    "# supervised learning models that predict categorical variables are called classification models. (categorical nominal or categorical ordinal)\n",
    "# the principle distinction is that in classification there are only a small finite number of possible outcomes."
   ]
  },
  {
   "cell_type": "code",
   "execution_count": null,
   "id": "6ee977c0-3f1a-4353-98b2-4321c14f952f",
   "metadata": {},
   "outputs": [],
   "source": []
  },
  {
   "cell_type": "markdown",
   "id": "b300ea09-6c82-4fe2-9287-4c499e02c49f",
   "metadata": {
    "execution": {
     "iopub.execute_input": "2024-03-09T21:39:40.409685Z",
     "iopub.status.busy": "2024-03-09T21:39:40.409685Z",
     "iopub.status.idle": "2024-03-09T21:39:40.416681Z",
     "shell.execute_reply": "2024-03-09T21:39:40.415755Z",
     "shell.execute_reply.started": "2024-03-09T21:39:40.409685Z"
    }
   },
   "source": [
    "## ___HOW EXACTLY A SUPERVISED LEARNING ALGORITHM WORKS?___\n",
    "---------------------------"
   ]
  },
  {
   "cell_type": "code",
   "execution_count": 3,
   "id": "fa65736d-91c3-4969-b3b3-5403de016c37",
   "metadata": {
    "execution": {
     "iopub.execute_input": "2024-04-18T04:30:08.324052Z",
     "iopub.status.busy": "2024-04-18T04:30:08.324052Z",
     "iopub.status.idle": "2024-04-18T04:30:08.330728Z",
     "shell.execute_reply": "2024-04-18T04:30:08.330728Z",
     "shell.execute_reply.started": "2024-04-18T04:30:08.324052Z"
    }
   },
   "outputs": [],
   "source": [
    "# training set will typically include N number of features and a target variable\n",
    "# once trained the supervised learning algorithm would have learned a function that maps the predictors to the targets as best as possible.\n",
    "# when provided with new data, it just uses that function to propose predictions.\n",
    "# \"function\" here is just a fancy word for learned associations between predictors and the target.\n",
    "\n",
    "# in ML x hat is used to mark the predictions (estimates) made for x"
   ]
  },
  {
   "cell_type": "markdown",
   "id": "12865d03-9186-47b7-b0b4-86e64ecaf5c9",
   "metadata": {},
   "source": [
    "## $f(x) = \\hat{y}$"
   ]
  },
  {
   "cell_type": "code",
   "execution_count": 4,
   "id": "93944240-fd29-40d2-8791-d6af9feddf8e",
   "metadata": {
    "execution": {
     "iopub.execute_input": "2024-04-18T04:30:08.387138Z",
     "iopub.status.busy": "2024-04-18T04:30:08.387138Z",
     "iopub.status.idle": "2024-04-18T04:30:08.395286Z",
     "shell.execute_reply": "2024-04-18T04:30:08.395286Z",
     "shell.execute_reply.started": "2024-04-18T04:30:08.387138Z"
    }
   },
   "outputs": [],
   "source": [
    "# x is the input and the prediction is y\n",
    "# the function f is called the model."
   ]
  },
  {
   "cell_type": "code",
   "execution_count": null,
   "id": "9b10d430-a8ce-4903-97a6-cf88da65525c",
   "metadata": {},
   "outputs": [],
   "source": []
  },
  {
   "cell_type": "code",
   "execution_count": 5,
   "id": "d3fce71f-7d62-4b27-bee0-20aeadac60d7",
   "metadata": {
    "execution": {
     "iopub.execute_input": "2024-04-18T04:30:08.449820Z",
     "iopub.status.busy": "2024-04-18T04:30:08.449820Z",
     "iopub.status.idle": "2024-04-18T04:30:08.456902Z",
     "shell.execute_reply": "2024-04-18T04:30:08.456902Z",
     "shell.execute_reply.started": "2024-04-18T04:30:08.449820Z"
    }
   },
   "outputs": [],
   "source": [
    "# in standard ML parlance, input data is denoted as lowercase x\n",
    "# labels (targets) are denoted as lowecase y"
   ]
  },
  {
   "cell_type": "markdown",
   "id": "57cf2f1e-b7ef-4e12-a72a-525944b03ac5",
   "metadata": {},
   "source": [
    "Training examples (records) are referred to as ($x^{i}, y^{i}$) where, i registers the ith record/row in the dataset."
   ]
  },
  {
   "cell_type": "code",
   "execution_count": 6,
   "id": "d91e46dd-4bda-4b5d-bab4-6b1a617ed6f1",
   "metadata": {
    "execution": {
     "iopub.execute_input": "2024-04-18T04:30:08.512602Z",
     "iopub.status.busy": "2024-04-18T04:30:08.512602Z",
     "iopub.status.idle": "2024-04-18T04:30:08.519381Z",
     "shell.execute_reply": "2024-04-18T04:30:08.519381Z",
     "shell.execute_reply.started": "2024-04-18T04:30:08.512602Z"
    }
   },
   "outputs": [],
   "source": [
    "# The question now is how to define the function f?\n",
    "# what exactly the function f does to generate the predictions?"
   ]
  },
  {
   "cell_type": "code",
   "execution_count": null,
   "id": "c42e3073-a9dc-4203-95a4-fa784e968579",
   "metadata": {},
   "outputs": [],
   "source": []
  },
  {
   "cell_type": "code",
   "execution_count": 7,
   "id": "7eef4194-c269-482c-81d2-0414fa583efa",
   "metadata": {
    "execution": {
     "iopub.execute_input": "2024-04-18T04:30:08.575775Z",
     "iopub.status.busy": "2024-04-18T04:30:08.575775Z",
     "iopub.status.idle": "2024-04-18T04:30:08.582843Z",
     "shell.execute_reply": "2024-04-18T04:30:08.582843Z",
     "shell.execute_reply.started": "2024-04-18T04:30:08.575775Z"
    }
   },
   "outputs": [],
   "source": [
    "# let's imagine our regression model as a simple y = mx + b equation.\n",
    "# function f takes in the training data and training labels to learn the m and b and then uses them to make the predictions.\n",
    "# f(x) = mx + b\n",
    "# where m is the slope and b is a constant bias term.\n",
    "\n",
    "# ONE MAY ASK WHAT'S THE REASON BEHIND CHOOSING A LINEAR FUNCTION y = mx + b?\n",
    "# non-linear functions are in fact necessary in modelling complex datasets. \n",
    "# A linear function is choosen here primarily for simplicity.\n",
    "# regression models that use linear equations are called linear regression models.\n",
    "# linear regression models with one feature (one input variable) is univariate linear regression"
   ]
  },
  {
   "cell_type": "code",
   "execution_count": null,
   "id": "ba332d03-2896-46cb-8323-89a62f70eee0",
   "metadata": {},
   "outputs": [],
   "source": []
  },
  {
   "cell_type": "markdown",
   "id": "203b84d5-2f26-4e22-bf19-1d75b52d5134",
   "metadata": {},
   "source": [
    "## ___Implementing A Univariate Linear Regression Model From Scratch___\n",
    "-----------"
   ]
  },
  {
   "cell_type": "code",
   "execution_count": null,
   "id": "1bf04291-7c7c-4209-ae59-ad042fffbcc1",
   "metadata": {},
   "outputs": [],
   "source": []
  },
  {
   "cell_type": "code",
   "execution_count": 8,
   "id": "fd4ad729-939e-4e41-915f-6e3141701abf",
   "metadata": {
    "execution": {
     "iopub.execute_input": "2024-04-18T04:30:09.267292Z",
     "iopub.status.busy": "2024-04-18T04:30:09.267292Z",
     "iopub.status.idle": "2024-04-18T04:30:09.281981Z",
     "shell.execute_reply": "2024-04-18T04:30:09.281981Z",
     "shell.execute_reply.started": "2024-04-18T04:30:09.267292Z"
    }
   },
   "outputs": [],
   "source": [
    "# consider a model f(x) = wx + b\n",
    "# cost function is our usual squared error cost function j(x, b) :="
   ]
  },
  {
   "cell_type": "markdown",
   "id": "2c9c2437-3d65-46d1-afcf-36b6793932a2",
   "metadata": {},
   "source": [
    "### ___$j(w, b) = \\frac{1}{2N}\\sum_{i = 0}^{N}(f(x_i) - y_i)^{2}$___"
   ]
  },
  {
   "cell_type": "code",
   "execution_count": 9,
   "id": "baa12e93-9479-46b4-ba26-f5acc1d795ea",
   "metadata": {
    "execution": {
     "iopub.execute_input": "2024-04-18T04:30:09.611764Z",
     "iopub.status.busy": "2024-04-18T04:30:09.611764Z",
     "iopub.status.idle": "2024-04-18T04:30:09.620709Z",
     "shell.execute_reply": "2024-04-18T04:30:09.620070Z",
     "shell.execute_reply.started": "2024-04-18T04:30:09.611764Z"
    }
   },
   "outputs": [],
   "source": [
    "def squared_errors_costfn(inputs: NDArray[np.float64], targets: NDArray[np.float64], m: np.float64, b: np.float64) -> np.float64:\n",
    "    return np.square((inputs * m + b) - targets).sum() / (2 * inputs.size)"
   ]
  },
  {
   "cell_type": "code",
   "execution_count": null,
   "id": "a3ea4698-cee7-4699-8ad4-b04a810c195f",
   "metadata": {},
   "outputs": [],
   "source": []
  },
  {
   "cell_type": "code",
   "execution_count": 10,
   "id": "95844f96-6b69-4952-aceb-2cedd5359533",
   "metadata": {
    "execution": {
     "iopub.execute_input": "2024-04-18T04:30:09.988879Z",
     "iopub.status.busy": "2024-04-18T04:30:09.988879Z",
     "iopub.status.idle": "2024-04-18T04:30:10.003866Z",
     "shell.execute_reply": "2024-04-18T04:30:10.003750Z",
     "shell.execute_reply.started": "2024-04-18T04:30:09.988879Z"
    }
   },
   "outputs": [],
   "source": [
    "# the gradient descent algorithm for this univariate linear regression model is ::=\n",
    "# repeat until convergence ::="
   ]
  },
  {
   "cell_type": "markdown",
   "id": "9a12c283-d4df-4e91-bb8a-0e742ffdaa53",
   "metadata": {},
   "source": [
    "## ___$w = w - \\alpha \\cdot \\frac{\\partial}{\\partial{w}}j(w, b)$___\n",
    "## ___$b = b - \\alpha \\cdot \\frac{\\partial}{\\partial{b}}j(w, b)$___"
   ]
  },
  {
   "cell_type": "code",
   "execution_count": null,
   "id": "ac8d21f1-dfea-4981-9a3a-15099570bf76",
   "metadata": {},
   "outputs": [],
   "source": []
  },
  {
   "cell_type": "code",
   "execution_count": 11,
   "id": "5db59b42-8551-41cc-af53-000d4071f00e",
   "metadata": {
    "execution": {
     "iopub.execute_input": "2024-04-18T04:30:11.105948Z",
     "iopub.status.busy": "2024-04-18T04:30:11.105948Z",
     "iopub.status.idle": "2024-04-18T04:30:11.113427Z",
     "shell.execute_reply": "2024-04-18T04:30:11.113427Z",
     "shell.execute_reply.started": "2024-04-18T04:30:11.105948Z"
    }
   },
   "outputs": [],
   "source": [
    "# partial derivative of the cost function with respect to weight w ::"
   ]
  },
  {
   "cell_type": "markdown",
   "id": "462b5e31-9a0d-46ea-9458-2c9d7629884e",
   "metadata": {},
   "source": [
    "## ___$w = w - \\alpha \\cdot \\frac{\\partial}{\\partial{w}}j(w, b)$___\n",
    "## ___$w = w - \\alpha \\cdot \\frac{\\partial}{\\partial{w}}\\frac{1}{2N}\\sum_{i = 0}^{N}(f(x_i) - y_i)^{2}$___\n",
    "## ___$w = w - \\alpha \\cdot \\frac{\\partial}{\\partial{w}}\\frac{1}{2N}\\sum_{i = 0}^{N}(w x_i + b - y_i)^{2}$___\n",
    "---------------------\n",
    "___This is where calculus comes into play___\n",
    "\n",
    "## ___$w = w - \\alpha \\cdot \\frac{1}{2N}\\sum_{i = 0}^{N}(w x_i + b - y_i) \\times 2x_i$___\n",
    "--------------------\n",
    "## ___$w = w - \\alpha \\cdot \\frac{1}{N}\\sum_{i = 0}^{N}(w x_i + b - y_i) \\times x_i$___"
   ]
  },
  {
   "cell_type": "code",
   "execution_count": null,
   "id": "20a3e056-e39a-4dc5-801c-eb3078fbf6aa",
   "metadata": {},
   "outputs": [],
   "source": []
  },
  {
   "cell_type": "code",
   "execution_count": 12,
   "id": "70824716-42ad-49aa-992f-95285ce25c30",
   "metadata": {
    "execution": {
     "iopub.execute_input": "2024-04-18T04:30:11.570263Z",
     "iopub.status.busy": "2024-04-18T04:30:11.570263Z",
     "iopub.status.idle": "2024-04-18T04:30:11.579212Z",
     "shell.execute_reply": "2024-04-18T04:30:11.579212Z",
     "shell.execute_reply.started": "2024-04-18T04:30:11.570263Z"
    }
   },
   "outputs": [],
   "source": [
    "# partial derivative of the cost function with respect to bias b ::"
   ]
  },
  {
   "cell_type": "markdown",
   "id": "a078c470-ea89-4672-8b5f-d58c753c9499",
   "metadata": {
    "execution": {
     "iopub.execute_input": "2024-04-17T11:42:21.630886Z",
     "iopub.status.busy": "2024-04-17T11:42:21.630886Z",
     "iopub.status.idle": "2024-04-17T11:42:21.642183Z",
     "shell.execute_reply": "2024-04-17T11:42:21.641599Z",
     "shell.execute_reply.started": "2024-04-17T11:42:21.630886Z"
    }
   },
   "source": [
    "## ___$b = b - \\alpha \\cdot \\frac{\\partial}{\\partial{b}}j(w, b)$___\n",
    "## ___$b = b - \\alpha \\cdot \\frac{\\partial}{\\partial{b}}\\frac{1}{2N}\\sum_{i = 0}^{N}(f(x_i) - y_i)^{2}$___\n",
    "## ___$b = b - \\alpha \\cdot \\frac{\\partial}{\\partial{b}}\\frac{1}{2N}\\sum_{i = 0}^{N}(w x_i + b - y_i)^{2}$___\n",
    "---------------\n",
    "___This is where calculus comes into play___\n",
    "\n",
    "## ___$b = b - \\alpha \\cdot \\frac{1}{2N}\\sum_{i = 0}^{N}(w x_i + b - y_i) \\times 2$___\n",
    "---------------\n",
    "## ___$b = b - \\alpha \\cdot \\frac{1}{N}\\sum_{i = 0}^{N}(w x_i + b - y_i)$___"
   ]
  },
  {
   "cell_type": "code",
   "execution_count": null,
   "id": "62777ca4-9597-4181-bb19-4e8e95969198",
   "metadata": {},
   "outputs": [],
   "source": []
  },
  {
   "cell_type": "code",
   "execution_count": 13,
   "id": "24607c60-8d93-4aa3-a6af-aebd4f095431",
   "metadata": {
    "execution": {
     "iopub.execute_input": "2024-04-18T04:30:12.050023Z",
     "iopub.status.busy": "2024-04-18T04:30:12.050023Z",
     "iopub.status.idle": "2024-04-18T04:30:12.057923Z",
     "shell.execute_reply": "2024-04-18T04:30:12.057923Z",
     "shell.execute_reply.started": "2024-04-18T04:30:12.050023Z"
    }
   },
   "outputs": [],
   "source": [
    "# So, here's the expanded version of the gradient descent algorithm ::=\n",
    "# repeat until convergence,"
   ]
  },
  {
   "cell_type": "markdown",
   "id": "89494630-1139-4738-a33b-e49192a6e1a7",
   "metadata": {},
   "source": [
    "## ___$w = w - \\alpha \\cdot \\frac{1}{N}\\sum_{i = 0}^{N}(w x_i + b - y_i) \\times x_i$___\n",
    "## ___$b = b - \\alpha \\cdot \\frac{1}{N}\\sum_{i = 0}^{N}(w x_i + b - y_i)$___"
   ]
  },
  {
   "cell_type": "code",
   "execution_count": 14,
   "id": "716267dc-1647-4333-9d16-8083a82d2737",
   "metadata": {
    "execution": {
     "iopub.execute_input": "2024-04-18T04:30:12.372193Z",
     "iopub.status.busy": "2024-04-18T04:30:12.372193Z",
     "iopub.status.idle": "2024-04-18T04:30:12.379613Z",
     "shell.execute_reply": "2024-04-18T04:30:12.379431Z",
     "shell.execute_reply.started": "2024-04-18T04:30:12.372193Z"
    }
   },
   "outputs": [],
   "source": [
    "# REMEMBER:: PARAMETR UPDATES MUST BE EXECUTED SIMULTANEOUSLY"
   ]
  },
  {
   "cell_type": "code",
   "execution_count": null,
   "id": "9681c071-fa17-4358-a9de-f97707edbc60",
   "metadata": {},
   "outputs": [],
   "source": []
  },
  {
   "cell_type": "code",
   "execution_count": 15,
   "id": "a9dc2316-35c8-496f-bbef-42ca2723c4a7",
   "metadata": {
    "execution": {
     "iopub.execute_input": "2024-04-18T04:30:12.680692Z",
     "iopub.status.busy": "2024-04-18T04:30:12.680692Z",
     "iopub.status.idle": "2024-04-18T04:30:12.697983Z",
     "shell.execute_reply": "2024-04-18T04:30:12.697983Z",
     "shell.execute_reply.started": "2024-04-18T04:30:12.680692Z"
    }
   },
   "outputs": [],
   "source": [
    "# USING A SQUARED ERROR COST FUNCTION WITH LINEAR REGRESSION, THE COST FUNCTION IS SAID TO BE A CONVEX FUNCTION\n",
    "# IT WILL NEVER GIVE MULTIPLE MINIMA!\n",
    "# THERE'LL ONLY BE A SINGLE GLOBAL MINIMUM!"
   ]
  },
  {
   "cell_type": "code",
   "execution_count": null,
   "id": "4288db84-9b32-4845-87b7-8b48a852d723",
   "metadata": {},
   "outputs": [],
   "source": []
  },
  {
   "cell_type": "code",
   "execution_count": 16,
   "id": "9c7e0174-ccd2-41a6-986f-1e1b3583a0b8",
   "metadata": {
    "execution": {
     "iopub.execute_input": "2024-04-18T04:30:13.042584Z",
     "iopub.status.busy": "2024-04-18T04:30:13.042584Z",
     "iopub.status.idle": "2024-04-18T04:30:13.058806Z",
     "shell.execute_reply": "2024-04-18T04:30:13.058806Z",
     "shell.execute_reply.started": "2024-04-18T04:30:13.042584Z"
    }
   },
   "outputs": [],
   "source": [
    "# data\n",
    "\n",
    "x = np.arange(start = 10, stop = 100, step = 0.02)\n",
    "m = 3.8713458627\n",
    "b = 12.87345\n",
    "y = m * x + b"
   ]
  },
  {
   "cell_type": "code",
   "execution_count": null,
   "id": "32a129cc-6f2b-4530-a1d2-8495eeb9bd11",
   "metadata": {},
   "outputs": [],
   "source": []
  },
  {
   "cell_type": "code",
   "execution_count": 17,
   "id": "b651172e-d41a-4c1c-af70-d591070c0699",
   "metadata": {
    "execution": {
     "iopub.execute_input": "2024-04-18T04:30:13.938044Z",
     "iopub.status.busy": "2024-04-18T04:30:13.938044Z",
     "iopub.status.idle": "2024-04-18T04:30:13.954301Z",
     "shell.execute_reply": "2024-04-18T04:30:13.953984Z",
     "shell.execute_reply.started": "2024-04-18T04:30:13.938044Z"
    }
   },
   "outputs": [],
   "source": [
    "# gradient descent parameters\n",
    "\n",
    "ALPHA = 0.001\n",
    "bootstrap_m = 2.81453542\n",
    "bootstrap_b = 9.2617187\n",
    "niterations = 10000"
   ]
  },
  {
   "cell_type": "code",
   "execution_count": 18,
   "id": "578b417f-65f9-4603-a11b-070445505fc4",
   "metadata": {
    "execution": {
     "iopub.execute_input": "2024-04-18T04:30:15.257917Z",
     "iopub.status.busy": "2024-04-18T04:30:15.257917Z",
     "iopub.status.idle": "2024-04-18T04:30:15.600532Z",
     "shell.execute_reply": "2024-04-18T04:30:15.600532Z",
     "shell.execute_reply.started": "2024-04-18T04:30:15.257917Z"
    }
   },
   "outputs": [
    {
     "ename": "FloatingPointError",
     "evalue": "overflow encountered in reduce",
     "output_type": "error",
     "traceback": [
      "\u001b[1;31m---------------------------------------------------------------------------\u001b[0m",
      "\u001b[1;31mFloatingPointError\u001b[0m                        Traceback (most recent call last)",
      "Cell \u001b[1;32mIn[18], line 3\u001b[0m\n\u001b[0;32m      1\u001b[0m \u001b[38;5;28;01mfor\u001b[39;00m _ \u001b[38;5;129;01min\u001b[39;00m \u001b[38;5;28mrange\u001b[39m(niterations):\n\u001b[0;32m      2\u001b[0m     \u001b[38;5;66;03m# for the love of simultaneous updates,\u001b[39;00m\n\u001b[1;32m----> 3\u001b[0m     tmp_m \u001b[38;5;241m=\u001b[39m ALPHA \u001b[38;5;241m*\u001b[39m \u001b[43m(\u001b[49m\u001b[43m(\u001b[49m\u001b[43m(\u001b[49m\u001b[43mbootstrap_m\u001b[49m\u001b[43m \u001b[49m\u001b[38;5;241;43m*\u001b[39;49m\u001b[43m \u001b[49m\u001b[43mx\u001b[49m\u001b[43m)\u001b[49m\u001b[43m \u001b[49m\u001b[38;5;241;43m+\u001b[39;49m\u001b[43m \u001b[49m\u001b[43mbootstrap_b\u001b[49m\u001b[43m \u001b[49m\u001b[38;5;241;43m-\u001b[39;49m\u001b[43m \u001b[49m\u001b[43my\u001b[49m\u001b[43m)\u001b[49m\u001b[43m \u001b[49m\u001b[38;5;241;43m*\u001b[39;49m\u001b[43m \u001b[49m\u001b[43mx\u001b[49m\u001b[43m)\u001b[49m\u001b[38;5;241;43m.\u001b[39;49m\u001b[43msum\u001b[49m\u001b[43m(\u001b[49m\u001b[43m)\u001b[49m \u001b[38;5;241m/\u001b[39m x\u001b[38;5;241m.\u001b[39msize\n\u001b[0;32m      4\u001b[0m     tmp_b \u001b[38;5;241m=\u001b[39m ALPHA \u001b[38;5;241m*\u001b[39m (((bootstrap_m \u001b[38;5;241m*\u001b[39m x) \u001b[38;5;241m+\u001b[39m bootstrap_b \u001b[38;5;241m-\u001b[39m y))\u001b[38;5;241m.\u001b[39msum() \u001b[38;5;241m/\u001b[39m x\u001b[38;5;241m.\u001b[39msize\n\u001b[0;32m      6\u001b[0m     bootstrap_m \u001b[38;5;241m-\u001b[39m\u001b[38;5;241m=\u001b[39m tmp_m\n",
      "File \u001b[1;32mC:\\Program Files\\Python312\\Lib\\site-packages\\numpy\\core\\_methods.py:49\u001b[0m, in \u001b[0;36m_sum\u001b[1;34m(a, axis, dtype, out, keepdims, initial, where)\u001b[0m\n\u001b[0;32m     47\u001b[0m \u001b[38;5;28;01mdef\u001b[39;00m \u001b[38;5;21m_sum\u001b[39m(a, axis\u001b[38;5;241m=\u001b[39m\u001b[38;5;28;01mNone\u001b[39;00m, dtype\u001b[38;5;241m=\u001b[39m\u001b[38;5;28;01mNone\u001b[39;00m, out\u001b[38;5;241m=\u001b[39m\u001b[38;5;28;01mNone\u001b[39;00m, keepdims\u001b[38;5;241m=\u001b[39m\u001b[38;5;28;01mFalse\u001b[39;00m,\n\u001b[0;32m     48\u001b[0m          initial\u001b[38;5;241m=\u001b[39m_NoValue, where\u001b[38;5;241m=\u001b[39m\u001b[38;5;28;01mTrue\u001b[39;00m):\n\u001b[1;32m---> 49\u001b[0m     \u001b[38;5;28;01mreturn\u001b[39;00m \u001b[43mumr_sum\u001b[49m\u001b[43m(\u001b[49m\u001b[43ma\u001b[49m\u001b[43m,\u001b[49m\u001b[43m \u001b[49m\u001b[43maxis\u001b[49m\u001b[43m,\u001b[49m\u001b[43m \u001b[49m\u001b[43mdtype\u001b[49m\u001b[43m,\u001b[49m\u001b[43m \u001b[49m\u001b[43mout\u001b[49m\u001b[43m,\u001b[49m\u001b[43m \u001b[49m\u001b[43mkeepdims\u001b[49m\u001b[43m,\u001b[49m\u001b[43m \u001b[49m\u001b[43minitial\u001b[49m\u001b[43m,\u001b[49m\u001b[43m \u001b[49m\u001b[43mwhere\u001b[49m\u001b[43m)\u001b[49m\n",
      "\u001b[1;31mFloatingPointError\u001b[0m: overflow encountered in reduce"
     ]
    }
   ],
   "source": [
    "for _ in range(niterations):\n",
    "    # for the love of simultaneous updates,\n",
    "    tmp_m = ALPHA * (((bootstrap_m * x) + bootstrap_b - y) * x).sum() / x.size\n",
    "    tmp_b = ALPHA * (((bootstrap_m * x) + bootstrap_b - y)).sum() / x.size\n",
    "\n",
    "    bootstrap_m -= tmp_m\n",
    "    bootstrap_b -= tmp_b"
   ]
  },
  {
   "cell_type": "code",
   "execution_count": 19,
   "id": "3313f2d3-9876-4e90-93f6-20566cbc673e",
   "metadata": {
    "execution": {
     "iopub.execute_input": "2024-04-18T04:30:16.361146Z",
     "iopub.status.busy": "2024-04-18T04:30:16.361146Z",
     "iopub.status.idle": "2024-04-18T04:30:16.383442Z",
     "shell.execute_reply": "2024-04-18T04:30:16.383442Z",
     "shell.execute_reply.started": "2024-04-18T04:30:16.361146Z"
    }
   },
   "outputs": [
    {
     "data": {
      "text/plain": [
       "(-1.2753443256829544e+301, -1.8960945838102555e+299)"
      ]
     },
     "execution_count": 19,
     "metadata": {},
     "output_type": "execute_result"
    }
   ],
   "source": [
    "bootstrap_m, bootstrap_b"
   ]
  },
  {
   "cell_type": "code",
   "execution_count": null,
   "id": "02362b24-1aa2-476e-970b-8954438f206b",
   "metadata": {},
   "outputs": [],
   "source": []
  },
  {
   "cell_type": "code",
   "execution_count": 20,
   "id": "3c0d0b0a-a432-43d9-be02-25aec6221aeb",
   "metadata": {
    "execution": {
     "iopub.execute_input": "2024-04-18T04:41:10.737226Z",
     "iopub.status.busy": "2024-04-18T04:41:10.737226Z",
     "iopub.status.idle": "2024-04-18T04:41:10.741514Z",
     "shell.execute_reply": "2024-04-18T04:41:10.741463Z",
     "shell.execute_reply.started": "2024-04-18T04:41:10.737226Z"
    }
   },
   "outputs": [],
   "source": [
    "# BATCH GRADIENT DESCENTS\n",
    "\n",
    "# the term batch gradient descent refers to the fact that in every iteration of the gradient descent, we operate with all records of the training data\n",
    "# instead of a subset of the training data.\n",
    "# when computing the sum, we are computing sums of the entire batch of training examples!"
   ]
  },
  {
   "cell_type": "markdown",
   "id": "720fc1fa-ec7e-4994-9a8a-0856b91a44cd",
   "metadata": {},
   "source": [
    "## ___$=\\sum_{i=1}^{N}(f_{w,b}(x_i) - y_i)^2$___"
   ]
  },
  {
   "cell_type": "code",
   "execution_count": 21,
   "id": "1d34fb93-6d89-441d-8a06-df8edc5074ad",
   "metadata": {
    "execution": {
     "iopub.execute_input": "2024-04-18T04:43:01.781358Z",
     "iopub.status.busy": "2024-04-18T04:43:01.781358Z",
     "iopub.status.idle": "2024-04-18T04:43:01.798419Z",
     "shell.execute_reply": "2024-04-18T04:43:01.798419Z",
     "shell.execute_reply.started": "2024-04-18T04:43:01.781358Z"
    }
   },
   "outputs": [],
   "source": [
    "# that's the sum for all the records ranging from i = 0 to i = N in the training dataset!"
   ]
  },
  {
   "cell_type": "code",
   "execution_count": null,
   "id": "75d586a2-b216-498a-80a5-a70113200721",
   "metadata": {},
   "outputs": [],
   "source": []
  },
  {
   "cell_type": "code",
   "execution_count": null,
   "id": "19e3ab76-b86b-40d4-93f6-630c7525d778",
   "metadata": {},
   "outputs": [],
   "source": []
  }
 ],
 "metadata": {
  "kernelspec": {
   "display_name": "Python 3 (ipykernel)",
   "language": "python",
   "name": "python3"
  },
  "language_info": {
   "codemirror_mode": {
    "name": "ipython",
    "version": 3
   },
   "file_extension": ".py",
   "mimetype": "text/x-python",
   "name": "python",
   "nbconvert_exporter": "python",
   "pygments_lexer": "ipython3",
   "version": "3.12.3"
  }
 },
 "nbformat": 4,
 "nbformat_minor": 5
}
