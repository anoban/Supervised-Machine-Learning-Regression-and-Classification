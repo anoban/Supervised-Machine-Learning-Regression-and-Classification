{
 "cells": [
  {
   "cell_type": "code",
   "execution_count": 3,
   "id": "0d4c9121-4a19-4f48-83e2-85f6982d48d7",
   "metadata": {
    "execution": {
     "iopub.execute_input": "2024-03-11T08:52:08.452383Z",
     "iopub.status.busy": "2024-03-11T08:52:08.452383Z",
     "iopub.status.idle": "2024-03-11T08:52:09.277440Z",
     "shell.execute_reply": "2024-03-11T08:52:09.277440Z",
     "shell.execute_reply.started": "2024-03-11T08:52:08.452383Z"
    }
   },
   "outputs": [],
   "source": [
    "import numpy as np\n",
    "import pandas as pd\n",
    "import matplotlib.pyplot as plt\n",
    "from numba import jit"
   ]
  },
  {
   "cell_type": "code",
   "execution_count": null,
   "id": "55dbe1d2-d272-4e02-bfd4-581ecdcf53a6",
   "metadata": {},
   "outputs": [],
   "source": []
  },
  {
   "cell_type": "code",
   "execution_count": 1,
   "id": "3d2a3e40-f3c0-4621-ac15-0c0087b032d6",
   "metadata": {
    "execution": {
     "iopub.execute_input": "2024-03-19T00:18:01.452126Z",
     "iopub.status.busy": "2024-03-19T00:18:01.452126Z",
     "iopub.status.idle": "2024-03-19T00:18:01.468013Z",
     "shell.execute_reply": "2024-03-19T00:18:01.468013Z",
     "shell.execute_reply.started": "2024-03-19T00:18:01.452126Z"
    }
   },
   "outputs": [],
   "source": [
    "# MODEL: y = wx + b\n",
    "# PARAMETERS: w, b\n",
    "# MODEL: f()\n",
    "# COST FUNCTION: j()\n",
    "\n",
    "# we need to find the best possible values for w and b, such that our estimates end upas close as possible to the real targets.\n",
    "# what the cost function does is that it measures the difference between the model's predictions and the true target values."
   ]
  },
  {
   "cell_type": "code",
   "execution_count": null,
   "id": "b3130103-7cec-4721-a786-e9b99840a549",
   "metadata": {},
   "outputs": [],
   "source": []
  },
  {
   "cell_type": "markdown",
   "id": "554ced95-e8eb-4c34-8791-39296ad7f991",
   "metadata": {},
   "source": [
    "# ___$j(w, b) = \\frac{1}{2N}\\sum_{i = 0}^{N}(f(x_i) - y_i)^2$___"
   ]
  },
  {
   "cell_type": "code",
   "execution_count": 2,
   "id": "19baeb41-03af-4a7b-a986-5268214ed0bf",
   "metadata": {
    "execution": {
     "iopub.execute_input": "2024-03-19T00:29:15.697798Z",
     "iopub.status.busy": "2024-03-19T00:29:15.697798Z",
     "iopub.status.idle": "2024-03-19T00:29:15.711029Z",
     "shell.execute_reply": "2024-03-19T00:29:15.711029Z",
     "shell.execute_reply.started": "2024-03-19T00:29:15.697798Z"
    }
   },
   "outputs": [],
   "source": [
    "# f(x_i) = is the prediction for the ith record (y_hat_i)\n",
    "# f(x_i) - y_i = gives the difference between the prediction and the actual y value.\n",
    "# cost function gives us the half of the average of squares of such differences across all N records.\n",
    "# our goal is to make J(w, b) as small as possible, i.e bring the predictions and targets as close as possible :)"
   ]
  },
  {
   "cell_type": "code",
   "execution_count": null,
   "id": "4434b516-d7d9-4000-8c94-4dc6efbbff17",
   "metadata": {},
   "outputs": [],
   "source": []
  },
  {
   "cell_type": "code",
   "execution_count": 6,
   "id": "7f49f8dd-0021-4329-bc7d-67d477d73cd5",
   "metadata": {
    "execution": {
     "iopub.execute_input": "2024-03-11T09:02:28.969476Z",
     "iopub.status.busy": "2024-03-11T09:02:28.969476Z",
     "iopub.status.idle": "2024-03-11T09:02:29.028439Z",
     "shell.execute_reply": "2024-03-11T09:02:29.028439Z",
     "shell.execute_reply.started": "2024-03-11T09:02:28.969476Z"
    }
   },
   "outputs": [],
   "source": [
    "beans = pd.read_csv(r\"../anoban/Dry_Bean_Dataset.csv\")"
   ]
  },
  {
   "cell_type": "code",
   "execution_count": 13,
   "id": "32e38835-8015-4391-9d0c-42432908fe13",
   "metadata": {
    "execution": {
     "iopub.execute_input": "2024-03-11T09:03:43.207137Z",
     "iopub.status.busy": "2024-03-11T09:03:43.207137Z",
     "iopub.status.idle": "2024-03-11T09:03:43.216145Z",
     "shell.execute_reply": "2024-03-11T09:03:43.214993Z",
     "shell.execute_reply.started": "2024-03-11T09:03:43.207137Z"
    }
   },
   "outputs": [],
   "source": [
    "# feature and target\n",
    "\n",
    "x = beans.MajorAxisLength\n",
    "y = beans.Area"
   ]
  },
  {
   "cell_type": "code",
   "execution_count": null,
   "id": "d6705f6c-9c22-441f-a565-bf314e1b2d01",
   "metadata": {},
   "outputs": [],
   "source": []
  },
  {
   "cell_type": "code",
   "execution_count": null,
   "id": "88266ade-0b4f-41ca-a408-f8800b3c405c",
   "metadata": {},
   "outputs": [],
   "source": [
    "# let's handroll a linear regression model\n",
    "\n",
    "def linear_regression(predictor: NDArray[np.float64], learning_rate: float = 0.001, epsilon: float = 0.0001) -> tuple[float, float]:\n",
    "    \"\"\"\n",
    "    \"\"\"\n",
    "\n",
    "    error_margin: float = epsilon\n",
    "    m: float = 1.0 # bootstrap values\n",
    "    c: float = 1.0  \n",
    "\n",
    "    "
   ]
  }
 ],
 "metadata": {
  "kernelspec": {
   "display_name": "Python 3 (ipykernel)",
   "language": "python",
   "name": "python3"
  },
  "language_info": {
   "codemirror_mode": {
    "name": "ipython",
    "version": 3
   },
   "file_extension": ".py",
   "mimetype": "text/x-python",
   "name": "python",
   "nbconvert_exporter": "python",
   "pygments_lexer": "ipython3",
   "version": "3.12.2"
  }
 },
 "nbformat": 4,
 "nbformat_minor": 5
}
