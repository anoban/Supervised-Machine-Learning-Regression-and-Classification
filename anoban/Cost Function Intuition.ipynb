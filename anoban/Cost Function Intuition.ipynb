{
 "cells": [
  {
   "cell_type": "code",
   "execution_count": 3,
   "id": "0d4c9121-4a19-4f48-83e2-85f6982d48d7",
   "metadata": {
    "execution": {
     "iopub.execute_input": "2024-03-11T08:52:08.452383Z",
     "iopub.status.busy": "2024-03-11T08:52:08.452383Z",
     "iopub.status.idle": "2024-03-11T08:52:09.277440Z",
     "shell.execute_reply": "2024-03-11T08:52:09.277440Z",
     "shell.execute_reply.started": "2024-03-11T08:52:08.452383Z"
    }
   },
   "outputs": [],
   "source": [
    "import numpy as np\n",
    "import pandas as pd\n",
    "import matplotlib.pyplot as plt\n",
    "from numba import jit"
   ]
  },
  {
   "cell_type": "code",
   "execution_count": null,
   "id": "55dbe1d2-d272-4e02-bfd4-581ecdcf53a6",
   "metadata": {},
   "outputs": [],
   "source": []
  },
  {
   "cell_type": "code",
   "execution_count": null,
   "id": "3d2a3e40-f3c0-4621-ac15-0c0087b032d6",
   "metadata": {},
   "outputs": [],
   "source": [
    "# MODEL: y = mx + b\n",
    "# PARAMETERS: m, b\n",
    "# COST FUNCTION: f\n",
    "\n",
    "# we need to find the best possible values for w and b, such that we "
   ]
  }
 ],
 "metadata": {
  "kernelspec": {
   "display_name": "Python 3 (ipykernel)",
   "language": "python",
   "name": "python3"
  },
  "language_info": {
   "codemirror_mode": {
    "name": "ipython",
    "version": 3
   },
   "file_extension": ".py",
   "mimetype": "text/x-python",
   "name": "python",
   "nbconvert_exporter": "python",
   "pygments_lexer": "ipython3",
   "version": "3.12.2"
  }
 },
 "nbformat": 4,
 "nbformat_minor": 5
}
