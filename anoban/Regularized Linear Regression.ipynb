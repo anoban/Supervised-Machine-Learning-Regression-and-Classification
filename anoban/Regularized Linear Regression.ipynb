{
 "cells": [
  {
   "cell_type": "markdown",
   "id": "3c54f8a6-71fc-4dfc-a358-6468b6ea6124",
   "metadata": {},
   "source": [
    "# ___Regularized Linear Regression___\n",
    "------------------"
   ]
  },
  {
   "cell_type": "code",
   "execution_count": 1,
   "id": "a17d1a49-ff05-457d-ad68-de5fdae687e9",
   "metadata": {
    "execution": {
     "iopub.execute_input": "2024-05-27T03:57:06.064549Z",
     "iopub.status.busy": "2024-05-27T03:57:06.064549Z",
     "iopub.status.idle": "2024-05-27T03:57:06.074308Z",
     "shell.execute_reply": "2024-05-27T03:57:06.072940Z",
     "shell.execute_reply.started": "2024-05-27T03:57:06.064549Z"
    }
   },
   "outputs": [],
   "source": [
    "# this is the cost function that we have previously deduced for regularized regression,"
   ]
  },
  {
   "cell_type": "markdown",
   "id": "2d733b57-5a53-4cce-9169-ab7112389354",
   "metadata": {},
   "source": [
    "# ___$j(\\overrightarrow{w},b) = \\frac{1}{2N}\\sum_{i = 1}^N (f_{\\overrightarrow{w},b}(\\overrightarrow{x_i}) - y_i)^2 + \\frac{\\lambda}{2N} \\sum_{p = 1}^M w_p^2$___"
   ]
  },
  {
   "cell_type": "code",
   "execution_count": 3,
   "id": "b0db1b80-6ff5-46f4-a0e7-4f2a2395ddb1",
   "metadata": {
    "execution": {
     "iopub.execute_input": "2024-05-27T04:02:18.831003Z",
     "iopub.status.busy": "2024-05-27T04:02:18.831003Z",
     "iopub.status.idle": "2024-05-27T04:02:18.838453Z",
     "shell.execute_reply": "2024-05-27T04:02:18.838453Z",
     "shell.execute_reply.started": "2024-05-27T04:02:18.831003Z"
    }
   },
   "outputs": [],
   "source": [
    "# N - number of records\n",
    "# M - number of features"
   ]
  },
  {
   "cell_type": "code",
   "execution_count": 4,
   "id": "b2ff14bb-01cd-42b2-b93d-de48de2622e8",
   "metadata": {
    "execution": {
     "iopub.execute_input": "2024-05-27T04:03:33.492404Z",
     "iopub.status.busy": "2024-05-27T04:03:33.492404Z",
     "iopub.status.idle": "2024-05-27T04:03:33.501251Z",
     "shell.execute_reply": "2024-05-27T04:03:33.501251Z",
     "shell.execute_reply.started": "2024-05-27T04:03:33.492404Z"
    }
   },
   "outputs": [],
   "source": [
    "# gradient descent for regularized linear regression is exactly the same as the gradient descent for linear regression\n",
    "# but the we'll be using a different cost function"
   ]
  },
  {
   "cell_type": "markdown",
   "id": "b78013c2-372d-4ad9-b63c-7a321fc50ccf",
   "metadata": {},
   "source": [
    "# ___$w_p = w_p - \\alpha \\cdot \\frac{\\partial}{\\partial{w_p}} j(\\overrightarrow{w}, b) $___\n",
    "# ___$b = b - \\alpha \\cdot \\frac{\\partial}{\\partial{b}} j(\\overrightarrow{w}, b) $___"
   ]
  },
  {
   "cell_type": "code",
   "execution_count": 6,
   "id": "76007cff-0df3-4e61-9927-f9d5517862c2",
   "metadata": {
    "execution": {
     "iopub.execute_input": "2024-05-27T04:09:28.258997Z",
     "iopub.status.busy": "2024-05-27T04:09:28.258997Z",
     "iopub.status.idle": "2024-05-27T04:09:28.264326Z",
     "shell.execute_reply": "2024-05-27T04:09:28.264326Z",
     "shell.execute_reply.started": "2024-05-27T04:09:28.258997Z"
    }
   },
   "outputs": [],
   "source": [
    "# repeat until convergence!"
   ]
  },
  {
   "cell_type": "markdown",
   "id": "755bf9a2-fb3c-4ecb-9db2-8ce10821113b",
   "metadata": {},
   "source": [
    "# ___$w_p = w_p - \\alpha \\frac{\\partial}{\\partial{w_p}} \\{\\frac{1}{2N}\\sum_{i = 1}^N (f_{\\overrightarrow{w},b}(\\overrightarrow{x_i}) - y_i)^2 + \\frac{\\lambda}{2N} \\sum_{p = 1}^M w_p^2\\} $___\n",
    "# ___$b = b - \\alpha \\frac{\\partial}{\\partial{b}} \\{\\frac{1}{2N}\\sum_{i = 1}^N (f_{\\overrightarrow{w},b}(\\overrightarrow{x_i}) - y_i)^2 + \\frac{\\lambda}{2N} \\sum_{p = 1}^M w_p^2\\} $___"
   ]
  },
  {
   "cell_type": "code",
   "execution_count": 7,
   "id": "bf2cc896-119d-4ba4-8dd2-b0045be8effd",
   "metadata": {
    "execution": {
     "iopub.execute_input": "2024-05-27T04:18:16.017532Z",
     "iopub.status.busy": "2024-05-27T04:18:16.017532Z",
     "iopub.status.idle": "2024-05-27T04:18:16.029751Z",
     "shell.execute_reply": "2024-05-27T04:18:16.029633Z",
     "shell.execute_reply.started": "2024-05-27T04:18:16.017532Z"
    }
   },
   "outputs": [],
   "source": [
    "# after solving the derivatives,"
   ]
  },
  {
   "cell_type": "markdown",
   "id": "3019571d-e9c7-41ee-88ae-198c14a2f8d3",
   "metadata": {},
   "source": [
    "# ___$w_p = w_p - \\alpha (\\frac{1}{N}\\sum_{i = 1}^N (f_{\\overrightarrow{w},b}(\\overrightarrow{x_i}) - y_i) x_i + \\frac{\\lambda}{N} w_p) $___\n",
    "# ___$b = b - \\alpha \\frac{1}{N}\\sum_{i = 1}^N (f_{\\overrightarrow{w},b}(\\overrightarrow{x_i}) - y_i) $___"
   ]
  },
  {
   "cell_type": "code",
   "execution_count": 11,
   "id": "6c454a73-c59d-43be-ae13-b04d8bfb0280",
   "metadata": {
    "execution": {
     "iopub.execute_input": "2024-05-27T04:42:39.130483Z",
     "iopub.status.busy": "2024-05-27T04:42:39.130483Z",
     "iopub.status.idle": "2024-05-27T04:42:39.138665Z",
     "shell.execute_reply": "2024-05-27T04:42:39.137752Z",
     "shell.execute_reply.started": "2024-05-27T04:42:39.130483Z"
    }
   },
   "outputs": [],
   "source": [
    "# we could also rewrite the regularized weight update term as follows,"
   ]
  },
  {
   "cell_type": "markdown",
   "id": "98e68505-d6b2-4164-bc30-77d35274906e",
   "metadata": {},
   "source": [
    "# ___$w_p = w_p - \\alpha \\frac{1}{N}\\sum_{i = 1}^N (f_{\\overrightarrow{w},b}(\\overrightarrow{x_i}) - y_i) x_i - \\alpha \\frac{\\lambda}{N} w_p $___\n",
    "# ___$w_p = w_p - \\alpha \\frac{\\lambda}{N} w_p - \\alpha \\frac{1}{N}\\sum_{i = 1}^N (f_{\\overrightarrow{w},b}(\\overrightarrow{x_i}) - y_i) x_i $___\n",
    "# ___$w_p = w_p(1  - \\alpha \\frac{\\lambda}{N}) - \\alpha \\frac{1}{N}\\sum_{i = 1}^N (f_{\\overrightarrow{w},b}(\\overrightarrow{x_i}) - y_i) x_i $___"
   ]
  },
  {
   "cell_type": "code",
   "execution_count": 12,
   "id": "fa34c713-1c75-47bd-8316-fceb226b58c9",
   "metadata": {
    "execution": {
     "iopub.execute_input": "2024-05-27T04:42:39.743117Z",
     "iopub.status.busy": "2024-05-27T04:42:39.743117Z",
     "iopub.status.idle": "2024-05-27T04:42:39.750210Z",
     "shell.execute_reply": "2024-05-27T04:42:39.750210Z",
     "shell.execute_reply.started": "2024-05-27T04:42:39.743117Z"
    }
   },
   "outputs": [],
   "source": [
    "# the rightmost term in the last equation is the update term used in non-regularized linear regression!\n",
    "# hence, the only change is that instead of subtracting this term from w_p itself, we are subtracting it from w_p(1 - (alpha x lambda / N))"
   ]
  },
  {
   "cell_type": "code",
   "execution_count": 13,
   "id": "d0010ad6-cf3c-4b71-b7aa-4f0d04adb0e9",
   "metadata": {
    "execution": {
     "iopub.execute_input": "2024-05-27T04:42:40.057475Z",
     "iopub.status.busy": "2024-05-27T04:42:40.057475Z",
     "iopub.status.idle": "2024-05-27T04:42:40.065691Z",
     "shell.execute_reply": "2024-05-27T04:42:40.065691Z",
     "shell.execute_reply.started": "2024-05-27T04:42:40.057475Z"
    }
   },
   "outputs": [],
   "source": [
    "# the term (1 - alpha x lambda / N) dictates the result of the update\n",
    "# if it evaluates to a value > 1, then the new weight will not be affected much by subtracting the derivative\n",
    "# if this evalues to a value < 1.0, then the impact compounds and the weight will be penalized more!"
   ]
  },
  {
   "cell_type": "code",
   "execution_count": null,
   "id": "2d8e5f45-cede-49b0-98f1-ddee3d3a390d",
   "metadata": {},
   "outputs": [],
   "source": []
  },
  {
   "cell_type": "code",
   "execution_count": 14,
   "id": "c3f91900-df69-43f1-b0c9-10fde5833316",
   "metadata": {
    "execution": {
     "iopub.execute_input": "2024-05-27T04:44:22.946269Z",
     "iopub.status.busy": "2024-05-27T04:44:22.946269Z",
     "iopub.status.idle": "2024-05-27T04:44:22.990981Z",
     "shell.execute_reply": "2024-05-27T04:44:22.990981Z",
     "shell.execute_reply.started": "2024-05-27T04:44:22.946269Z"
    }
   },
   "outputs": [],
   "source": [
    "# say that our training dataset has 1_000_000_000 records\n",
    "N = 1_000_000_000\n",
    "\n",
    "# and our alpha of choice is 0.0175\n",
    "alpha = 0.0175\n",
    "\n",
    "# and we use a regularization parameter 5.0254\n",
    "_lambda = 5.0254"
   ]
  },
  {
   "cell_type": "code",
   "execution_count": 15,
   "id": "4865007f-2dfc-4996-8017-e4398021c761",
   "metadata": {
    "execution": {
     "iopub.execute_input": "2024-05-27T04:44:57.754241Z",
     "iopub.status.busy": "2024-05-27T04:44:57.754241Z",
     "iopub.status.idle": "2024-05-27T04:44:57.766057Z",
     "shell.execute_reply": "2024-05-27T04:44:57.766057Z",
     "shell.execute_reply.started": "2024-05-27T04:44:57.754241Z"
    }
   },
   "outputs": [
    {
     "data": {
      "text/plain": [
       "0.9999999999120555"
      ]
     },
     "execution_count": 15,
     "metadata": {},
     "output_type": "execute_result"
    }
   ],
   "source": [
    "1 - (alpha * _lambda / N)"
   ]
  },
  {
   "cell_type": "code",
   "execution_count": 22,
   "id": "8c1cf414-254d-43fe-b7db-e90c022f6dda",
   "metadata": {
    "execution": {
     "iopub.execute_input": "2024-05-27T04:46:31.777774Z",
     "iopub.status.busy": "2024-05-27T04:46:31.777774Z",
     "iopub.status.idle": "2024-05-27T04:46:31.788058Z",
     "shell.execute_reply": "2024-05-27T04:46:31.787938Z",
     "shell.execute_reply.started": "2024-05-27T04:46:31.777774Z"
    }
   },
   "outputs": [
    {
     "data": {
      "text/plain": [
       "'0.9999999999 w_i'"
      ]
     },
     "execution_count": 22,
     "metadata": {},
     "output_type": "execute_result"
    }
   ],
   "source": [
    "# so instead of subtracting the derivative from w_i, we'll be subtracting it from,\n",
    "\n",
    "f\"{(1 - (alpha * _lambda / N)):.10f} w_i\""
   ]
  },
  {
   "cell_type": "code",
   "execution_count": 23,
   "id": "3e0c1550-2cc3-48d9-9607-49a1147e6ec1",
   "metadata": {
    "execution": {
     "iopub.execute_input": "2024-05-27T04:46:54.969192Z",
     "iopub.status.busy": "2024-05-27T04:46:54.969192Z",
     "iopub.status.idle": "2024-05-27T04:46:54.982563Z",
     "shell.execute_reply": "2024-05-27T04:46:54.981882Z",
     "shell.execute_reply.started": "2024-05-27T04:46:54.969192Z"
    }
   },
   "outputs": [],
   "source": [
    "# which introduces an additional reduction"
   ]
  },
  {
   "cell_type": "code",
   "execution_count": 37,
   "id": "c90fc07b-c8df-4c53-8122-4f83c4cdece3",
   "metadata": {
    "execution": {
     "iopub.execute_input": "2024-05-27T04:49:09.433022Z",
     "iopub.status.busy": "2024-05-27T04:49:09.433022Z",
     "iopub.status.idle": "2024-05-27T04:49:09.446117Z",
     "shell.execute_reply": "2024-05-27T04:49:09.445596Z",
     "shell.execute_reply.started": "2024-05-27T04:49:09.433022Z"
    }
   },
   "outputs": [
    {
     "data": {
      "text/plain": [
       "0.99975"
      ]
     },
     "execution_count": 37,
     "metadata": {},
     "output_type": "execute_result"
    }
   ],
   "source": [
    "# with a higher lambda and alpha \n",
    "\n",
    "alpha = 0.25\n",
    "_lambda = 1_000_000\n",
    "\n",
    "1 - (alpha * _lambda / N)"
   ]
  },
  {
   "cell_type": "code",
   "execution_count": null,
   "id": "5f4dea71-2add-4397-9761-fb3a04cc1c23",
   "metadata": {},
   "outputs": [],
   "source": []
  }
 ],
 "metadata": {
  "kernelspec": {
   "display_name": "Python 3 (ipykernel)",
   "language": "python",
   "name": "python3"
  },
  "language_info": {
   "codemirror_mode": {
    "name": "ipython",
    "version": 3
   },
   "file_extension": ".py",
   "mimetype": "text/x-python",
   "name": "python",
   "nbconvert_exporter": "python",
   "pygments_lexer": "ipython3",
   "version": "3.12.3"
  }
 },
 "nbformat": 4,
 "nbformat_minor": 5
}
