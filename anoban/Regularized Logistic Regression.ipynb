{
 "cells": [
  {
   "cell_type": "markdown",
   "id": "bae18977-f443-45b1-be6b-942ac46ab55e",
   "metadata": {},
   "source": [
    "# ___Regularized Logistic Regression___\n",
    "--------------------"
   ]
  },
  {
   "cell_type": "code",
   "execution_count": 1,
   "id": "80a172b5-ecda-4da6-8570-9c4664fd64eb",
   "metadata": {
    "execution": {
     "iopub.execute_input": "2024-05-27T05:03:40.297616Z",
     "iopub.status.busy": "2024-05-27T05:03:40.297616Z",
     "iopub.status.idle": "2024-05-27T05:03:40.308148Z",
     "shell.execute_reply": "2024-05-27T05:03:40.308148Z",
     "shell.execute_reply.started": "2024-05-27T05:03:40.297616Z"
    }
   },
   "outputs": [],
   "source": [
    "# the cost function for non-regularized logistic regression is,"
   ]
  },
  {
   "cell_type": "markdown",
   "id": "afc41d8b-d97b-4a6d-a343-a3679af7a1a6",
   "metadata": {},
   "source": [
    "# ___$j(\\overrightarrow{w},b) = -\\frac{1}{N}\\sum_{i=0}^{N} y_i~log(f_{\\overrightarrow{w}, b}(\\overrightarrow{x_i})) + (1 - y_i)~log(1 - f_{\\overrightarrow{w}, b}(\\overrightarrow{x_i}))$___"
   ]
  },
  {
   "cell_type": "code",
   "execution_count": 3,
   "id": "a3199ee3-e4de-4bd7-832d-0321c3c934f8",
   "metadata": {
    "execution": {
     "iopub.execute_input": "2024-05-27T05:04:18.368766Z",
     "iopub.status.busy": "2024-05-27T05:04:18.368766Z",
     "iopub.status.idle": "2024-05-27T05:04:18.375364Z",
     "shell.execute_reply": "2024-05-27T05:04:18.375364Z",
     "shell.execute_reply.started": "2024-05-27T05:04:18.368766Z"
    }
   },
   "outputs": [],
   "source": [
    "# if we append the regularization term to this, we'll get"
   ]
  },
  {
   "cell_type": "markdown",
   "id": "7f2dc72c-b965-46b8-b8d5-ffdace721288",
   "metadata": {},
   "source": [
    "# ___$j(\\overrightarrow{w},b) = -\\frac{1}{N}\\sum_{i=0}^{N} y_i~log(f_{\\overrightarrow{w}, b}(\\overrightarrow{x_i})) + (1 - y_i)~log(1 - f_{\\overrightarrow{w}, b}(\\overrightarrow{x_i})) + \\frac{\\lambda}{2N}\\sum_{p = 1}^Nw_p^2$___"
   ]
  },
  {
   "cell_type": "code",
   "execution_count": null,
   "id": "2f8c959f-0662-4245-87e7-1ac49a87475b",
   "metadata": {},
   "outputs": [],
   "source": []
  },
  {
   "cell_type": "code",
   "execution_count": 5,
   "id": "dd259e73-9933-40fd-bc60-79c08e949c84",
   "metadata": {
    "execution": {
     "iopub.execute_input": "2024-05-27T05:07:34.057678Z",
     "iopub.status.busy": "2024-05-27T05:07:34.057678Z",
     "iopub.status.idle": "2024-05-27T05:07:34.065809Z",
     "shell.execute_reply": "2024-05-27T05:07:34.065809Z",
     "shell.execute_reply.started": "2024-05-27T05:07:34.057678Z"
    }
   },
   "outputs": [],
   "source": [
    "# as before, we'll use simultaneous updates in gradient descent,"
   ]
  },
  {
   "cell_type": "markdown",
   "id": "df4a79c0-500b-4d2f-8711-41c23845f7a2",
   "metadata": {},
   "source": [
    "# ___$w_p = w_p - \\alpha \\frac{\\partial}{\\partial{w_p}}j(\\overrightarrow{w},b)$___\n",
    "# ___$b = b - \\alpha \\frac{\\partial}{\\partial{b}}j(\\overrightarrow{w},b)$___"
   ]
  },
  {
   "cell_type": "code",
   "execution_count": null,
   "id": "0a3b1f07-b443-45cc-9311-fbc61119d6e2",
   "metadata": {},
   "outputs": [],
   "source": []
  }
 ],
 "metadata": {
  "kernelspec": {
   "display_name": "Python 3 (ipykernel)",
   "language": "python",
   "name": "python3"
  },
  "language_info": {
   "codemirror_mode": {
    "name": "ipython",
    "version": 3
   },
   "file_extension": ".py",
   "mimetype": "text/x-python",
   "name": "python",
   "nbconvert_exporter": "python",
   "pygments_lexer": "ipython3",
   "version": "3.12.3"
  }
 },
 "nbformat": 4,
 "nbformat_minor": 5
}
