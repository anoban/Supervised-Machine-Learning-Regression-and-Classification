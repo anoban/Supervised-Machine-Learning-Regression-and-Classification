{
 "cells": [
  {
   "cell_type": "code",
   "execution_count": 2,
   "id": "39e764b7-e405-44a8-a369-c829e3907e80",
   "metadata": {
    "execution": {
     "iopub.execute_input": "2024-05-16T00:25:25.167446Z",
     "iopub.status.busy": "2024-05-16T00:25:25.167446Z",
     "iopub.status.idle": "2024-05-16T00:25:26.361825Z",
     "shell.execute_reply": "2024-05-16T00:25:26.361825Z",
     "shell.execute_reply.started": "2024-05-16T00:25:25.167446Z"
    }
   },
   "outputs": [],
   "source": [
    "import numpy as np\n",
    "import matplotlib.pyplot as plt"
   ]
  },
  {
   "cell_type": "code",
   "execution_count": 3,
   "id": "e3800909-372b-487e-91ec-d7d6498f4bcb",
   "metadata": {
    "execution": {
     "iopub.execute_input": "2024-05-16T00:25:26.361825Z",
     "iopub.status.busy": "2024-05-16T00:25:26.361825Z",
     "iopub.status.idle": "2024-05-16T00:25:26.366352Z",
     "shell.execute_reply": "2024-05-16T00:25:26.366352Z",
     "shell.execute_reply.started": "2024-05-16T00:25:26.361825Z"
    }
   },
   "outputs": [],
   "source": [
    "# In gradient descent one critical choice is the selection of the learning rate alpha.\n",
    "# the principal job of gradient decent is to find the weights and bias that give the lowest cost function j(w, b)"
   ]
  },
  {
   "cell_type": "markdown",
   "id": "8bad02cb-f1cf-42f6-aa84-eb63715f2234",
   "metadata": {},
   "source": [
    "# ___$w_n = w_n - \\alpha \\cdot \\frac{\\partial}{\\partial{w_n}}{j(\\overrightarrow{w}, b)}$___\n",
    "# ___$b = b - \\alpha \\cdot \\frac{\\partial}{\\partial{b}}{j(\\overrightarrow{w}, b)}$___"
   ]
  },
  {
   "cell_type": "code",
   "execution_count": null,
   "id": "d7aca60e-cb88-4676-ac90-fd462869d73a",
   "metadata": {},
   "outputs": [],
   "source": []
  },
  {
   "cell_type": "code",
   "execution_count": 10,
   "id": "66b4360c-c78e-4411-9dce-e775f87d0fdc",
   "metadata": {
    "execution": {
     "iopub.execute_input": "2024-05-16T00:26:46.248911Z",
     "iopub.status.busy": "2024-05-16T00:26:46.248911Z",
     "iopub.status.idle": "2024-05-16T00:26:46.370104Z",
     "shell.execute_reply": "2024-05-16T00:26:46.370104Z",
     "shell.execute_reply.started": "2024-05-16T00:26:46.248911Z"
    }
   },
   "outputs": [
    {
     "data": {
      "image/png": "[encoded data removed]",
      "text/plain": [
       "<Figure size 640x480 with 1 Axes>"
      ]
     },
     "metadata": {},
     "output_type": "display_data"
    }
   ],
   "source": [
    "fig, axes = plt.subplots()\n",
    "axes.set_axisbelow(True)\n",
    "\n",
    "x = np.concatenate([np.square(np.arange(start = -400, stop = 20, step = 0.1, dtype = np.float32)) / 1000, np.repeat(a = [0.23], repeats = 1000)])\n",
    "\n",
    "axes.plot(x)\n",
    "axes.set_ylabel(r\"$j(\\overrightarrow{w}, b)$\")\n",
    "axes.set_xlabel(r\"$|iterations|$\")\n",
    "axes.scatter([1000, 2500], [90, 23], color = \"red\", edgecolor = \"black\", s = 100)\n",
    "# axes.grid()\n",
    "\n",
    "plt.show()"
   ]
  },
  {
   "cell_type": "code",
   "execution_count": 72,
   "id": "38473551-9aa3-4b55-aed5-1d53a3ec5437",
   "metadata": {
    "execution": {
     "iopub.execute_input": "2024-05-15T05:39:48.389079Z",
     "iopub.status.busy": "2024-05-15T05:39:48.389079Z",
     "iopub.status.idle": "2024-05-15T05:39:48.401248Z",
     "shell.execute_reply": "2024-05-15T05:39:48.400241Z",
     "shell.execute_reply.started": "2024-05-15T05:39:48.389079Z"
    }
   },
   "outputs": [],
   "source": [
    "# at the red mark, after 1000 iterations, the coefficients learned by gradient descent give a const function approximately 80.\n",
    "# after 2500 iterations, the cost function has decreased down to about 20.\n",
    "\n",
    "# IDEALLY THE COST FUNCTION J SHOULD DECREASE AFTER EVERY ITERATION\n",
    "# if the cost function j ever increases after a period of consistent decrease, that means that either the alpha is chosen poorly or \n",
    "# the alpha is too large."
   ]
  },
  {
   "cell_type": "code",
   "execution_count": 73,
   "id": "c93e94bb-a7c9-47d9-b6b0-f15bdc932b81",
   "metadata": {
    "execution": {
     "iopub.execute_input": "2024-05-15T05:42:17.754980Z",
     "iopub.status.busy": "2024-05-15T05:42:17.754980Z",
     "iopub.status.idle": "2024-05-15T05:42:17.758811Z",
     "shell.execute_reply": "2024-05-15T05:42:17.758811Z",
     "shell.execute_reply.started": "2024-05-15T05:42:17.754980Z"
    }
   },
   "outputs": [],
   "source": [
    "# in this plot, after approximately about 4000 iteration the cost function starts to level off.\n",
    "# i.e it is not changing very much with iterations downstream, meaning that gradient descent has converged"
   ]
  },
  {
   "cell_type": "code",
   "execution_count": 74,
   "id": "ee7a113e-b827-47dd-9998-c733ea3f55ef",
   "metadata": {
    "execution": {
     "iopub.execute_input": "2024-05-15T05:43:28.981712Z",
     "iopub.status.busy": "2024-05-15T05:43:28.981712Z",
     "iopub.status.idle": "2024-05-15T05:43:28.985244Z",
     "shell.execute_reply": "2024-05-15T05:43:28.984834Z",
     "shell.execute_reply.started": "2024-05-15T05:43:28.981712Z"
    }
   },
   "outputs": [],
   "source": [
    "# the number of iteration gradient descent takes to reach convergence can vary much."
   ]
  },
  {
   "cell_type": "code",
   "execution_count": null,
   "id": "87169c7d-1020-4932-8f21-e0cefd33c3b5",
   "metadata": {},
   "outputs": [],
   "source": []
  },
  {
   "cell_type": "markdown",
   "id": "abfa4084-1108-4ed2-b334-034e787575d7",
   "metadata": {},
   "source": [
    "## ___Automatic convergence test___\n",
    "----------------------"
   ]
  },
  {
   "cell_type": "code",
   "execution_count": 1,
   "id": "8dc7e44c-74e4-4cc8-91f2-11913f15f730",
   "metadata": {
    "execution": {
     "iopub.execute_input": "2024-05-16T00:31:30.256673Z",
     "iopub.status.busy": "2024-05-16T00:31:30.256673Z",
     "iopub.status.idle": "2024-05-16T00:31:30.266043Z",
     "shell.execute_reply": "2024-05-16T00:31:30.266043Z",
     "shell.execute_reply.started": "2024-05-16T00:31:30.256673Z"
    }
   },
   "outputs": [],
   "source": [
    "# let's set a tolerance threshold epsilon = 0.001\n",
    "# meaning we are willing to deem a model that has a cost function less than the predefined epsilon as converged"
   ]
  },
  {
   "cell_type": "code",
   "execution_count": 2,
   "id": "2d562359-8fb8-479d-ac0a-07e90340b982",
   "metadata": {
    "execution": {
     "iopub.execute_input": "2024-05-16T00:32:46.767963Z",
     "iopub.status.busy": "2024-05-16T00:32:46.767963Z",
     "iopub.status.idle": "2024-05-16T00:32:46.777551Z",
     "shell.execute_reply": "2024-05-16T00:32:46.777551Z",
     "shell.execute_reply.started": "2024-05-16T00:32:46.767963Z"
    }
   },
   "outputs": [],
   "source": [
    "# THE BOTTOM LINE IS THAT COST FUNCTION SHOULD ALWAYS DECREASE WITH ITERATIONS!\n",
    "# IF THERE ARE INTERMITTENT RISES, THAT MEANS SOMETHING IS WRONG SOMEWHERE!"
   ]
  },
  {
   "cell_type": "code",
   "execution_count": 3,
   "id": "2abdb2b2-cc0b-4872-b7b8-49bf1dd4ba19",
   "metadata": {
    "execution": {
     "iopub.execute_input": "2024-05-16T00:33:52.367268Z",
     "iopub.status.busy": "2024-05-16T00:33:52.367268Z",
     "iopub.status.idle": "2024-05-16T00:33:52.379114Z",
     "shell.execute_reply": "2024-05-16T00:33:52.379114Z",
     "shell.execute_reply.started": "2024-05-16T00:33:52.367268Z"
    }
   },
   "outputs": [],
   "source": [
    "# a steady increase in cost function could mean that the parameter update is incorrectly implemented, like so"
   ]
  },
  {
   "cell_type": "markdown",
   "id": "961a6228-1ddc-41c1-8c26-fb4162752063",
   "metadata": {},
   "source": [
    "# ___$w_n = w_n + \\alpha \\cdot \\frac{\\partial}{\\partial{w_n}}{j(\\overrightarrow{w},b)}$___"
   ]
  },
  {
   "cell_type": "code",
   "execution_count": 4,
   "id": "04fe895c-e970-41c1-8112-85da963af4e0",
   "metadata": {
    "execution": {
     "iopub.execute_input": "2024-05-16T00:35:59.164430Z",
     "iopub.status.busy": "2024-05-16T00:35:59.164430Z",
     "iopub.status.idle": "2024-05-16T00:35:59.174377Z",
     "shell.execute_reply": "2024-05-16T00:35:59.174377Z",
     "shell.execute_reply.started": "2024-05-16T00:35:59.164430Z"
    }
   },
   "outputs": [],
   "source": [
    "# instead of subtracting the learning rate x cost function's derivative, this implementation adds that to the previous w\n",
    "# this will definitely cause the cost function to increase with iterations"
   ]
  },
  {
   "cell_type": "code",
   "execution_count": null,
   "id": "512ac672-c408-4223-84e8-9b16d7bad61b",
   "metadata": {},
   "outputs": [],
   "source": []
  },
  {
   "cell_type": "code",
   "execution_count": 5,
   "id": "08af0025-8a75-4e03-a4f1-e1433f2d7ef9",
   "metadata": {
    "execution": {
     "iopub.execute_input": "2024-05-16T00:40:50.409900Z",
     "iopub.status.busy": "2024-05-16T00:40:50.409900Z",
     "iopub.status.idle": "2024-05-16T00:40:50.421287Z",
     "shell.execute_reply": "2024-05-16T00:40:50.420618Z",
     "shell.execute_reply.started": "2024-05-16T00:40:50.409900Z"
    }
   },
   "outputs": [],
   "source": [
    "# a large learning rate may lead to haphazard jumps in cost function\n",
    "# it is thus advisable to use a very small learning rate and ensure that the cost function decreases in every single iteration\n",
    "# SETTING A VERY SMALL LEARNING RATE IS USED AS A DEBUGGING TECHNIQUE, IT WILL MAKE THE IMPLEMENTATION INEFFICIENT IN PRODUCTION CODE\n",
    "# start with an alpha like 0.001 and then proceed like 0.005, 0.01, 0.05, 0.1, 0.5 ......."
   ]
  },
  {
   "cell_type": "code",
   "execution_count": null,
   "id": "c7fbef87-f82c-4c49-90d0-53e9ec07b8ba",
   "metadata": {},
   "outputs": [],
   "source": []
  }
 ],
 "metadata": {
  "kernelspec": {
   "display_name": "Python 3 (ipykernel)",
   "language": "python",
   "name": "python3"
  },
  "language_info": {
   "codemirror_mode": {
    "name": "ipython",
    "version": 3
   },
   "file_extension": ".py",
   "mimetype": "text/x-python",
   "name": "python",
   "nbconvert_exporter": "python",
   "pygments_lexer": "ipython3",
   "version": "3.12.3"
  }
 },
 "nbformat": 4,
 "nbformat_minor": 5
}
