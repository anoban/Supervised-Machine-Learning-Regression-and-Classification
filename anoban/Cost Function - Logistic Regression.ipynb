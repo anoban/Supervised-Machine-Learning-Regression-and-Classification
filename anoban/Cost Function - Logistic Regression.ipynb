{
 "cells": [
  {
   "cell_type": "markdown",
   "id": "c01b5f4e-fc88-47af-85a5-1152fa4a3d8f",
   "metadata": {},
   "source": [
    "# ___Cost Function - Logistic Regression___\n",
    "-----------------"
   ]
  },
  {
   "cell_type": "code",
   "execution_count": null,
   "id": "53f4dcbe-2d11-4319-b1d7-8fb2acc9ebfd",
   "metadata": {},
   "outputs": [],
   "source": []
  }
 ],
 "metadata": {
  "kernelspec": {
   "display_name": "Python 3 (ipykernel)",
   "language": "python",
   "name": "python3"
  },
  "language_info": {
   "codemirror_mode": {
    "name": "ipython",
    "version": 3
   },
   "file_extension": ".py",
   "mimetype": "text/x-python",
   "name": "python",
   "nbconvert_exporter": "python",
   "pygments_lexer": "ipython3",
   "version": "3.12.3"
  }
 },
 "nbformat": 4,
 "nbformat_minor": 5
}
