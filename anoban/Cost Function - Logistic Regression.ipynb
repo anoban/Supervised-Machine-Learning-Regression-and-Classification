{
 "cells": [
  {
   "cell_type": "markdown",
   "id": "c01b5f4e-fc88-47af-85a5-1152fa4a3d8f",
   "metadata": {},
   "source": [
    "# ___Cost Function - Logistic Regression___\n",
    "-----------------"
   ]
  },
  {
   "cell_type": "code",
   "execution_count": 44,
   "id": "5f7021a1-2d90-44a8-ae7a-cae27a54f39f",
   "metadata": {
    "execution": {
     "iopub.execute_input": "2024-05-25T05:27:37.969075Z",
     "iopub.status.busy": "2024-05-25T05:27:37.969075Z",
     "iopub.status.idle": "2024-05-25T05:27:37.982728Z",
     "shell.execute_reply": "2024-05-25T05:27:37.982175Z",
     "shell.execute_reply.started": "2024-05-25T05:27:37.969075Z"
    }
   },
   "outputs": [],
   "source": [
    "import numpy as np\n",
    "np.seterr(all = \"raise\")\n",
    "import matplotlib.pyplot as plt"
   ]
  },
  {
   "cell_type": "code",
   "execution_count": 45,
   "id": "53f4dcbe-2d11-4319-b1d7-8fb2acc9ebfd",
   "metadata": {
    "execution": {
     "iopub.execute_input": "2024-05-25T05:27:38.765255Z",
     "iopub.status.busy": "2024-05-25T05:27:38.765255Z",
     "iopub.status.idle": "2024-05-25T05:27:38.773327Z",
     "shell.execute_reply": "2024-05-25T05:27:38.773074Z",
     "shell.execute_reply.started": "2024-05-25T05:27:38.765255Z"
    }
   },
   "outputs": [],
   "source": [
    "# the squared error cost function that we've used for linear regression is not an ideal cost function for logistic regression!\n",
    "# imagine a training datset for a classification problem!\n",
    "# it contains the following predictors\n",
    "\n",
    "# 1) age of the patient\n",
    "# 2) tumour size\n",
    "# 3) RBC count\n",
    "# 4) WBC count\n",
    "# 5) platelets count\n",
    "# 6) haemoglobin content\n",
    "# 7) blood pH\n",
    "\n",
    "# and a target variable - tumour status\n",
    "# which is a nominal categorical variable - that can be either benign or malignant"
   ]
  },
  {
   "cell_type": "code",
   "execution_count": 46,
   "id": "07d7312a-b918-45df-815c-c30a058d1cd5",
   "metadata": {
    "execution": {
     "iopub.execute_input": "2024-05-25T05:27:38.937225Z",
     "iopub.status.busy": "2024-05-25T05:27:38.937225Z",
     "iopub.status.idle": "2024-05-25T05:27:38.946349Z",
     "shell.execute_reply": "2024-05-25T05:27:38.946349Z",
     "shell.execute_reply.started": "2024-05-25T05:27:38.937225Z"
    }
   },
   "outputs": [],
   "source": [
    "# this is a binary classification task and the logistic regression model is,"
   ]
  },
  {
   "cell_type": "markdown",
   "id": "727c742a-840b-4b08-b735-4b4fa1622be9",
   "metadata": {},
   "source": [
    "# ___$f_{\\overrightarrow{w}, b}(\\overrightarrow{x}) = \\frac{1}{1 + e^{- \\overrightarrow{w} \\cdot \\overrightarrow{x} + b}}$___"
   ]
  },
  {
   "cell_type": "code",
   "execution_count": 47,
   "id": "f381b8d1-7a67-4141-be86-d015bec7d557",
   "metadata": {
    "execution": {
     "iopub.execute_input": "2024-05-25T05:27:39.692036Z",
     "iopub.status.busy": "2024-05-25T05:27:39.692036Z",
     "iopub.status.idle": "2024-05-25T05:27:39.702563Z",
     "shell.execute_reply": "2024-05-25T05:27:39.701362Z",
     "shell.execute_reply.started": "2024-05-25T05:27:39.692036Z"
    }
   },
   "outputs": [],
   "source": [
    "# recall, that for linear regression the model was,"
   ]
  },
  {
   "cell_type": "markdown",
   "id": "310526a5-40ae-45f6-b897-59e09cc4ae98",
   "metadata": {},
   "source": [
    "# ___$f_{\\overrightarrow{w}, b}(\\overrightarrow{x}) = \\overrightarrow{w} \\cdot \\overrightarrow{x} + b$___"
   ]
  },
  {
   "cell_type": "code",
   "execution_count": 48,
   "id": "37b86382-5ee2-48c9-a00f-e22e7cb0f5ed",
   "metadata": {
    "execution": {
     "iopub.execute_input": "2024-05-25T05:27:39.773281Z",
     "iopub.status.busy": "2024-05-25T05:27:39.773281Z",
     "iopub.status.idle": "2024-05-25T05:27:39.776706Z",
     "shell.execute_reply": "2024-05-25T05:27:39.776706Z",
     "shell.execute_reply.started": "2024-05-25T05:27:39.773281Z"
    }
   },
   "outputs": [],
   "source": [
    "# and the cost function was,"
   ]
  },
  {
   "cell_type": "markdown",
   "id": "6f7cc47b-fb9c-4930-82fa-58a4b725f62d",
   "metadata": {},
   "source": [
    "# ___$j(\\overrightarrow{w}, b) = \\frac{1}{2N}\\sum_{i = 0}^{N}(f_{\\overrightarrow{w}, b}(\\overrightarrow{x_i}) - y_i)^2$___\n",
    "# ___$j(\\overrightarrow{w}, b) = \\frac{1}{2N}\\sum_{i = 0}^{N}(\\overrightarrow{w} \\cdot \\overrightarrow{x_i} + b - y_i)^2$___"
   ]
  },
  {
   "cell_type": "code",
   "execution_count": null,
   "id": "a51cb7ad-33f1-4a39-839b-6bdd2c20a2a5",
   "metadata": {},
   "outputs": [],
   "source": []
  },
  {
   "cell_type": "code",
   "execution_count": 49,
   "id": "8260cba0-a6d3-4c42-b6a5-607353d14c3f",
   "metadata": {
    "execution": {
     "iopub.execute_input": "2024-05-25T05:27:39.880740Z",
     "iopub.status.busy": "2024-05-25T05:27:39.880740Z",
     "iopub.status.idle": "2024-05-25T05:27:39.887230Z",
     "shell.execute_reply": "2024-05-25T05:27:39.887230Z",
     "shell.execute_reply.started": "2024-05-25T05:27:39.880740Z"
    }
   },
   "outputs": [],
   "source": [
    "# the issue here is that the cost function of logistic regression will not produce a smooth convex curve like the cost function of \n",
    "# linear regression did\n",
    "# cost function of logistic regression will produce a non-convex staggered curve with numerous local minima\n",
    "# the presence of many local minima will affect the gradient descent!\n",
    "# hence, the need for a new, improved cost function!"
   ]
  },
  {
   "cell_type": "code",
   "execution_count": 50,
   "id": "234ce325-ad6c-447d-9338-8dc304630b0e",
   "metadata": {
    "execution": {
     "iopub.execute_input": "2024-05-25T05:27:39.912472Z",
     "iopub.status.busy": "2024-05-25T05:27:39.912472Z",
     "iopub.status.idle": "2024-05-25T05:27:39.919031Z",
     "shell.execute_reply": "2024-05-25T05:27:39.919031Z",
     "shell.execute_reply.started": "2024-05-25T05:27:39.912472Z"
    }
   },
   "outputs": [],
   "source": [
    "# we can move the 1/2 from 1/2N inside the summation, like so"
   ]
  },
  {
   "cell_type": "markdown",
   "id": "613586c8-ab88-4013-81d3-bd88dd5cb171",
   "metadata": {},
   "source": [
    "# ___$j(\\overrightarrow{w}, b) = \\frac{1}{N}\\sum_{i = 0}^{N}\\frac{1}{2}(\\overrightarrow{w} \\cdot \\overrightarrow{x_i} + b - y_i)^2$___"
   ]
  },
  {
   "cell_type": "code",
   "execution_count": 51,
   "id": "9c87a83d-ab63-4d7c-bd0b-6f6fbf44a19b",
   "metadata": {
    "execution": {
     "iopub.execute_input": "2024-05-25T05:27:39.973937Z",
     "iopub.status.busy": "2024-05-25T05:27:39.973937Z",
     "iopub.status.idle": "2024-05-25T05:27:39.977678Z",
     "shell.execute_reply": "2024-05-25T05:27:39.977678Z",
     "shell.execute_reply.started": "2024-05-25T05:27:39.973937Z"
    }
   },
   "outputs": [],
   "source": [
    "# the loss term for a single training record (row) here is,\n",
    "# (the subscript i denotes the ith record in the training data)\n",
    "# N is the total number of records"
   ]
  },
  {
   "cell_type": "markdown",
   "id": "e79836c3-59d0-4434-a85a-f35507ba2532",
   "metadata": {},
   "source": [
    "# ___$\\frac{1}{2}(\\overrightarrow{w} \\cdot \\overrightarrow{x_i} + b - y_i)^2$___"
   ]
  },
  {
   "cell_type": "code",
   "execution_count": 52,
   "id": "9177e4f5-5a8c-420e-8b09-12d0634a94b4",
   "metadata": {
    "execution": {
     "iopub.execute_input": "2024-05-25T05:27:40.038096Z",
     "iopub.status.busy": "2024-05-25T05:27:40.038096Z",
     "iopub.status.idle": "2024-05-25T05:27:40.046045Z",
     "shell.execute_reply": "2024-05-25T05:27:40.046045Z",
     "shell.execute_reply.started": "2024-05-25T05:27:40.038096Z"
    }
   },
   "outputs": [],
   "source": [
    "# this term can be expressed as a function of the model and the true label\n",
    "# loss per record can thus be redefined as,"
   ]
  },
  {
   "cell_type": "markdown",
   "id": "d5824bbf-48bf-4ff4-bb21-d9f88e2ea229",
   "metadata": {},
   "source": [
    "# ___$j(\\overrightarrow{w}, b) = \\frac{1}{N}\\sum_{i = 0}^{N}L(f_{\\overrightarrow{w}, b}(\\overrightarrow{x_i}), y_i)$___"
   ]
  },
  {
   "cell_type": "code",
   "execution_count": 53,
   "id": "cbf3f797-227f-4b5c-b903-23ee589c5c88",
   "metadata": {
    "execution": {
     "iopub.execute_input": "2024-05-25T05:27:40.101682Z",
     "iopub.status.busy": "2024-05-25T05:27:40.101682Z",
     "iopub.status.idle": "2024-05-25T05:27:40.107183Z",
     "shell.execute_reply": "2024-05-25T05:27:40.107183Z",
     "shell.execute_reply.started": "2024-05-25T05:27:40.101682Z"
    }
   },
   "outputs": [],
   "source": [
    "# where L denotes the loss per record"
   ]
  },
  {
   "cell_type": "code",
   "execution_count": null,
   "id": "74f3a1e9-0537-4fe1-bfe6-5ba2abcc2de0",
   "metadata": {},
   "outputs": [],
   "source": []
  },
  {
   "cell_type": "code",
   "execution_count": 54,
   "id": "b1d92e7f-5121-4a18-89e1-274e2a251419",
   "metadata": {
    "execution": {
     "iopub.execute_input": "2024-05-25T05:27:40.714118Z",
     "iopub.status.busy": "2024-05-25T05:27:40.714118Z",
     "iopub.status.idle": "2024-05-25T05:27:40.721158Z",
     "shell.execute_reply": "2024-05-25T05:27:40.721158Z",
     "shell.execute_reply.started": "2024-05-25T05:27:40.714118Z"
    }
   },
   "outputs": [],
   "source": [
    "# the loss function used for logistic regression is,"
   ]
  },
  {
   "cell_type": "markdown",
   "id": "a3963508-016e-4b65-8a26-6d058315ba51",
   "metadata": {},
   "source": [
    "# ___$L(f_{\\overrightarrow{w}, b}(\\overrightarrow{x_i}), y_i) = \n",
    "\\begin{cases}\n",
    "-log(f_{\\overrightarrow{w}, b}(\\overrightarrow{x_i}))~~~~~~~~~~~\\text{if}~~~y_i = 1\\\\\n",
    "-log(1 - f_{\\overrightarrow{w}, b}(\\overrightarrow{x_i}))~~~~\\text{if}~~~y_i = 0\\\\\n",
    "\\end{cases}$___"
   ]
  },
  {
   "cell_type": "code",
   "execution_count": 55,
   "id": "ef0b6aed-3dce-426c-98a7-f2c108738410",
   "metadata": {
    "execution": {
     "iopub.execute_input": "2024-05-25T05:27:41.044522Z",
     "iopub.status.busy": "2024-05-25T05:27:41.044522Z",
     "iopub.status.idle": "2024-05-25T05:27:41.054416Z",
     "shell.execute_reply": "2024-05-25T05:27:41.053267Z",
     "shell.execute_reply.started": "2024-05-25T05:27:41.044522Z"
    }
   },
   "outputs": [],
   "source": [
    "# this new loss function is a conditional function that uses different expressions depending on the value of the true label in the training data"
   ]
  },
  {
   "cell_type": "code",
   "execution_count": 56,
   "id": "9f89d09a-bf4c-464a-9b12-e923a3cc1f40",
   "metadata": {
    "execution": {
     "iopub.execute_input": "2024-05-25T05:27:41.233293Z",
     "iopub.status.busy": "2024-05-25T05:27:41.233293Z",
     "iopub.status.idle": "2024-05-25T05:27:41.240620Z",
     "shell.execute_reply": "2024-05-25T05:27:41.240620Z",
     "shell.execute_reply.started": "2024-05-25T05:27:41.233293Z"
    }
   },
   "outputs": [],
   "source": [
    "# if the true label is 1 for a given record, then the loss function is "
   ]
  },
  {
   "cell_type": "markdown",
   "id": "00ff5195-5179-4919-ad39-eb6f9f9badcf",
   "metadata": {},
   "source": [
    "# $-log(f_{\\overrightarrow{w}, b}(\\overrightarrow{x_i}))$"
   ]
  },
  {
   "cell_type": "code",
   "execution_count": 57,
   "id": "3d14ec99-b438-466f-afa9-4e7591e9503d",
   "metadata": {
    "execution": {
     "iopub.execute_input": "2024-05-25T05:27:41.579655Z",
     "iopub.status.busy": "2024-05-25T05:27:41.579655Z",
     "iopub.status.idle": "2024-05-25T05:27:41.587175Z",
     "shell.execute_reply": "2024-05-25T05:27:41.587065Z",
     "shell.execute_reply.started": "2024-05-25T05:27:41.579655Z"
    }
   },
   "outputs": [],
   "source": [
    "# if the training label for a select row is 0, then the loss function is,"
   ]
  },
  {
   "cell_type": "markdown",
   "id": "09e072f8-72c4-4c0b-9da0-8e6478651b45",
   "metadata": {},
   "source": [
    "# $-log(1 - f_{\\overrightarrow{w}, b}(\\overrightarrow{x_i}))$\n",
    "_but_\n",
    "# $log(x - y) = log(x) - log(y)$\n",
    "_hence_\n",
    "# $-log(1 - f_{\\overrightarrow{w}, b}(\\overrightarrow{x_i}))$\n",
    "# $-log(1) + log(f_{\\overrightarrow{w}, b}(\\overrightarrow{x_i}))$\n",
    "# $log(f_{\\overrightarrow{w}, b}(\\overrightarrow{x_i}))$"
   ]
  },
  {
   "cell_type": "markdown",
   "id": "bcf85fcc-328b-4bff-abc1-bc6d10adbf0f",
   "metadata": {},
   "source": [
    "-------------------\n",
    "## ___Loss function vs. Cost function___\n",
    "-------------------"
   ]
  },
  {
   "cell_type": "code",
   "execution_count": 58,
   "id": "6e1f1df8-1f42-46da-9b2a-c4bb9706cb0c",
   "metadata": {
    "execution": {
     "iopub.execute_input": "2024-05-25T05:27:42.208537Z",
     "iopub.status.busy": "2024-05-25T05:27:42.208537Z",
     "iopub.status.idle": "2024-05-25T05:27:42.215839Z",
     "shell.execute_reply": "2024-05-25T05:27:42.215839Z",
     "shell.execute_reply.started": "2024-05-25T05:27:42.208537Z"
    }
   },
   "outputs": [],
   "source": [
    "# loss function is a function that computes the deviation of the prediction from the expected outcome per record or row\n",
    "# cost function is the one that averages all the losses over all the records in the training dataset!"
   ]
  },
  {
   "cell_type": "markdown",
   "id": "e9661932-5931-4a0d-be0c-0e55f8012acf",
   "metadata": {},
   "source": [
    "-----------------------"
   ]
  },
  {
   "cell_type": "code",
   "execution_count": 59,
   "id": "2474807d-eb53-4767-a8f0-fb06a48a99bc",
   "metadata": {
    "execution": {
     "iopub.execute_input": "2024-05-25T05:27:42.554194Z",
     "iopub.status.busy": "2024-05-25T05:27:42.554194Z",
     "iopub.status.idle": "2024-05-25T05:27:42.562050Z",
     "shell.execute_reply": "2024-05-25T05:27:42.561277Z",
     "shell.execute_reply.started": "2024-05-25T05:27:42.554194Z"
    }
   },
   "outputs": [],
   "source": [
    "# how the loss function changes with x when the actual target is 1 and 0"
   ]
  },
  {
   "cell_type": "code",
   "execution_count": 95,
   "id": "5324f632-e4d2-4d0c-a3d3-a386dda6f726",
   "metadata": {
    "execution": {
     "iopub.execute_input": "2024-05-25T05:41:09.479528Z",
     "iopub.status.busy": "2024-05-25T05:41:09.479528Z",
     "iopub.status.idle": "2024-05-25T05:41:09.597089Z",
     "shell.execute_reply": "2024-05-25T05:41:09.597089Z",
     "shell.execute_reply.started": "2024-05-25T05:41:09.479528Z"
    }
   },
   "outputs": [
    {
     "data": {
      "image/png": "[encoded data removed]",
      "text/plain": [
       "<Figure size 500x500 with 1 Axes>"
      ]
     },
     "metadata": {},
     "output_type": "display_data"
    }
   ],
   "source": [
    "fig, axes = plt.subplots()\n",
    "fig.set_size_inches(5, 5)\n",
    "\n",
    "f = np.linspace(0.00001, 4, num = 100)\n",
    "y_teq1 = -np.log(f)\n",
    "y_teq0 = np.log(f)\n",
    "axes.plot(f, y_teq0, label = \"-log(1 - f(x))\", color = \"blue\", marker = \"none\", linestyle = \"-\")\n",
    "axes.plot(f, y_teq1, label = \"-log(f(x))\", color = \"red\",  marker = \"none\", linestyle = \"-\")\n",
    "axes.legend()\n",
    "axes.grid()\n",
    "axes.set_xlabel(r\"$f(x)$\")\n",
    "axes.set_ylabel(r\"$Loss$\")\n",
    "plt.show()"
   ]
  },
  {
   "cell_type": "code",
   "execution_count": null,
   "id": "4ff37da0-aea7-4440-8789-f664eea24a7b",
   "metadata": {},
   "outputs": [],
   "source": [
    "# but remember, f(x) here represents the output of logistic regression and hence will always be in the range of 0 and 1\n",
    "# thus, we can safely ignore the part of the graph where f > 1"
   ]
  },
  {
   "cell_type": "code",
   "execution_count": 96,
   "id": "c7751825-47bc-44aa-9dc7-29c024d3cc67",
   "metadata": {
    "execution": {
     "iopub.execute_input": "2024-05-25T05:41:14.278460Z",
     "iopub.status.busy": "2024-05-25T05:41:14.278460Z",
     "iopub.status.idle": "2024-05-25T05:41:14.390883Z",
     "shell.execute_reply": "2024-05-25T05:41:14.390883Z",
     "shell.execute_reply.started": "2024-05-25T05:41:14.278460Z"
    }
   },
   "outputs": [
    {
     "data": {
      "image/png": "[encoded data removed]",
      "text/plain": [
       "<Figure size 500x500 with 1 Axes>"
      ]
     },
     "metadata": {},
     "output_type": "display_data"
    }
   ],
   "source": [
    "fig, axes = plt.subplots()\n",
    "fig.set_size_inches(5, 5)\n",
    "\n",
    "f = np.linspace(0.00001, 4, num = 100)\n",
    "y_teq1 = -np.log(f)\n",
    "y_teq0 = np.log(f)\n",
    "axes.plot(f, y_teq0, label = \"-log(1 - f(x))\", color = \"blue\", marker = \"none\", linestyle = \"-\")\n",
    "axes.plot(f, y_teq1, label = \"-log(f(x))\", color = \"red\",  marker = \"none\", linestyle = \"-\")\n",
    "axes.legend()\n",
    "axes.grid()\n",
    "axes.set_xlabel(r\"$f(x)$\")\n",
    "axes.set_xlim(0, 1)\n",
    "axes.set_ylabel(r\"$Loss$\")\n",
    "plt.show()"
   ]
  },
  {
   "cell_type": "code",
   "execution_count": null,
   "id": "e28ca672-71db-4600-ac51-a66c49d553ac",
   "metadata": {},
   "outputs": [],
   "source": []
  }
 ],
 "metadata": {
  "kernelspec": {
   "display_name": "Python 3 (ipykernel)",
   "language": "python",
   "name": "python3"
  },
  "language_info": {
   "codemirror_mode": {
    "name": "ipython",
    "version": 3
   },
   "file_extension": ".py",
   "mimetype": "text/x-python",
   "name": "python",
   "nbconvert_exporter": "python",
   "pygments_lexer": "ipython3",
   "version": "3.12.3"
  }
 },
 "nbformat": 4,
 "nbformat_minor": 5
}
