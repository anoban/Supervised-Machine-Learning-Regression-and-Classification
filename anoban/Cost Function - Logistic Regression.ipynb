{
 "cells": [
  {
   "cell_type": "markdown",
   "id": "c01b5f4e-fc88-47af-85a5-1152fa4a3d8f",
   "metadata": {},
   "source": [
    "# ___Cost Function - Logistic Regression___\n",
    "-----------------"
   ]
  },
  {
   "cell_type": "code",
   "execution_count": 1,
   "id": "5f7021a1-2d90-44a8-ae7a-cae27a54f39f",
   "metadata": {
    "execution": {
     "iopub.execute_input": "2024-05-25T09:45:29.197234Z",
     "iopub.status.busy": "2024-05-25T09:45:29.196285Z",
     "iopub.status.idle": "2024-05-25T09:45:30.352078Z",
     "shell.execute_reply": "2024-05-25T09:45:30.351817Z",
     "shell.execute_reply.started": "2024-05-25T09:45:29.197234Z"
    }
   },
   "outputs": [],
   "source": [
    "import numpy as np\n",
    "np.seterr(all = \"raise\")\n",
    "import matplotlib.pyplot as plt"
   ]
  },
  {
   "cell_type": "code",
   "execution_count": 2,
   "id": "53f4dcbe-2d11-4319-b1d7-8fb2acc9ebfd",
   "metadata": {
    "execution": {
     "iopub.execute_input": "2024-05-25T09:45:30.628415Z",
     "iopub.status.busy": "2024-05-25T09:45:30.627246Z",
     "iopub.status.idle": "2024-05-25T09:45:30.631472Z",
     "shell.execute_reply": "2024-05-25T09:45:30.631472Z",
     "shell.execute_reply.started": "2024-05-25T09:45:30.628415Z"
    }
   },
   "outputs": [],
   "source": [
    "# the squared error cost function that we've used for linear regression is not an ideal cost function for logistic regression!\n",
    "# imagine a training datset for a classification problem!\n",
    "# it contains the following predictors\n",
    "\n",
    "# 1) age of the patient\n",
    "# 2) tumour size\n",
    "# 3) RBC count\n",
    "# 4) WBC count\n",
    "# 5) platelets count\n",
    "# 6) haemoglobin content\n",
    "# 7) blood pH\n",
    "\n",
    "# and a target variable - tumour status\n",
    "# which is a nominal categorical variable - that can be either benign or malignant"
   ]
  },
  {
   "cell_type": "code",
   "execution_count": 3,
   "id": "07d7312a-b918-45df-815c-c30a058d1cd5",
   "metadata": {
    "execution": {
     "iopub.execute_input": "2024-05-25T09:45:31.123495Z",
     "iopub.status.busy": "2024-05-25T09:45:31.122493Z",
     "iopub.status.idle": "2024-05-25T09:45:31.125891Z",
     "shell.execute_reply": "2024-05-25T09:45:31.125891Z",
     "shell.execute_reply.started": "2024-05-25T09:45:31.123495Z"
    }
   },
   "outputs": [],
   "source": [
    "# this is a binary classification task and the logistic regression model is,"
   ]
  },
  {
   "cell_type": "markdown",
   "id": "727c742a-840b-4b08-b735-4b4fa1622be9",
   "metadata": {},
   "source": [
    "# ___$f_{\\overrightarrow{w}, b}(\\overrightarrow{x}) = \\frac{1}{1 + e^{- \\overrightarrow{w} \\cdot \\overrightarrow{x} + b}}$___"
   ]
  },
  {
   "cell_type": "code",
   "execution_count": 4,
   "id": "f381b8d1-7a67-4141-be86-d015bec7d557",
   "metadata": {
    "execution": {
     "iopub.execute_input": "2024-05-25T09:45:31.214086Z",
     "iopub.status.busy": "2024-05-25T09:45:31.214086Z",
     "iopub.status.idle": "2024-05-25T09:45:31.217828Z",
     "shell.execute_reply": "2024-05-25T09:45:31.217828Z",
     "shell.execute_reply.started": "2024-05-25T09:45:31.214086Z"
    }
   },
   "outputs": [],
   "source": [
    "# recall, that for linear regression the model was,"
   ]
  },
  {
   "cell_type": "markdown",
   "id": "310526a5-40ae-45f6-b897-59e09cc4ae98",
   "metadata": {},
   "source": [
    "# ___$f_{\\overrightarrow{w}, b}(\\overrightarrow{x}) = \\overrightarrow{w} \\cdot \\overrightarrow{x} + b$___"
   ]
  },
  {
   "cell_type": "code",
   "execution_count": 5,
   "id": "37b86382-5ee2-48c9-a00f-e22e7cb0f5ed",
   "metadata": {
    "execution": {
     "iopub.execute_input": "2024-05-25T09:45:31.281744Z",
     "iopub.status.busy": "2024-05-25T09:45:31.280824Z",
     "iopub.status.idle": "2024-05-25T09:45:31.283860Z",
     "shell.execute_reply": "2024-05-25T09:45:31.283860Z",
     "shell.execute_reply.started": "2024-05-25T09:45:31.280824Z"
    }
   },
   "outputs": [],
   "source": [
    "# and the cost function was,"
   ]
  },
  {
   "cell_type": "markdown",
   "id": "6f7cc47b-fb9c-4930-82fa-58a4b725f62d",
   "metadata": {},
   "source": [
    "# ___$j(\\overrightarrow{w}, b) = \\frac{1}{2N}\\sum_{i = 0}^{N}(f_{\\overrightarrow{w}, b}(\\overrightarrow{x_i}) - y_i)^2$___\n",
    "# ___$j(\\overrightarrow{w}, b) = \\frac{1}{2N}\\sum_{i = 0}^{N}(\\overrightarrow{w} \\cdot \\overrightarrow{x_i} + b - y_i)^2$___"
   ]
  },
  {
   "cell_type": "code",
   "execution_count": null,
   "id": "a51cb7ad-33f1-4a39-839b-6bdd2c20a2a5",
   "metadata": {},
   "outputs": [],
   "source": []
  },
  {
   "cell_type": "code",
   "execution_count": 6,
   "id": "8260cba0-a6d3-4c42-b6a5-607353d14c3f",
   "metadata": {
    "execution": {
     "iopub.execute_input": "2024-05-25T09:45:31.382607Z",
     "iopub.status.busy": "2024-05-25T09:45:31.382607Z",
     "iopub.status.idle": "2024-05-25T09:45:31.386335Z",
     "shell.execute_reply": "2024-05-25T09:45:31.386335Z",
     "shell.execute_reply.started": "2024-05-25T09:45:31.382607Z"
    }
   },
   "outputs": [],
   "source": [
    "# the issue here is that the cost function of logistic regression will not produce a smooth convex curve like the cost function of \n",
    "# linear regression did\n",
    "# cost function of logistic regression will produce a non-convex staggered curve with numerous local minima\n",
    "# the presence of many local minima will affect the gradient descent!\n",
    "# hence, the need for a new, improved cost function!"
   ]
  },
  {
   "cell_type": "code",
   "execution_count": 7,
   "id": "234ce325-ad6c-447d-9338-8dc304630b0e",
   "metadata": {
    "execution": {
     "iopub.execute_input": "2024-05-25T09:45:31.414577Z",
     "iopub.status.busy": "2024-05-25T09:45:31.414577Z",
     "iopub.status.idle": "2024-05-25T09:45:31.417175Z",
     "shell.execute_reply": "2024-05-25T09:45:31.417175Z",
     "shell.execute_reply.started": "2024-05-25T09:45:31.414577Z"
    }
   },
   "outputs": [],
   "source": [
    "# we can move the 1/2 from 1/2N inside the summation, like so"
   ]
  },
  {
   "cell_type": "markdown",
   "id": "613586c8-ab88-4013-81d3-bd88dd5cb171",
   "metadata": {},
   "source": [
    "# ___$j(\\overrightarrow{w}, b) = \\frac{1}{N}\\sum_{i = 0}^{N}\\frac{1}{2}(\\overrightarrow{w} \\cdot \\overrightarrow{x_i} + b - y_i)^2$___"
   ]
  },
  {
   "cell_type": "code",
   "execution_count": 8,
   "id": "9c87a83d-ab63-4d7c-bd0b-6f6fbf44a19b",
   "metadata": {
    "execution": {
     "iopub.execute_input": "2024-05-25T09:45:31.491398Z",
     "iopub.status.busy": "2024-05-25T09:45:31.491398Z",
     "iopub.status.idle": "2024-05-25T09:45:31.494205Z",
     "shell.execute_reply": "2024-05-25T09:45:31.494205Z",
     "shell.execute_reply.started": "2024-05-25T09:45:31.491398Z"
    }
   },
   "outputs": [],
   "source": [
    "# the loss term for a single training record (row) here is,\n",
    "# (the subscript i denotes the ith record in the training data)\n",
    "# N is the total number of records"
   ]
  },
  {
   "cell_type": "markdown",
   "id": "e79836c3-59d0-4434-a85a-f35507ba2532",
   "metadata": {},
   "source": [
    "# ___$\\frac{1}{2}(\\overrightarrow{w} \\cdot \\overrightarrow{x_i} + b - y_i)^2$___"
   ]
  },
  {
   "cell_type": "code",
   "execution_count": 9,
   "id": "9177e4f5-5a8c-420e-8b09-12d0634a94b4",
   "metadata": {
    "execution": {
     "iopub.execute_input": "2024-05-25T09:45:31.570609Z",
     "iopub.status.busy": "2024-05-25T09:45:31.570609Z",
     "iopub.status.idle": "2024-05-25T09:45:31.573591Z",
     "shell.execute_reply": "2024-05-25T09:45:31.573591Z",
     "shell.execute_reply.started": "2024-05-25T09:45:31.570609Z"
    }
   },
   "outputs": [],
   "source": [
    "# this term can be expressed as a function of the model and the true label\n",
    "# loss per record can thus be redefined as,"
   ]
  },
  {
   "cell_type": "markdown",
   "id": "d5824bbf-48bf-4ff4-bb21-d9f88e2ea229",
   "metadata": {},
   "source": [
    "# ___$j(\\overrightarrow{w}, b) = \\frac{1}{N}\\sum_{i = 0}^{N}l(f_{\\overrightarrow{w}, b}(\\overrightarrow{x_i}), y_i)$___"
   ]
  },
  {
   "cell_type": "code",
   "execution_count": 2,
   "id": "cbf3f797-227f-4b5c-b903-23ee589c5c88",
   "metadata": {
    "execution": {
     "iopub.execute_input": "2024-05-26T00:14:54.160706Z",
     "iopub.status.busy": "2024-05-26T00:14:54.160706Z",
     "iopub.status.idle": "2024-05-26T00:14:54.172760Z",
     "shell.execute_reply": "2024-05-26T00:14:54.172597Z",
     "shell.execute_reply.started": "2024-05-26T00:14:54.160706Z"
    }
   },
   "outputs": [],
   "source": [
    "# where l denotes the loss per record"
   ]
  },
  {
   "cell_type": "markdown",
   "id": "72f8f2c8-0297-46a3-bf2a-d22c89ab5ba1",
   "metadata": {},
   "source": [
    "## ___Logistic Loss Function___\n",
    "-------------------"
   ]
  },
  {
   "cell_type": "code",
   "execution_count": 11,
   "id": "b1d92e7f-5121-4a18-89e1-274e2a251419",
   "metadata": {
    "execution": {
     "iopub.execute_input": "2024-05-25T09:45:31.712042Z",
     "iopub.status.busy": "2024-05-25T09:45:31.711024Z",
     "iopub.status.idle": "2024-05-25T09:45:31.714306Z",
     "shell.execute_reply": "2024-05-25T09:45:31.714306Z",
     "shell.execute_reply.started": "2024-05-25T09:45:31.712042Z"
    }
   },
   "outputs": [],
   "source": [
    "# the loss function used for logistic regression is,"
   ]
  },
  {
   "cell_type": "markdown",
   "id": "a3963508-016e-4b65-8a26-6d058315ba51",
   "metadata": {},
   "source": [
    "# ___$l(f_{\\overrightarrow{w}, b}(\\overrightarrow{x_i}), y_i) = \n",
    "\\begin{cases}\n",
    "-log(f_{\\overrightarrow{w}, b}(\\overrightarrow{x_i}))~~~~~~~~~~~\\text{if}~~~y_i = 1\\\\\n",
    "-log(1 - f_{\\overrightarrow{w}, b}(\\overrightarrow{x_i}))~~~~\\text{if}~~~y_i = 0\\\\\n",
    "\\end{cases}$___"
   ]
  },
  {
   "cell_type": "code",
   "execution_count": 12,
   "id": "ef0b6aed-3dce-426c-98a7-f2c108738410",
   "metadata": {
    "execution": {
     "iopub.execute_input": "2024-05-25T09:45:31.767896Z",
     "iopub.status.busy": "2024-05-25T09:45:31.767896Z",
     "iopub.status.idle": "2024-05-25T09:45:31.771187Z",
     "shell.execute_reply": "2024-05-25T09:45:31.771187Z",
     "shell.execute_reply.started": "2024-05-25T09:45:31.767896Z"
    }
   },
   "outputs": [],
   "source": [
    "# this new loss function is a conditional function that uses different expressions depending on the value of the true label in the training data"
   ]
  },
  {
   "cell_type": "code",
   "execution_count": 13,
   "id": "9f89d09a-bf4c-464a-9b12-e923a3cc1f40",
   "metadata": {
    "execution": {
     "iopub.execute_input": "2024-05-25T09:45:31.793663Z",
     "iopub.status.busy": "2024-05-25T09:45:31.793663Z",
     "iopub.status.idle": "2024-05-25T09:45:31.796330Z",
     "shell.execute_reply": "2024-05-25T09:45:31.796330Z",
     "shell.execute_reply.started": "2024-05-25T09:45:31.793663Z"
    }
   },
   "outputs": [],
   "source": [
    "# if the true label is 1 for a given record, then the loss function is "
   ]
  },
  {
   "cell_type": "markdown",
   "id": "00ff5195-5179-4919-ad39-eb6f9f9badcf",
   "metadata": {},
   "source": [
    "# $-log(f_{\\overrightarrow{w}, b}(\\overrightarrow{x_i}))$"
   ]
  },
  {
   "cell_type": "code",
   "execution_count": 57,
   "id": "3d14ec99-b438-466f-afa9-4e7591e9503d",
   "metadata": {
    "execution": {
     "iopub.execute_input": "2024-05-25T05:27:41.579655Z",
     "iopub.status.busy": "2024-05-25T05:27:41.579655Z",
     "iopub.status.idle": "2024-05-25T05:27:41.587175Z",
     "shell.execute_reply": "2024-05-25T05:27:41.587065Z",
     "shell.execute_reply.started": "2024-05-25T05:27:41.579655Z"
    }
   },
   "outputs": [],
   "source": [
    "# if the training label for a select row is 0, then the loss function is,"
   ]
  },
  {
   "cell_type": "markdown",
   "id": "09e072f8-72c4-4c0b-9da0-8e6478651b45",
   "metadata": {},
   "source": [
    "# $-log(1 - f_{\\overrightarrow{w}, b}(\\overrightarrow{x_i}))$\n",
    "_but_\n",
    "# $log(x - y) = log(x) - log(y)$\n",
    "_hence_\n",
    "# $-log(1) + log(f_{\\overrightarrow{w}, b}(\\overrightarrow{x_i}))$\n",
    "# $log(f_{\\overrightarrow{w}, b}(\\overrightarrow{x_i}))$"
   ]
  },
  {
   "cell_type": "markdown",
   "id": "bcf85fcc-328b-4bff-abc1-bc6d10adbf0f",
   "metadata": {},
   "source": [
    "-------------------\n",
    "## ___Loss function vs. Cost function___\n",
    "-------------------"
   ]
  },
  {
   "cell_type": "code",
   "execution_count": 58,
   "id": "6e1f1df8-1f42-46da-9b2a-c4bb9706cb0c",
   "metadata": {
    "execution": {
     "iopub.execute_input": "2024-05-25T05:27:42.208537Z",
     "iopub.status.busy": "2024-05-25T05:27:42.208537Z",
     "iopub.status.idle": "2024-05-25T05:27:42.215839Z",
     "shell.execute_reply": "2024-05-25T05:27:42.215839Z",
     "shell.execute_reply.started": "2024-05-25T05:27:42.208537Z"
    }
   },
   "outputs": [],
   "source": [
    "# loss function is a function that computes the deviation of the prediction from the expected outcome per record or row\n",
    "# cost function is the one that averages all the losses over all the records in the training dataset!"
   ]
  },
  {
   "cell_type": "markdown",
   "id": "e9661932-5931-4a0d-be0c-0e55f8012acf",
   "metadata": {},
   "source": [
    "-----------------------"
   ]
  },
  {
   "cell_type": "code",
   "execution_count": 59,
   "id": "2474807d-eb53-4767-a8f0-fb06a48a99bc",
   "metadata": {
    "execution": {
     "iopub.execute_input": "2024-05-25T05:27:42.554194Z",
     "iopub.status.busy": "2024-05-25T05:27:42.554194Z",
     "iopub.status.idle": "2024-05-25T05:27:42.562050Z",
     "shell.execute_reply": "2024-05-25T05:27:42.561277Z",
     "shell.execute_reply.started": "2024-05-25T05:27:42.554194Z"
    }
   },
   "outputs": [],
   "source": [
    "# how the loss function changes with x when the actual target is 1 and 0"
   ]
  },
  {
   "cell_type": "code",
   "execution_count": 14,
   "id": "5324f632-e4d2-4d0c-a3d3-a386dda6f726",
   "metadata": {
    "execution": {
     "iopub.execute_input": "2024-05-25T09:46:24.330927Z",
     "iopub.status.busy": "2024-05-25T09:46:24.330927Z",
     "iopub.status.idle": "2024-05-25T09:46:24.572252Z",
     "shell.execute_reply": "2024-05-25T09:46:24.572252Z",
     "shell.execute_reply.started": "2024-05-25T09:46:24.330927Z"
    }
   },
   "outputs": [
    {
     "data": {
      "image/png": "[encoded data removed]",
      "text/plain": [
       "<Figure size 500x500 with 1 Axes>"
      ]
     },
     "metadata": {},
     "output_type": "display_data"
    }
   ],
   "source": [
    "fig, axes = plt.subplots()\n",
    "fig.set_size_inches(5, 5)\n",
    "\n",
    "f = np.linspace(0.00001, 4, num = 100)\n",
    "y_teq1 = -np.log(f)\n",
    "y_teq0 = np.log(f)\n",
    "axes.plot(f, y_teq0, label = \"-log(1 - f(x))\", color = \"blue\", marker = \"none\", linestyle = \"-\")\n",
    "axes.plot(f, y_teq1, label = \"-log(f(x))\", color = \"red\",  marker = \"none\", linestyle = \"-\")\n",
    "axes.legend()\n",
    "axes.grid()\n",
    "axes.set_xlabel(r\"$f(x)$\")\n",
    "axes.set_ylabel(r\"$Loss$\")\n",
    "plt.show()"
   ]
  },
  {
   "cell_type": "code",
   "execution_count": 15,
   "id": "4ff37da0-aea7-4440-8789-f664eea24a7b",
   "metadata": {
    "execution": {
     "iopub.execute_input": "2024-05-25T09:46:25.133268Z",
     "iopub.status.busy": "2024-05-25T09:46:25.133268Z",
     "iopub.status.idle": "2024-05-25T09:46:25.139864Z",
     "shell.execute_reply": "2024-05-25T09:46:25.139864Z",
     "shell.execute_reply.started": "2024-05-25T09:46:25.133268Z"
    }
   },
   "outputs": [],
   "source": [
    "# but remember, f(x) here represents the output of logistic regression and hence will always be in the range of 0 and 1\n",
    "# thus, we can safely ignore the part of the graph where f > 1"
   ]
  },
  {
   "cell_type": "code",
   "execution_count": 110,
   "id": "c7751825-47bc-44aa-9dc7-29c024d3cc67",
   "metadata": {
    "execution": {
     "iopub.execute_input": "2024-05-25T10:22:57.355850Z",
     "iopub.status.busy": "2024-05-25T10:22:57.355850Z",
     "iopub.status.idle": "2024-05-25T10:22:57.527485Z",
     "shell.execute_reply": "2024-05-25T10:22:57.527485Z",
     "shell.execute_reply.started": "2024-05-25T10:22:57.355850Z"
    }
   },
   "outputs": [
    {
     "data": {
      "image/png": "[encoded data removed]",
      "text/plain": [
       "<Figure size 500x500 with 1 Axes>"
      ]
     },
     "metadata": {},
     "output_type": "display_data"
    }
   ],
   "source": [
    "fig, axes = plt.subplots()\n",
    "fig.set_size_inches(5, 5)\n",
    "\n",
    "f = np.linspace(0.00001, 1, num = 1000)\n",
    "y_teq1 = -np.log(f)\n",
    "y_teq0 = np.log(f)\n",
    "axes.plot(f, y_teq0, label = \"-log(1 - f(x))\", color = \"blue\", marker = \"none\", linestyle = \"-\")\n",
    "axes.plot(f, y_teq1, label = \"-log(f(x))\", color = \"red\",  marker = \"none\", linestyle = \"-\")\n",
    "axes.legend()\n",
    "axes.grid()\n",
    "axes.set_xlabel(r\"$f(x)$\")\n",
    "axes.set_ylabel(r\"$Loss$\")\n",
    "plt.show()"
   ]
  },
  {
   "cell_type": "code",
   "execution_count": 111,
   "id": "e28ca672-71db-4600-ac51-a66c49d553ac",
   "metadata": {
    "execution": {
     "iopub.execute_input": "2024-05-25T10:22:59.071568Z",
     "iopub.status.busy": "2024-05-25T10:22:59.071568Z",
     "iopub.status.idle": "2024-05-25T10:22:59.079655Z",
     "shell.execute_reply": "2024-05-25T10:22:59.078640Z",
     "shell.execute_reply.started": "2024-05-25T10:22:59.071568Z"
    }
   },
   "outputs": [],
   "source": [
    "# both lines intersect the x axis at x = 1.0"
   ]
  },
  {
   "cell_type": "code",
   "execution_count": 112,
   "id": "b3eae7c7-8971-451b-8102-a752d2c75b7e",
   "metadata": {
    "execution": {
     "iopub.execute_input": "2024-05-25T10:22:59.666266Z",
     "iopub.status.busy": "2024-05-25T10:22:59.666266Z",
     "iopub.status.idle": "2024-05-25T10:22:59.677763Z",
     "shell.execute_reply": "2024-05-25T10:22:59.676750Z",
     "shell.execute_reply.started": "2024-05-25T10:22:59.666266Z"
    }
   },
   "outputs": [],
   "source": [
    "# if our logistic regression model predicts a probability close to 1 and the true label is 1, then the loss is very small (almost 0.00)\n",
    "# because the red line almost converges with the x axis at x = 1"
   ]
  },
  {
   "cell_type": "code",
   "execution_count": 113,
   "id": "829418a2-7321-4729-9ea0-8fd299be70f5",
   "metadata": {
    "execution": {
     "iopub.execute_input": "2024-05-25T10:22:59.933249Z",
     "iopub.status.busy": "2024-05-25T10:22:59.933249Z",
     "iopub.status.idle": "2024-05-25T10:22:59.943509Z",
     "shell.execute_reply": "2024-05-25T10:22:59.943509Z",
     "shell.execute_reply.started": "2024-05-25T10:22:59.933249Z"
    }
   },
   "outputs": [
    {
     "data": {
      "text/plain": [
       "0.37587258825086156"
      ]
     },
     "execution_count": 113,
     "metadata": {},
     "output_type": "execute_result"
    }
   ],
   "source": [
    "# if the algorithm's prediction is 0.684 and the true label is 1, the the loss is around,\n",
    "\n",
    "y_teq1[np.argmax(np.isclose(f, 0.6868, rtol = 0.001))]"
   ]
  },
  {
   "cell_type": "code",
   "execution_count": 114,
   "id": "5522a158-54a7-4f29-9bcf-4df6ea21220e",
   "metadata": {
    "execution": {
     "iopub.execute_input": "2024-05-25T10:23:00.743416Z",
     "iopub.status.busy": "2024-05-25T10:23:00.743416Z",
     "iopub.status.idle": "2024-05-25T10:23:00.754074Z",
     "shell.execute_reply": "2024-05-25T10:23:00.754074Z",
     "shell.execute_reply.started": "2024-05-25T10:23:00.743416Z"
    }
   },
   "outputs": [
    {
     "data": {
      "text/plain": [
       "1.1290815268523313"
      ]
     },
     "execution_count": 114,
     "metadata": {},
     "output_type": "execute_result"
    }
   ],
   "source": [
    "# if the algorithm's prediction is 0.32 and the true label is 1, the the loss is around,\n",
    "\n",
    "y_teq1[np.argmax(np.isclose(f, 0.3232, rtol = 0.001))]"
   ]
  },
  {
   "cell_type": "code",
   "execution_count": 115,
   "id": "85237be0-8b9d-4a96-834b-7cb4afef3120",
   "metadata": {
    "execution": {
     "iopub.execute_input": "2024-05-25T10:23:02.472960Z",
     "iopub.status.busy": "2024-05-25T10:23:02.472960Z",
     "iopub.status.idle": "2024-05-25T10:23:02.483516Z",
     "shell.execute_reply": "2024-05-25T10:23:02.483516Z",
     "shell.execute_reply.started": "2024-05-25T10:23:02.472960Z"
    }
   },
   "outputs": [
    {
     "data": {
      "text/plain": [
       "2.1108916737008347"
      ]
     },
     "execution_count": 115,
     "metadata": {},
     "output_type": "execute_result"
    }
   ],
   "source": [
    "# if the algorithm's prediction is 0.1 and the true label is 1, the the loss is around,\n",
    "\n",
    "y_teq1[np.argmax(np.isclose(f, 0.12122, rtol = 0.001))]"
   ]
  },
  {
   "cell_type": "code",
   "execution_count": 116,
   "id": "9928b503-d313-411d-b8a4-0dfd4ddd0370",
   "metadata": {
    "execution": {
     "iopub.execute_input": "2024-05-25T10:23:03.221233Z",
     "iopub.status.busy": "2024-05-25T10:23:03.220209Z",
     "iopub.status.idle": "2024-05-25T10:23:03.225488Z",
     "shell.execute_reply": "2024-05-25T10:23:03.224976Z",
     "shell.execute_reply.started": "2024-05-25T10:23:03.220209Z"
    }
   },
   "outputs": [
    {
     "data": {
      "text/plain": [
       "11.512925464970229"
      ]
     },
     "execution_count": 116,
     "metadata": {},
     "output_type": "execute_result"
    }
   ],
   "source": [
    "# if the algorithm's prediction is 0.001 and the true label is 1, the the loss is around,\n",
    "\n",
    "y_teq1[np.argmax(np.isclose(f, 0.001, rtol = 0.001))]"
   ]
  },
  {
   "cell_type": "code",
   "execution_count": 117,
   "id": "ef2480b1-328b-4586-aee5-b80c8ea2cad9",
   "metadata": {
    "execution": {
     "iopub.execute_input": "2024-05-25T10:23:03.785787Z",
     "iopub.status.busy": "2024-05-25T10:23:03.785787Z",
     "iopub.status.idle": "2024-05-25T10:23:03.796250Z",
     "shell.execute_reply": "2024-05-25T10:23:03.796250Z",
     "shell.execute_reply.started": "2024-05-25T10:23:03.785787Z"
    }
   },
   "outputs": [
    {
     "data": {
      "text/plain": [
       "-0.03152237112409383"
      ]
     },
     "execution_count": 117,
     "metadata": {},
     "output_type": "execute_result"
    }
   ],
   "source": [
    "# consider the cases where the true label is 0,\n",
    "# if the algorithm's prediction is 0.031 and the true label is 0, the the loss is around,\n",
    "\n",
    "y_teq0[np.argmax(np.isclose(f, 1 - 0.031, rtol = 0.001))]"
   ]
  },
  {
   "cell_type": "code",
   "execution_count": 118,
   "id": "6146f7b0-28e4-4d60-850d-c57b71c596b9",
   "metadata": {
    "execution": {
     "iopub.execute_input": "2024-05-25T10:23:04.707241Z",
     "iopub.status.busy": "2024-05-25T10:23:04.707241Z",
     "iopub.status.idle": "2024-05-25T10:23:04.716840Z",
     "shell.execute_reply": "2024-05-25T10:23:04.716840Z",
     "shell.execute_reply.started": "2024-05-25T10:23:04.707241Z"
    }
   },
   "outputs": [
    {
     "data": {
      "text/plain": [
       "-0.9053251730730828"
      ]
     },
     "execution_count": 118,
     "metadata": {},
     "output_type": "execute_result"
    }
   ],
   "source": [
    "# if the algorithm's prediction is 0.59595061 and the true label is 0, the the loss is around,\n",
    "\n",
    "y_teq0[np.argmax(np.isclose(f, 1 - 0.59595061, rtol = 0.001))]"
   ]
  },
  {
   "cell_type": "code",
   "execution_count": 119,
   "id": "986b9072-efea-4526-b77e-fc3e03dd3ffa",
   "metadata": {
    "execution": {
     "iopub.execute_input": "2024-05-25T10:23:05.546543Z",
     "iopub.status.busy": "2024-05-25T10:23:05.546543Z",
     "iopub.status.idle": "2024-05-25T10:23:05.555965Z",
     "shell.execute_reply": "2024-05-25T10:23:05.555965Z",
     "shell.execute_reply.started": "2024-05-25T10:23:05.546543Z"
    }
   },
   "outputs": [
    {
     "data": {
      "text/plain": [
       "-11.512925464970229"
      ]
     },
     "execution_count": 119,
     "metadata": {},
     "output_type": "execute_result"
    }
   ],
   "source": [
    "# if the algorithm's prediction is 0.99999 and the true label is 0, the the loss is around,\n",
    "\n",
    "y_teq0[np.argmax(np.isclose(f, 1 - 0.99999, rtol = 0.001))]"
   ]
  },
  {
   "cell_type": "code",
   "execution_count": 121,
   "id": "62411136-8e14-4b06-9cdc-4e174d961aca",
   "metadata": {
    "execution": {
     "iopub.execute_input": "2024-05-25T10:27:23.422443Z",
     "iopub.status.busy": "2024-05-25T10:27:23.422443Z",
     "iopub.status.idle": "2024-05-25T10:27:23.432223Z",
     "shell.execute_reply": "2024-05-25T10:27:23.432223Z",
     "shell.execute_reply.started": "2024-05-25T10:27:23.422443Z"
    }
   },
   "outputs": [],
   "source": [
    "# the more the prediction deviates from the target, higher the penalty imposed by the loss function will be,\n",
    "# this will nudge the model to fine tune the coefficients during gradient descent, to make more accurate predictions"
   ]
  },
  {
   "cell_type": "code",
   "execution_count": null,
   "id": "65c277d0-d06f-4786-af05-968bfe3b9518",
   "metadata": {},
   "outputs": [],
   "source": []
  },
  {
   "cell_type": "markdown",
   "id": "17089f91-6964-49a7-b93d-f39f5e3ce9e7",
   "metadata": {},
   "source": [
    "# ___Simplified Cost Function___\n",
    "----------------"
   ]
  },
  {
   "cell_type": "code",
   "execution_count": 149,
   "id": "fd7795af-8737-4f83-855c-fc5523de8e2c",
   "metadata": {
    "execution": {
     "iopub.execute_input": "2024-05-25T11:22:55.648393Z",
     "iopub.status.busy": "2024-05-25T11:22:55.648393Z",
     "iopub.status.idle": "2024-05-25T11:22:55.662430Z",
     "shell.execute_reply": "2024-05-25T11:22:55.661401Z",
     "shell.execute_reply.started": "2024-05-25T11:22:55.648393Z"
    }
   },
   "outputs": [],
   "source": [
    "# the logistic loss function is defined as follows,"
   ]
  },
  {
   "cell_type": "markdown",
   "id": "4a7565c1-45fd-4639-9d6f-b5aa678c7486",
   "metadata": {},
   "source": [
    "# ___$l(f_{\\overrightarrow{w}, b}(\\overrightarrow{x_i}), y_i) = \n",
    "\\begin{cases}\n",
    "-log(f_{\\overrightarrow{w}, b}(\\overrightarrow{x_i}))~~~~~~~~~~~\\text{if}~~ y_i = 1\\\\              \n",
    "-log(1 - f_{\\overrightarrow{w}, b}(\\overrightarrow{x_i}))~~~~\\text{if}~~ y_i = 0\\\n",
    "\\end{cases}\n",
    "$___"
   ]
  },
  {
   "cell_type": "code",
   "execution_count": 150,
   "id": "93296c46-db3c-4a42-8bbf-3bf140ace2dd",
   "metadata": {
    "execution": {
     "iopub.execute_input": "2024-05-25T11:29:12.511585Z",
     "iopub.status.busy": "2024-05-25T11:29:12.511585Z",
     "iopub.status.idle": "2024-05-25T11:29:12.514685Z",
     "shell.execute_reply": "2024-05-25T11:29:12.514685Z",
     "shell.execute_reply.started": "2024-05-25T11:29:12.511585Z"
    }
   },
   "outputs": [],
   "source": [
    "# since we are still discussing a binary classification problem, the prediction can either be 0 or 1!\n",
    "# the above equation can be rewrittenas follows,"
   ]
  },
  {
   "cell_type": "markdown",
   "id": "ed268e04-8bce-4197-a7f8-b2da979fc32f",
   "metadata": {},
   "source": [
    "# ___$l(f_{\\overrightarrow{w}, b}(\\overrightarrow{x_i}), y_i) = -y_i \\times log(f_{\\overrightarrow{w}, b}(\\overrightarrow{x_i})) - (1 - y_i) \\times log(1 - f_{\\overrightarrow{w}, b}(\\overrightarrow{x_i}))$___"
   ]
  },
  {
   "cell_type": "code",
   "execution_count": 151,
   "id": "9a94c50e-e4ff-4387-ad19-6dbec038df0a",
   "metadata": {
    "execution": {
     "iopub.execute_input": "2024-05-25T11:36:26.564651Z",
     "iopub.status.busy": "2024-05-25T11:36:26.564651Z",
     "iopub.status.idle": "2024-05-25T11:36:26.576819Z",
     "shell.execute_reply": "2024-05-25T11:36:26.576819Z",
     "shell.execute_reply.started": "2024-05-25T11:36:26.564651Z"
    }
   },
   "outputs": [],
   "source": [
    "# to prepare a singular equation from the above, we need to make the complementary expression evaluate to 0 when the opposite predicate is true\n",
    "# if we were to combine these two expressions,\n",
    "# when y_i = 1, we want the conditional expression for y_i = 0 to evaluate to nothing\n",
    "# and vice versa"
   ]
  },
  {
   "cell_type": "code",
   "execution_count": 152,
   "id": "c6fde9ad-fd13-486c-9658-6fa863b96f0c",
   "metadata": {
    "execution": {
     "iopub.execute_input": "2024-05-25T11:36:28.893329Z",
     "iopub.status.busy": "2024-05-25T11:36:28.893329Z",
     "iopub.status.idle": "2024-05-25T11:36:28.901624Z",
     "shell.execute_reply": "2024-05-25T11:36:28.901624Z",
     "shell.execute_reply.started": "2024-05-25T11:36:28.893329Z"
    }
   },
   "outputs": [],
   "source": [
    "# when y_i = 0, we can multiply the y_i = 1 conditional expression by y_i to cancel it out,\n",
    "# and we can multiply y_i = 0 conditional by (1 - y_i) as it won't affect anything"
   ]
  },
  {
   "cell_type": "markdown",
   "id": "ce350a3c-961b-451d-8c4d-7d56b14d266c",
   "metadata": {},
   "source": [
    "# ___$-y_i~log(f_{\\overrightarrow{w}, b}(\\overrightarrow{x_i})) -(1 - y_i)~log(1 - f_{\\overrightarrow{w}, b}(\\overrightarrow{x_i}))$___"
   ]
  },
  {
   "cell_type": "code",
   "execution_count": 153,
   "id": "14bd1f51-e2cb-48f8-b01c-b56badd30737",
   "metadata": {
    "execution": {
     "iopub.execute_input": "2024-05-25T11:39:22.859430Z",
     "iopub.status.busy": "2024-05-25T11:39:22.859430Z",
     "iopub.status.idle": "2024-05-25T11:39:22.870402Z",
     "shell.execute_reply": "2024-05-25T11:39:22.870260Z",
     "shell.execute_reply.started": "2024-05-25T11:39:22.859430Z"
    }
   },
   "outputs": [],
   "source": [
    "# when y_i = 1, we can make the conditional expression for y_i = 0 disappear by multiplying it by (1 - y_i) which is 0 when y_i = 1\n",
    "# and the y_i = 1 conditional by y_i as it will not make any difference,"
   ]
  },
  {
   "cell_type": "markdown",
   "id": "15a1b7dc-4d95-4233-8d02-e20869cd9373",
   "metadata": {},
   "source": [
    "# ___$-y_i~log(f_{\\overrightarrow{w}, b}(\\overrightarrow{x_i})) -(1 - y_i)~log(1 - f_{\\overrightarrow{w}, b}(\\overrightarrow{x_i}))$___"
   ]
  },
  {
   "cell_type": "code",
   "execution_count": 3,
   "id": "ef4a3ff5-6e1b-4def-8459-38c90bda9aef",
   "metadata": {
    "execution": {
     "iopub.execute_input": "2024-05-26T00:17:07.535110Z",
     "iopub.status.busy": "2024-05-26T00:17:07.535110Z",
     "iopub.status.idle": "2024-05-26T00:17:07.546121Z",
     "shell.execute_reply": "2024-05-26T00:17:07.546121Z",
     "shell.execute_reply.started": "2024-05-26T00:17:07.535110Z"
    }
   },
   "outputs": [],
   "source": [
    "# now we have gotten a single equation that works for both situations :)\n",
    "# we can now use this simplified loss function to develop a simpler cost function!"
   ]
  },
  {
   "cell_type": "markdown",
   "id": "96c6ea5c-600d-423b-8892-f4175f41fa2a",
   "metadata": {},
   "source": [
    "# ___$j(\\overrightarrow{w},b) = \\frac{1}{N}\\sum_{i=0}^{N} -y_i~log(f_{\\overrightarrow{w}, b}(\\overrightarrow{x_i})) -(1 - y_i)~log(1 - f_{\\overrightarrow{w}, b}(\\overrightarrow{x_i}))$___"
   ]
  },
  {
   "cell_type": "markdown",
   "id": "c5e0b1bf-7dc4-472f-be1b-2a4b051ceead",
   "metadata": {},
   "source": [
    "# ___$j(\\overrightarrow{w},b) = -\\frac{1}{N}\\sum_{i=0}^{N} y_i~log(f_{\\overrightarrow{w}, b}(\\overrightarrow{x_i})) + (1 - y_i)~log(1 - f_{\\overrightarrow{w}, b}(\\overrightarrow{x_i}))$___"
   ]
  },
  {
   "cell_type": "code",
   "execution_count": 4,
   "id": "dff3208b-b56e-4225-9c12-3c984875cdb3",
   "metadata": {
    "execution": {
     "iopub.execute_input": "2024-05-26T00:22:37.116687Z",
     "iopub.status.busy": "2024-05-26T00:22:37.116687Z",
     "iopub.status.idle": "2024-05-26T00:22:37.126189Z",
     "shell.execute_reply": "2024-05-26T00:22:37.126189Z",
     "shell.execute_reply.started": "2024-05-26T00:22:37.116687Z"
    }
   },
   "outputs": [],
   "source": [
    "# the above is a convex function, so will be conducive to gradient descent"
   ]
  },
  {
   "cell_type": "code",
   "execution_count": null,
   "id": "2258dcd4-2941-4285-8cf0-d3cc6873130d",
   "metadata": {},
   "outputs": [],
   "source": []
  }
 ],
 "metadata": {
  "kernelspec": {
   "display_name": "Python 3 (ipykernel)",
   "language": "python",
   "name": "python3"
  },
  "language_info": {
   "codemirror_mode": {
    "name": "ipython",
    "version": 3
   },
   "file_extension": ".py",
   "mimetype": "text/x-python",
   "name": "python",
   "nbconvert_exporter": "python",
   "pygments_lexer": "ipython3",
   "version": "3.12.3"
  }
 },
 "nbformat": 4,
 "nbformat_minor": 5
}
