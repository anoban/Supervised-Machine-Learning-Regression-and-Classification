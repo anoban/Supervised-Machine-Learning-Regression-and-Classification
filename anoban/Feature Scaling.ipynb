{
 "cells": [
  {
   "cell_type": "code",
   "execution_count": 1,
   "id": "68c1c706-d29c-48c8-bca1-96370f821f3e",
   "metadata": {
    "execution": {
     "iopub.execute_input": "2024-04-18T14:40:50.784611Z",
     "iopub.status.busy": "2024-04-18T14:40:50.784611Z",
     "iopub.status.idle": "2024-04-18T14:40:52.125521Z",
     "shell.execute_reply": "2024-04-18T14:40:52.125521Z",
     "shell.execute_reply.started": "2024-04-18T14:40:50.784611Z"
    }
   },
   "outputs": [],
   "source": [
    "import numpy as np\n",
    "import pandas as pd"
   ]
  },
  {
   "cell_type": "code",
   "execution_count": null,
   "id": "84bfea49-8d8d-4006-a989-8b4ddcd5765a",
   "metadata": {},
   "outputs": [],
   "source": []
  }
 ],
 "metadata": {
  "kernelspec": {
   "display_name": "Python 3 (ipykernel)",
   "language": "python",
   "name": "python3"
  },
  "language_info": {
   "codemirror_mode": {
    "name": "ipython",
    "version": 3
   },
   "file_extension": ".py",
   "mimetype": "text/x-python",
   "name": "python",
   "nbconvert_exporter": "python",
   "pygments_lexer": "ipython3",
   "version": "3.12.3"
  }
 },
 "nbformat": 4,
 "nbformat_minor": 5
}
