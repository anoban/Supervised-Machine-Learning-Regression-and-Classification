{
 "cells": [
  {
   "cell_type": "markdown",
   "id": "44f2f85a-0103-4f2f-895e-36de0fc765c1",
   "metadata": {},
   "source": [
    "# ___Regularization___\n",
    "-------------------------"
   ]
  },
  {
   "cell_type": "code",
   "execution_count": 2,
   "id": "a217c6c6-de62-4e44-8c8c-a512a4ebf662",
   "metadata": {
    "execution": {
     "iopub.execute_input": "2024-05-26T08:50:08.169606Z",
     "iopub.status.busy": "2024-05-26T08:50:08.169606Z",
     "iopub.status.idle": "2024-05-26T08:50:08.176358Z",
     "shell.execute_reply": "2024-05-26T08:50:08.176358Z",
     "shell.execute_reply.started": "2024-05-26T08:50:08.169606Z"
    }
   },
   "outputs": [],
   "source": [
    "# regularization is used to mitigate overfitting in ML models\n",
    "# there are in fact several approaches to reduce overfitting in ML models\n",
    "\n",
    "# 1) get more training data\n",
    "# 2) leverage feature engineering, cherrypick the most pertinent features and try culling noise and redundancy\n",
    "# 3) apply regularization"
   ]
  },
  {
   "cell_type": "code",
   "execution_count": 3,
   "id": "d5011f88-886b-4c90-89e8-056faa39fe4c",
   "metadata": {
    "execution": {
     "iopub.execute_input": "2024-05-26T09:01:11.785856Z",
     "iopub.status.busy": "2024-05-26T09:01:11.785856Z",
     "iopub.status.idle": "2024-05-26T09:01:11.799403Z",
     "shell.execute_reply": "2024-05-26T09:01:11.799403Z",
     "shell.execute_reply.started": "2024-05-26T09:01:11.785856Z"
    }
   },
   "outputs": [],
   "source": [
    "# one drawback of feature selection is that we might loose some valuable information in the training data\n",
    "# it'd be better if we could control how much influence each feature exerts on the prediction, so we could selectively minimize the influence\n",
    "# of less relevant predictors"
   ]
  },
  {
   "cell_type": "code",
   "execution_count": null,
   "id": "ed9cac1e-cafe-4f1d-8b18-fac5e4c643af",
   "metadata": {},
   "outputs": [],
   "source": []
  },
  {
   "cell_type": "code",
   "execution_count": 4,
   "id": "8895f617-ae0c-42af-99dd-1ce6a62fbed1",
   "metadata": {
    "execution": {
     "iopub.execute_input": "2024-05-26T09:01:42.869632Z",
     "iopub.status.busy": "2024-05-26T09:01:42.868540Z",
     "iopub.status.idle": "2024-05-26T09:01:42.872244Z",
     "shell.execute_reply": "2024-05-26T09:01:42.872244Z",
     "shell.execute_reply.started": "2024-05-26T09:01:42.869632Z"
    }
   },
   "outputs": [],
   "source": [
    "# imagine the following model,"
   ]
  },
  {
   "cell_type": "markdown",
   "id": "cfd55dea-3624-4514-ab2d-15773bf6602b",
   "metadata": {},
   "source": [
    "# ___$f(x) = 23.76 x_0 - 879.35 x_2 + 35.987 x_3^2 - 5.76 x_4^{4.564} + 564.763$___"
   ]
  },
  {
   "cell_type": "code",
   "execution_count": 5,
   "id": "f5d26674-63dc-4960-aa6e-e56a0f7310ce",
   "metadata": {
    "execution": {
     "iopub.execute_input": "2024-05-26T09:05:47.398683Z",
     "iopub.status.busy": "2024-05-26T09:05:47.398683Z",
     "iopub.status.idle": "2024-05-26T09:05:47.409303Z",
     "shell.execute_reply": "2024-05-26T09:05:47.409303Z",
     "shell.execute_reply.started": "2024-05-26T09:05:47.398683Z"
    }
   },
   "outputs": [],
   "source": [
    "# when we use feature selection, we remove a feature completely\n",
    "# this is equivalent to setting its coefficient to 0.00\n",
    "# i.e if we wanted to remove the feature x_4, we'd change 5.76 to 0.00"
   ]
  },
  {
   "cell_type": "markdown",
   "id": "84282ee3-2ef6-4804-b434-267c2deaaab0",
   "metadata": {},
   "source": [
    "# ___$f(x) = 23.76 x_0 - 879.35 x_2 + 35.987 x_3^2 - 0.00 x_4^{4.564} + 564.763$___\n",
    "# ___$f(x) = 23.76 x_0 - 879.35 x_2 + 35.987 x_3^2 + 564.763$___"
   ]
  },
  {
   "cell_type": "code",
   "execution_count": 6,
   "id": "051f4eaf-83a1-4606-8683-1ce3f687d3c8",
   "metadata": {
    "execution": {
     "iopub.execute_input": "2024-05-26T09:08:35.227235Z",
     "iopub.status.busy": "2024-05-26T09:08:35.227235Z",
     "iopub.status.idle": "2024-05-26T09:08:35.237203Z",
     "shell.execute_reply": "2024-05-26T09:08:35.236633Z",
     "shell.execute_reply.started": "2024-05-26T09:08:35.227235Z"
    }
   },
   "outputs": [],
   "source": [
    "# regularization helps us minimize the influence of such features without completely eliminating them!\n",
    "# regularization forces the model to shrink the coefficents without demanding them to be set to 0.00"
   ]
  },
  {
   "cell_type": "code",
   "execution_count": 7,
   "id": "87b8b166-b442-4f48-8f04-8ec5fea2278f",
   "metadata": {
    "execution": {
     "iopub.execute_input": "2024-05-26T09:11:30.170804Z",
     "iopub.status.busy": "2024-05-26T09:11:30.170804Z",
     "iopub.status.idle": "2024-05-26T09:11:30.183791Z",
     "shell.execute_reply": "2024-05-26T09:11:30.182066Z",
     "shell.execute_reply.started": "2024-05-26T09:11:30.170804Z"
    }
   },
   "outputs": [],
   "source": [
    "# regularization can be applied to both the weights and the bias term, but conventionally it is used mainly for the weight terms!"
   ]
  },
  {
   "cell_type": "code",
   "execution_count": null,
   "id": "1448734a-e5fc-415c-9f80-0fb0c4e92ec1",
   "metadata": {},
   "outputs": [],
   "source": []
  },
  {
   "cell_type": "code",
   "execution_count": 8,
   "id": "e553a395-832c-4825-a4e3-492e4d7e25b1",
   "metadata": {
    "execution": {
     "iopub.execute_input": "2024-05-26T09:14:40.833931Z",
     "iopub.status.busy": "2024-05-26T09:14:40.833931Z",
     "iopub.status.idle": "2024-05-26T09:14:40.841959Z",
     "shell.execute_reply": "2024-05-26T09:14:40.839825Z",
     "shell.execute_reply.started": "2024-05-26T09:14:40.833931Z"
    }
   },
   "outputs": [],
   "source": [
    "# imagine a situation where we have 2 polynomial models,"
   ]
  },
  {
   "cell_type": "markdown",
   "id": "60ad7a12-25e2-4e77-a5f3-82ac02756436",
   "metadata": {},
   "source": [
    "# ___$f_{\\overrightarrow{w}, b}(\\overrightarrow{x}) = w_1x_1 + w_2x_2^2 + w_3x_3^3 + b  \\rightarrow (1)$___\n",
    "# ___$f_{\\overrightarrow{w}, b}(\\overrightarrow{x}) = w_1x_1 + w_2x_2^2 + w_3x_3 + w_4x_{4.15} + w_5x_x^{6.54} + b \\rightarrow (2)$___"
   ]
  },
  {
   "cell_type": "code",
   "execution_count": 9,
   "id": "be6a56b5-4dee-4550-94de-2e4c96cd8094",
   "metadata": {
    "execution": {
     "iopub.execute_input": "2024-05-26T09:20:08.504971Z",
     "iopub.status.busy": "2024-05-26T09:20:08.504971Z",
     "iopub.status.idle": "2024-05-26T09:20:08.512534Z",
     "shell.execute_reply": "2024-05-26T09:20:08.511465Z",
     "shell.execute_reply.started": "2024-05-26T09:20:08.504971Z"
    }
   },
   "outputs": [],
   "source": [
    "# let's say that model (1) makes poor predictions due to underfitting and model (2) makes poor predictions due to overfitting\n",
    "# this means features x1, x2, x3 are not enough\n",
    "# but x4 and x5 is too much"
   ]
  },
  {
   "cell_type": "code",
   "execution_count": 10,
   "id": "df930e2a-2183-4c44-a5b2-55111caff0b3",
   "metadata": {
    "execution": {
     "iopub.execute_input": "2024-05-26T09:20:56.884394Z",
     "iopub.status.busy": "2024-05-26T09:20:56.884394Z",
     "iopub.status.idle": "2024-05-26T09:20:56.897388Z",
     "shell.execute_reply": "2024-05-26T09:20:56.896426Z",
     "shell.execute_reply.started": "2024-05-26T09:20:56.884394Z"
    }
   },
   "outputs": [],
   "source": [
    "# we need to come up with a strategy that could minimize the influence of x4 and x5 in our predictions!\n",
    "# consider the following cost function,"
   ]
  },
  {
   "cell_type": "markdown",
   "id": "eb9a5cd6-5e29-4caa-99d3-ad88095804f5",
   "metadata": {},
   "source": [
    "# ___$j(\\overrightarrow{w}, b) = \\frac{1}{2N} \\sum_{i = 0}^{N} (f_{\\overrightarrow{w}, b}(\\overrightarrow{x_i}) - y_i)^2 + 1000 w_4^2 + 4587 w_5^2$___"
   ]
  },
  {
   "cell_type": "code",
   "execution_count": 12,
   "id": "6e78f22e-4fd8-48aa-9727-ee6d5ff3e8f6",
   "metadata": {
    "execution": {
     "iopub.execute_input": "2024-05-26T09:26:41.858024Z",
     "iopub.status.busy": "2024-05-26T09:26:41.858024Z",
     "iopub.status.idle": "2024-05-26T09:26:41.871088Z",
     "shell.execute_reply": "2024-05-26T09:26:41.871088Z",
     "shell.execute_reply.started": "2024-05-26T09:26:41.858024Z"
    }
   },
   "outputs": [],
   "source": [
    "# this cost function will tax the model, when w_4 and w_5 are high, because when these values are high, the cost will be very high as these weights\n",
    "# get squared and multiplied by very large numbers\n",
    "# this will make the model move towards smaller values for w_4 and w_5!\n",
    "# hence, the model will settle for very small yet non-zero values for these higher order polynomials!"
   ]
  },
  {
   "cell_type": "code",
   "execution_count": 13,
   "id": "a2272030-8b8d-4240-8637-8f1093e1bec6",
   "metadata": {
    "execution": {
     "iopub.execute_input": "2024-05-26T09:29:01.640263Z",
     "iopub.status.busy": "2024-05-26T09:29:01.640263Z",
     "iopub.status.idle": "2024-05-26T09:29:01.647901Z",
     "shell.execute_reply": "2024-05-26T09:29:01.647506Z",
     "shell.execute_reply.started": "2024-05-26T09:29:01.640263Z"
    }
   },
   "outputs": [],
   "source": [
    "# in reality, models do not cherrypick features for penalization,\n",
    "# coefficients of all features will be penalized during the gradient descent!"
   ]
  },
  {
   "cell_type": "code",
   "execution_count": null,
   "id": "b11a8567-aede-4729-9dad-967531e9134f",
   "metadata": {},
   "outputs": [],
   "source": []
  },
  {
   "cell_type": "code",
   "execution_count": 15,
   "id": "42f33d19-c6cf-40b2-ae4d-f661d9efbaed",
   "metadata": {
    "execution": {
     "iopub.execute_input": "2024-05-26T09:34:16.150809Z",
     "iopub.status.busy": "2024-05-26T09:34:16.150809Z",
     "iopub.status.idle": "2024-05-26T09:34:16.162264Z",
     "shell.execute_reply": "2024-05-26T09:34:16.161815Z",
     "shell.execute_reply.started": "2024-05-26T09:34:16.150809Z"
    }
   },
   "outputs": [],
   "source": [
    "# imagine a model with M features and N records,"
   ]
  },
  {
   "cell_type": "markdown",
   "id": "bbe1f9ad-d806-49af-95bc-c072c0cce265",
   "metadata": {},
   "source": [
    "# ___$j(\\overrightarrow{w}, b) = \\frac{1}{2N} \\sum_{i = 1}^{N} (f_{\\overrightarrow{w}, b}(\\overrightarrow{x_i}) - y_i)^2 + \\frac{\\lambda}{2N} \\sum_{k = 1}^M w_k^2$___"
   ]
  },
  {
   "cell_type": "code",
   "execution_count": 19,
   "id": "6b06d7db-d49b-44dc-a6e5-6affcbb7affb",
   "metadata": {
    "execution": {
     "iopub.execute_input": "2024-05-26T09:38:21.852464Z",
     "iopub.status.busy": "2024-05-26T09:38:21.852464Z",
     "iopub.status.idle": "2024-05-26T09:38:21.861312Z",
     "shell.execute_reply": "2024-05-26T09:38:21.860786Z",
     "shell.execute_reply.started": "2024-05-26T09:38:21.852464Z"
    }
   },
   "outputs": [],
   "source": [
    "# lambda is called the regularization paramter\n",
    "# similar to the learning rate alpha, the lambda needs to be choosen by the user"
   ]
  },
  {
   "cell_type": "code",
   "execution_count": 20,
   "id": "be6fb4da-2d96-4506-a77c-2831978f33a0",
   "metadata": {
    "execution": {
     "iopub.execute_input": "2024-05-26T09:38:23.854609Z",
     "iopub.status.busy": "2024-05-26T09:38:23.854609Z",
     "iopub.status.idle": "2024-05-26T09:38:23.860971Z",
     "shell.execute_reply": "2024-05-26T09:38:23.860971Z",
     "shell.execute_reply.started": "2024-05-26T09:38:23.854609Z"
    }
   },
   "outputs": [],
   "source": [
    "# both the cost and the regularization term get scaled by 1/2N\n",
    "# using the same denominator helps maintain the values closer."
   ]
  },
  {
   "cell_type": "code",
   "execution_count": 18,
   "id": "92fe52ca-44e8-4148-bf08-23cfa184987e",
   "metadata": {
    "execution": {
     "iopub.execute_input": "2024-05-26T09:37:43.457810Z",
     "iopub.status.busy": "2024-05-26T09:37:43.457810Z",
     "iopub.status.idle": "2024-05-26T09:37:43.466952Z",
     "shell.execute_reply": "2024-05-26T09:37:43.466850Z",
     "shell.execute_reply.started": "2024-05-26T09:37:43.457810Z"
    }
   },
   "outputs": [],
   "source": [
    "# in the above equation, we chose not to penalize the bias term!"
   ]
  },
  {
   "cell_type": "markdown",
   "id": "71c47ad9-3438-4e8b-a6bf-305b23f6f283",
   "metadata": {},
   "source": [
    "# ___$\\frac{\\lambda}{2N} \\sum_{k = 1}^M w_k^2$___"
   ]
  },
  {
   "cell_type": "code",
   "execution_count": 21,
   "id": "d252480d-ad81-481a-bd7a-4111983ccd91",
   "metadata": {
    "execution": {
     "iopub.execute_input": "2024-05-26T09:38:51.243866Z",
     "iopub.status.busy": "2024-05-26T09:38:51.243866Z",
     "iopub.status.idle": "2024-05-26T09:38:51.251881Z",
     "shell.execute_reply": "2024-05-26T09:38:51.251298Z",
     "shell.execute_reply.started": "2024-05-26T09:38:51.243866Z"
    }
   },
   "outputs": [],
   "source": [
    "# the above is called the regularization term\n",
    "# when lambda is 0, there will be no regularization and the model will fall back to overfitting the data\n",
    "# with an extremely high labmbda, all the weights will be reduced to a near zero value and the model may start to undefit the data!"
   ]
  },
  {
   "cell_type": "code",
   "execution_count": null,
   "id": "dc59a2ee-a48e-477e-bf3f-983f524a93e4",
   "metadata": {},
   "outputs": [],
   "source": []
  }
 ],
 "metadata": {
  "kernelspec": {
   "display_name": "Python 3 (ipykernel)",
   "language": "python",
   "name": "python3"
  },
  "language_info": {
   "codemirror_mode": {
    "name": "ipython",
    "version": 3
   },
   "file_extension": ".py",
   "mimetype": "text/x-python",
   "name": "python",
   "nbconvert_exporter": "python",
   "pygments_lexer": "ipython3",
   "version": "3.12.3"
  }
 },
 "nbformat": 4,
 "nbformat_minor": 5
}
